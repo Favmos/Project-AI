{
 "cells": [
  {
   "cell_type": "markdown",
   "metadata": {
    "id": "6jVEEd-uBkHB"
   },
   "source": [
    "# Phishing URL Detection\n"
   ]
  },
  {
   "cell_type": "markdown",
   "metadata": {
    "id": "nJpRU_5ODlwl"
   },
   "source": [
    "## Modules dan Packages"
   ]
  },
  {
   "cell_type": "code",
   "execution_count": 1,
   "metadata": {},
   "outputs": [
    {
     "name": "stdout",
     "output_type": "stream",
     "text": [
      "Requirement already satisfied: matplotlib in c:\\users\\hilya\\anaconda3\\lib\\site-packages (3.7.0)\n",
      "Requirement already satisfied: cycler>=0.10 in c:\\users\\hilya\\anaconda3\\lib\\site-packages (from matplotlib) (0.11.0)\n",
      "Requirement already satisfied: pillow>=6.2.0 in c:\\users\\hilya\\anaconda3\\lib\\site-packages (from matplotlib) (9.4.0)\n",
      "Requirement already satisfied: python-dateutil>=2.7 in c:\\users\\hilya\\anaconda3\\lib\\site-packages (from matplotlib) (2.8.2)\n",
      "Requirement already satisfied: fonttools>=4.22.0 in c:\\users\\hilya\\anaconda3\\lib\\site-packages (from matplotlib) (4.25.0)\n",
      "Requirement already satisfied: packaging>=20.0 in c:\\users\\hilya\\anaconda3\\lib\\site-packages (from matplotlib) (22.0)\n",
      "Requirement already satisfied: pyparsing>=2.3.1 in c:\\users\\hilya\\anaconda3\\lib\\site-packages (from matplotlib) (3.0.9)\n",
      "Requirement already satisfied: numpy>=1.20 in c:\\users\\hilya\\anaconda3\\lib\\site-packages (from matplotlib) (1.23.5)\n",
      "Requirement already satisfied: contourpy>=1.0.1 in c:\\users\\hilya\\anaconda3\\lib\\site-packages (from matplotlib) (1.0.5)\n",
      "Requirement already satisfied: kiwisolver>=1.0.1 in c:\\users\\hilya\\anaconda3\\lib\\site-packages (from matplotlib) (1.4.4)\n",
      "Requirement already satisfied: six>=1.5 in c:\\users\\hilya\\anaconda3\\lib\\site-packages (from python-dateutil>=2.7->matplotlib) (1.16.0)\n",
      "Requirement already satisfied: seaborn in c:\\users\\hilya\\anaconda3\\lib\\site-packages (0.12.2)\n",
      "Requirement already satisfied: numpy!=1.24.0,>=1.17 in c:\\users\\hilya\\anaconda3\\lib\\site-packages (from seaborn) (1.23.5)\n",
      "Requirement already satisfied: pandas>=0.25 in c:\\users\\hilya\\anaconda3\\lib\\site-packages (from seaborn) (1.5.3)\n",
      "Requirement already satisfied: matplotlib!=3.6.1,>=3.1 in c:\\users\\hilya\\anaconda3\\lib\\site-packages (from seaborn) (3.7.0)\n",
      "Requirement already satisfied: fonttools>=4.22.0 in c:\\users\\hilya\\anaconda3\\lib\\site-packages (from matplotlib!=3.6.1,>=3.1->seaborn) (4.25.0)\n",
      "Requirement already satisfied: contourpy>=1.0.1 in c:\\users\\hilya\\anaconda3\\lib\\site-packages (from matplotlib!=3.6.1,>=3.1->seaborn) (1.0.5)\n",
      "Requirement already satisfied: kiwisolver>=1.0.1 in c:\\users\\hilya\\anaconda3\\lib\\site-packages (from matplotlib!=3.6.1,>=3.1->seaborn) (1.4.4)\n",
      "Requirement already satisfied: packaging>=20.0 in c:\\users\\hilya\\anaconda3\\lib\\site-packages (from matplotlib!=3.6.1,>=3.1->seaborn) (22.0)\n",
      "Requirement already satisfied: pyparsing>=2.3.1 in c:\\users\\hilya\\anaconda3\\lib\\site-packages (from matplotlib!=3.6.1,>=3.1->seaborn) (3.0.9)\n",
      "Requirement already satisfied: pillow>=6.2.0 in c:\\users\\hilya\\anaconda3\\lib\\site-packages (from matplotlib!=3.6.1,>=3.1->seaborn) (9.4.0)\n",
      "Requirement already satisfied: python-dateutil>=2.7 in c:\\users\\hilya\\anaconda3\\lib\\site-packages (from matplotlib!=3.6.1,>=3.1->seaborn) (2.8.2)\n",
      "Requirement already satisfied: cycler>=0.10 in c:\\users\\hilya\\anaconda3\\lib\\site-packages (from matplotlib!=3.6.1,>=3.1->seaborn) (0.11.0)\n",
      "Requirement already satisfied: pytz>=2020.1 in c:\\users\\hilya\\anaconda3\\lib\\site-packages (from pandas>=0.25->seaborn) (2022.7)\n",
      "Requirement already satisfied: six>=1.5 in c:\\users\\hilya\\anaconda3\\lib\\site-packages (from python-dateutil>=2.7->matplotlib!=3.6.1,>=3.1->seaborn) (1.16.0)\n"
     ]
    }
   ],
   "source": [
    "!pip install matplotlib\n",
    "!pip install seaborn"
   ]
  },
  {
   "cell_type": "code",
   "execution_count": 2,
   "metadata": {
    "executionInfo": {
     "elapsed": 3980,
     "status": "ok",
     "timestamp": 1684887930291,
     "user": {
      "displayName": "HILYA ANBIYANI",
      "userId": "16755705413992361832"
     },
     "user_tz": -420
    },
    "id": "0jGNm_cAByPR",
    "scrolled": true
   },
   "outputs": [],
   "source": [
    "import pandas as pd\n",
    "import numpy as np\n",
    "import matplotlib.pyplot as plt\n",
    "import seaborn as sns  \n",
    "import time \n",
    "\n",
    "from sklearn.metrics import classification_report\n",
    "from sklearn.metrics import confusion_matrix\n",
    "from nltk.stem.snowball import SnowballStemmer\n",
    "\n",
    "from PIL import Image\n",
    "import joblib\n",
    "import pickle"
   ]
  },
  {
   "cell_type": "code",
   "execution_count": 3,
   "metadata": {
    "executionInfo": {
     "elapsed": 1434,
     "status": "ok",
     "timestamp": 1684889694524,
     "user": {
      "displayName": "HILYA ANBIYANI",
      "userId": "16755705413992361832"
     },
     "user_tz": -420
    },
    "id": "UP3hukhJDM2B"
   },
   "outputs": [],
   "source": [
    "data = pd.read_csv(\"phishing_site_urls.csv\")"
   ]
  },
  {
   "cell_type": "markdown",
   "metadata": {
    "id": "NIdQC_OODcXH"
   },
   "source": [
    "## Exploratory Data Analysis (EDA)"
   ]
  },
  {
   "cell_type": "code",
   "execution_count": 4,
   "metadata": {
    "colab": {
     "base_uri": "https://localhost:8080/",
     "height": 206
    },
    "executionInfo": {
     "elapsed": 478,
     "status": "ok",
     "timestamp": 1684889696636,
     "user": {
      "displayName": "HILYA ANBIYANI",
      "userId": "16755705413992361832"
     },
     "user_tz": -420
    },
    "id": "kOWeGxOTDqyD",
    "outputId": "6c6b05e0-a93d-4bfb-ea5f-4d91c1244568"
   },
   "outputs": [
    {
     "data": {
      "text/html": [
       "<div>\n",
       "<style scoped>\n",
       "    .dataframe tbody tr th:only-of-type {\n",
       "        vertical-align: middle;\n",
       "    }\n",
       "\n",
       "    .dataframe tbody tr th {\n",
       "        vertical-align: top;\n",
       "    }\n",
       "\n",
       "    .dataframe thead th {\n",
       "        text-align: right;\n",
       "    }\n",
       "</style>\n",
       "<table border=\"1\" class=\"dataframe\">\n",
       "  <thead>\n",
       "    <tr style=\"text-align: right;\">\n",
       "      <th></th>\n",
       "      <th>URL</th>\n",
       "      <th>Label</th>\n",
       "    </tr>\n",
       "  </thead>\n",
       "  <tbody>\n",
       "    <tr>\n",
       "      <th>0</th>\n",
       "      <td>nobell.it/70ffb52d079109dca5664cce6f317373782/...</td>\n",
       "      <td>bad</td>\n",
       "    </tr>\n",
       "    <tr>\n",
       "      <th>1</th>\n",
       "      <td>www.dghjdgf.com/paypal.co.uk/cycgi-bin/webscrc...</td>\n",
       "      <td>bad</td>\n",
       "    </tr>\n",
       "    <tr>\n",
       "      <th>2</th>\n",
       "      <td>serviciosbys.com/paypal.cgi.bin.get-into.herf....</td>\n",
       "      <td>bad</td>\n",
       "    </tr>\n",
       "    <tr>\n",
       "      <th>3</th>\n",
       "      <td>mail.printakid.com/www.online.americanexpress....</td>\n",
       "      <td>bad</td>\n",
       "    </tr>\n",
       "    <tr>\n",
       "      <th>4</th>\n",
       "      <td>thewhiskeydregs.com/wp-content/themes/widescre...</td>\n",
       "      <td>bad</td>\n",
       "    </tr>\n",
       "  </tbody>\n",
       "</table>\n",
       "</div>"
      ],
      "text/plain": [
       "                                                 URL Label\n",
       "0  nobell.it/70ffb52d079109dca5664cce6f317373782/...   bad\n",
       "1  www.dghjdgf.com/paypal.co.uk/cycgi-bin/webscrc...   bad\n",
       "2  serviciosbys.com/paypal.cgi.bin.get-into.herf....   bad\n",
       "3  mail.printakid.com/www.online.americanexpress....   bad\n",
       "4  thewhiskeydregs.com/wp-content/themes/widescre...   bad"
      ]
     },
     "execution_count": 4,
     "metadata": {},
     "output_type": "execute_result"
    }
   ],
   "source": [
    "data.head()"
   ]
  },
  {
   "cell_type": "code",
   "execution_count": 5,
   "metadata": {
    "colab": {
     "base_uri": "https://localhost:8080/"
    },
    "executionInfo": {
     "elapsed": 28,
     "status": "ok",
     "timestamp": 1684887946618,
     "user": {
      "displayName": "HILYA ANBIYANI",
      "userId": "16755705413992361832"
     },
     "user_tz": -420
    },
    "id": "GGcpWoXt-Egl",
    "outputId": "39d87939-1028-4cf9-fdee-c15a6f83e437"
   },
   "outputs": [
    {
     "data": {
      "text/plain": [
       "(549346, 2)"
      ]
     },
     "execution_count": 5,
     "metadata": {},
     "output_type": "execute_result"
    }
   ],
   "source": [
    "data.shape"
   ]
  },
  {
   "cell_type": "code",
   "execution_count": 6,
   "metadata": {
    "colab": {
     "base_uri": "https://localhost:8080/"
    },
    "executionInfo": {
     "elapsed": 657,
     "status": "ok",
     "timestamp": 1684887947251,
     "user": {
      "displayName": "HILYA ANBIYANI",
      "userId": "16755705413992361832"
     },
     "user_tz": -420
    },
    "id": "oWlpuzPXDydm",
    "outputId": "b8c49d8c-3bec-45c8-d5de-f1d0e5cdf331"
   },
   "outputs": [
    {
     "data": {
      "text/plain": [
       "URL      0\n",
       "Label    0\n",
       "dtype: int64"
      ]
     },
     "execution_count": 6,
     "metadata": {},
     "output_type": "execute_result"
    }
   ],
   "source": [
    "data.isnull().sum()"
   ]
  },
  {
   "cell_type": "code",
   "execution_count": 7,
   "metadata": {
    "colab": {
     "base_uri": "https://localhost:8080/"
    },
    "executionInfo": {
     "elapsed": 21,
     "status": "ok",
     "timestamp": 1684887947252,
     "user": {
      "displayName": "HILYA ANBIYANI",
      "userId": "16755705413992361832"
     },
     "user_tz": -420
    },
    "id": "uLO9WrsM96Ni",
    "outputId": "9b6827ec-5f4c-4ad5-f1c5-adb9b3459fac"
   },
   "outputs": [
    {
     "name": "stdout",
     "output_type": "stream",
     "text": [
      "<class 'pandas.core.frame.DataFrame'>\n",
      "RangeIndex: 549346 entries, 0 to 549345\n",
      "Data columns (total 2 columns):\n",
      " #   Column  Non-Null Count   Dtype \n",
      "---  ------  --------------   ----- \n",
      " 0   URL     549346 non-null  object\n",
      " 1   Label   549346 non-null  object\n",
      "dtypes: object(2)\n",
      "memory usage: 8.4+ MB\n"
     ]
    }
   ],
   "source": [
    "data.info()"
   ]
  },
  {
   "cell_type": "code",
   "execution_count": 8,
   "metadata": {
    "executionInfo": {
     "elapsed": 16,
     "status": "ok",
     "timestamp": 1684887947253,
     "user": {
      "displayName": "HILYA ANBIYANI",
      "userId": "16755705413992361832"
     },
     "user_tz": -420
    },
    "id": "VwBZ37R_POPz"
   },
   "outputs": [],
   "source": [
    "def polaritas(teks):\n",
    "  if teks =='good':\n",
    "    return 1\n",
    "  elif teks =='bad':\n",
    "    return 0"
   ]
  },
  {
   "cell_type": "code",
   "execution_count": 9,
   "metadata": {
    "executionInfo": {
     "elapsed": 832,
     "status": "ok",
     "timestamp": 1684887948071,
     "user": {
      "displayName": "HILYA ANBIYANI",
      "userId": "16755705413992361832"
     },
     "user_tz": -420
    },
    "id": "Z5tNg9_cPWPL"
   },
   "outputs": [],
   "source": [
    "data['label_enc'] = data['Label'].apply(polaritas)"
   ]
  },
  {
   "cell_type": "code",
   "execution_count": 10,
   "metadata": {
    "colab": {
     "base_uri": "https://localhost:8080/"
    },
    "executionInfo": {
     "elapsed": 12,
     "status": "ok",
     "timestamp": 1684887948071,
     "user": {
      "displayName": "HILYA ANBIYANI",
      "userId": "16755705413992361832"
     },
     "user_tz": -420
    },
    "id": "dYb6QduWDykN",
    "outputId": "bebf57dd-a1cd-461d-ec60-ca3139762446"
   },
   "outputs": [
    {
     "name": "stdout",
     "output_type": "stream",
     "text": [
      "Total Jumlah url: 549346 data\n",
      "\n",
      "terdiri dari (label):\n",
      "-- [1] Good\t\t: 0 data\n",
      "-- [0] Bad\t\t: 392924 data\n",
      "\n"
     ]
    }
   ],
   "source": [
    "print('Total Jumlah url:', data.shape[0], 'data\\n')\n",
    "print('terdiri dari (label):')\n",
    "print('-- [1] Good\\t\\t:', data[data.label_enc == -1].shape[0], 'data')\n",
    "print('-- [0] Bad\\t\\t:', data[data.label_enc == 1].shape[0], 'data\\n')"
   ]
  },
  {
   "cell_type": "code",
   "execution_count": 11,
   "metadata": {
    "colab": {
     "base_uri": "https://localhost:8080/",
     "height": 466
    },
    "executionInfo": {
     "elapsed": 1195,
     "status": "ok",
     "timestamp": 1684887949258,
     "user": {
      "displayName": "HILYA ANBIYANI",
      "userId": "16755705413992361832"
     },
     "user_tz": -420
    },
    "id": "HhdNz0-Q-VHR",
    "outputId": "df6efee6-6043-43a2-c5a2-1547398b7078"
   },
   "outputs": [
    {
     "data": {
      "text/plain": [
       "<Axes: xlabel='Label', ylabel='count'>"
      ]
     },
     "execution_count": 11,
     "metadata": {},
     "output_type": "execute_result"
    },
    {
     "data": {
      "image/png": "[encoded data removed]",
      "text/plain": [
       "<Figure size 640x480 with 1 Axes>"
      ]
     },
     "metadata": {},
     "output_type": "display_data"
    }
   ],
   "source": [
    "sns.countplot(x='Label',data=data)"
   ]
  },
  {
   "cell_type": "markdown",
   "metadata": {
    "id": "jeAwJocC_U-1"
   },
   "source": [
    "## Tokenisasi"
   ]
  },
  {
   "cell_type": "code",
   "execution_count": 12,
   "metadata": {
    "executionInfo": {
     "elapsed": 16,
     "status": "ok",
     "timestamp": 1684887949624,
     "user": {
      "displayName": "HILYA ANBIYANI",
      "userId": "16755705413992361832"
     },
     "user_tz": -420
    },
    "id": "N9V3zK44-di_"
   },
   "outputs": [],
   "source": [
    "from nltk.tokenize import RegexpTokenizer  \n",
    "tokenizer = RegexpTokenizer(r'[A-Za-z]+')"
   ]
  },
  {
   "cell_type": "code",
   "execution_count": 13,
   "metadata": {
    "colab": {
     "base_uri": "https://localhost:8080/"
    },
    "executionInfo": {
     "elapsed": 15,
     "status": "ok",
     "timestamp": 1684887949624,
     "user": {
      "displayName": "HILYA ANBIYANI",
      "userId": "16755705413992361832"
     },
     "user_tz": -420
    },
    "id": "yI4ihRNb-v3N",
    "outputId": "be44adf1-2dc6-4c27-ec9a-9fa784ff1ff3"
   },
   "outputs": [
    {
     "data": {
      "text/plain": [
       "['nobell',\n",
       " 'it',\n",
       " 'ffb',\n",
       " 'd',\n",
       " 'dca',\n",
       " 'cce',\n",
       " 'f',\n",
       " 'login',\n",
       " 'SkyPe',\n",
       " 'com',\n",
       " 'en',\n",
       " 'cgi',\n",
       " 'bin',\n",
       " 'verification',\n",
       " 'login',\n",
       " 'ffb',\n",
       " 'd',\n",
       " 'dca',\n",
       " 'cce',\n",
       " 'f',\n",
       " 'index',\n",
       " 'php',\n",
       " 'cmd',\n",
       " 'profile',\n",
       " 'ach',\n",
       " 'outdated',\n",
       " 'page',\n",
       " 'tmpl',\n",
       " 'p',\n",
       " 'gen',\n",
       " 'failed',\n",
       " 'to',\n",
       " 'load',\n",
       " 'nav',\n",
       " 'login',\n",
       " 'access']"
      ]
     },
     "execution_count": 13,
     "metadata": {},
     "output_type": "execute_result"
    }
   ],
   "source": [
    "tokenizer.tokenize(data.URL[0]) # melakukan tokenisasi pada URL pertama di dataset"
   ]
  },
  {
   "cell_type": "code",
   "execution_count": 14,
   "metadata": {
    "colab": {
     "base_uri": "https://localhost:8080/"
    },
    "executionInfo": {
     "elapsed": 7420,
     "status": "ok",
     "timestamp": 1684887957031,
     "user": {
      "displayName": "HILYA ANBIYANI",
      "userId": "16755705413992361832"
     },
     "user_tz": -420
    },
    "id": "3zfw_lOn_EBO",
    "outputId": "653d5c61-baea-4075-ac79-9a7b5e63ab10"
   },
   "outputs": [
    {
     "name": "stdout",
     "output_type": "stream",
     "text": [
      "Getting words tokenized ...\n",
      "Time taken 3.1866594 sec\n"
     ]
    }
   ],
   "source": [
    "# Tokenizing all the rows \n",
    "print('Getting words tokenized ...')\n",
    "t0= time.perf_counter()\n",
    "data['text_tokenized'] = data.URL.map(lambda t: tokenizer.tokenize(t))\n",
    "t1 = time.perf_counter() - t0\n",
    "print('Time taken',t1 ,'sec')"
   ]
  },
  {
   "cell_type": "code",
   "execution_count": 15,
   "metadata": {
    "colab": {
     "base_uri": "https://localhost:8080/",
     "height": 206
    },
    "executionInfo": {
     "elapsed": 99,
     "status": "ok",
     "timestamp": 1684887957035,
     "user": {
      "displayName": "HILYA ANBIYANI",
      "userId": "16755705413992361832"
     },
     "user_tz": -420
    },
    "id": "hXPu0aR2_HxV",
    "outputId": "5f4e3739-d2b3-46d0-b1b3-7f3d561987a4"
   },
   "outputs": [
    {
     "data": {
      "text/html": [
       "<div>\n",
       "<style scoped>\n",
       "    .dataframe tbody tr th:only-of-type {\n",
       "        vertical-align: middle;\n",
       "    }\n",
       "\n",
       "    .dataframe tbody tr th {\n",
       "        vertical-align: top;\n",
       "    }\n",
       "\n",
       "    .dataframe thead th {\n",
       "        text-align: right;\n",
       "    }\n",
       "</style>\n",
       "<table border=\"1\" class=\"dataframe\">\n",
       "  <thead>\n",
       "    <tr style=\"text-align: right;\">\n",
       "      <th></th>\n",
       "      <th>URL</th>\n",
       "      <th>Label</th>\n",
       "      <th>label_enc</th>\n",
       "      <th>text_tokenized</th>\n",
       "    </tr>\n",
       "  </thead>\n",
       "  <tbody>\n",
       "    <tr>\n",
       "      <th>272866</th>\n",
       "      <td>allvoices.com/people/Alexandre_Bolduc</td>\n",
       "      <td>good</td>\n",
       "      <td>1</td>\n",
       "      <td>[allvoices, com, people, Alexandre, Bolduc]</td>\n",
       "    </tr>\n",
       "    <tr>\n",
       "      <th>313821</th>\n",
       "      <td>desidanceteams.com/main/?page_id=293</td>\n",
       "      <td>good</td>\n",
       "      <td>1</td>\n",
       "      <td>[desidanceteams, com, main, page, id]</td>\n",
       "    </tr>\n",
       "    <tr>\n",
       "      <th>180815</th>\n",
       "      <td>en.wikipedia.org/wiki/Staying_Power</td>\n",
       "      <td>good</td>\n",
       "      <td>1</td>\n",
       "      <td>[en, wikipedia, org, wiki, Staying, Power]</td>\n",
       "    </tr>\n",
       "    <tr>\n",
       "      <th>400781</th>\n",
       "      <td>myspace.com/theinsectsmusic</td>\n",
       "      <td>good</td>\n",
       "      <td>1</td>\n",
       "      <td>[myspace, com, theinsectsmusic]</td>\n",
       "    </tr>\n",
       "    <tr>\n",
       "      <th>456547</th>\n",
       "      <td>usatoday.com/community/tags/topic.aspx?req=tag...</td>\n",
       "      <td>good</td>\n",
       "      <td>1</td>\n",
       "      <td>[usatoday, com, community, tags, topic, aspx, ...</td>\n",
       "    </tr>\n",
       "  </tbody>\n",
       "</table>\n",
       "</div>"
      ],
      "text/plain": [
       "                                                      URL Label  label_enc  \\\n",
       "272866              allvoices.com/people/Alexandre_Bolduc  good          1   \n",
       "313821               desidanceteams.com/main/?page_id=293  good          1   \n",
       "180815                en.wikipedia.org/wiki/Staying_Power  good          1   \n",
       "400781                        myspace.com/theinsectsmusic  good          1   \n",
       "456547  usatoday.com/community/tags/topic.aspx?req=tag...  good          1   \n",
       "\n",
       "                                           text_tokenized  \n",
       "272866        [allvoices, com, people, Alexandre, Bolduc]  \n",
       "313821              [desidanceteams, com, main, page, id]  \n",
       "180815         [en, wikipedia, org, wiki, Staying, Power]  \n",
       "400781                    [myspace, com, theinsectsmusic]  \n",
       "456547  [usatoday, com, community, tags, topic, aspx, ...  "
      ]
     },
     "execution_count": 15,
     "metadata": {},
     "output_type": "execute_result"
    }
   ],
   "source": [
    "data.sample(5)"
   ]
  },
  {
   "cell_type": "markdown",
   "metadata": {
    "id": "89YUQfg7_X4f"
   },
   "source": [
    "## Stemming"
   ]
  },
  {
   "cell_type": "code",
   "execution_count": 16,
   "metadata": {
    "executionInfo": {
     "elapsed": 96,
     "status": "ok",
     "timestamp": 1684887957036,
     "user": {
      "displayName": "HILYA ANBIYANI",
      "userId": "16755705413992361832"
     },
     "user_tz": -420
    },
    "id": "VP00kzfX_cF4"
   },
   "outputs": [],
   "source": [
    "stemmer = SnowballStemmer(\"english\") # choose a language"
   ]
  },
  {
   "cell_type": "code",
   "execution_count": 17,
   "metadata": {
    "colab": {
     "base_uri": "https://localhost:8080/"
    },
    "executionInfo": {
     "elapsed": 55189,
     "status": "ok",
     "timestamp": 1684888012131,
     "user": {
      "displayName": "HILYA ANBIYANI",
      "userId": "16755705413992361832"
     },
     "user_tz": -420
    },
    "id": "4Cfnw1QQ_fJf",
    "outputId": "39488a7a-2741-4583-d2a7-4fbae1a8081d"
   },
   "outputs": [
    {
     "name": "stdout",
     "output_type": "stream",
     "text": [
      "Getting words stemmed ...\n",
      "Time taken 63.892259700000004 sec\n"
     ]
    }
   ],
   "source": [
    "# Getting all the stemmed words\n",
    "print('Getting words stemmed ...')\n",
    "t0= time.perf_counter()\n",
    "data['text_stemmed'] = data['text_tokenized'].map(lambda l: [stemmer.stem(word) for word in l])\n",
    "t1= time.perf_counter() - t0\n",
    "print('Time taken',t1 ,'sec')"
   ]
  },
  {
   "cell_type": "code",
   "execution_count": 18,
   "metadata": {
    "colab": {
     "base_uri": "https://localhost:8080/",
     "height": 206
    },
    "executionInfo": {
     "elapsed": 55,
     "status": "ok",
     "timestamp": 1684888012132,
     "user": {
      "displayName": "HILYA ANBIYANI",
      "userId": "16755705413992361832"
     },
     "user_tz": -420
    },
    "id": "KW0szr17_hNZ",
    "outputId": "b469f65a-0f1e-46d2-ff09-4b1bb5fa117a"
   },
   "outputs": [
    {
     "data": {
      "text/html": [
       "<div>\n",
       "<style scoped>\n",
       "    .dataframe tbody tr th:only-of-type {\n",
       "        vertical-align: middle;\n",
       "    }\n",
       "\n",
       "    .dataframe tbody tr th {\n",
       "        vertical-align: top;\n",
       "    }\n",
       "\n",
       "    .dataframe thead th {\n",
       "        text-align: right;\n",
       "    }\n",
       "</style>\n",
       "<table border=\"1\" class=\"dataframe\">\n",
       "  <thead>\n",
       "    <tr style=\"text-align: right;\">\n",
       "      <th></th>\n",
       "      <th>URL</th>\n",
       "      <th>Label</th>\n",
       "      <th>label_enc</th>\n",
       "      <th>text_tokenized</th>\n",
       "      <th>text_stemmed</th>\n",
       "    </tr>\n",
       "  </thead>\n",
       "  <tbody>\n",
       "    <tr>\n",
       "      <th>282265</th>\n",
       "      <td>archive.org/details/cu31924028881188</td>\n",
       "      <td>good</td>\n",
       "      <td>1</td>\n",
       "      <td>[archive, org, details, cu]</td>\n",
       "      <td>[archiv, org, detail, cu]</td>\n",
       "    </tr>\n",
       "    <tr>\n",
       "      <th>85912</th>\n",
       "      <td>www.usbman.com/linuxusb.htm</td>\n",
       "      <td>good</td>\n",
       "      <td>1</td>\n",
       "      <td>[www, usbman, com, linuxusb, htm]</td>\n",
       "      <td>[www, usbman, com, linuxusb, htm]</td>\n",
       "    </tr>\n",
       "    <tr>\n",
       "      <th>240671</th>\n",
       "      <td>sonic.wikia.com/wiki/Ryan_Drummond</td>\n",
       "      <td>good</td>\n",
       "      <td>1</td>\n",
       "      <td>[sonic, wikia, com, wiki, Ryan, Drummond]</td>\n",
       "      <td>[sonic, wikia, com, wiki, ryan, drummond]</td>\n",
       "    </tr>\n",
       "    <tr>\n",
       "      <th>42899</th>\n",
       "      <td>webmail.genotec.ch/atmail/compose.php?id=20920...</td>\n",
       "      <td>bad</td>\n",
       "      <td>0</td>\n",
       "      <td>[webmail, genotec, ch, atmail, compose, php, i...</td>\n",
       "      <td>[webmail, genotec, ch, atmail, compos, php, id...</td>\n",
       "    </tr>\n",
       "    <tr>\n",
       "      <th>120490</th>\n",
       "      <td>hallmarkteam.com/cls/Hotmail-New/Verification%...</td>\n",
       "      <td>bad</td>\n",
       "      <td>0</td>\n",
       "      <td>[hallmarkteam, com, cls, Hotmail, New, Verific...</td>\n",
       "      <td>[hallmarkteam, com, cls, hotmail, new, verif, ...</td>\n",
       "    </tr>\n",
       "  </tbody>\n",
       "</table>\n",
       "</div>"
      ],
      "text/plain": [
       "                                                      URL Label  label_enc  \\\n",
       "282265               archive.org/details/cu31924028881188  good          1   \n",
       "85912                         www.usbman.com/linuxusb.htm  good          1   \n",
       "240671                 sonic.wikia.com/wiki/Ryan_Drummond  good          1   \n",
       "42899   webmail.genotec.ch/atmail/compose.php?id=20920...   bad          0   \n",
       "120490  hallmarkteam.com/cls/Hotmail-New/Verification%...   bad          0   \n",
       "\n",
       "                                           text_tokenized  \\\n",
       "282265                        [archive, org, details, cu]   \n",
       "85912                   [www, usbman, com, linuxusb, htm]   \n",
       "240671          [sonic, wikia, com, wiki, Ryan, Drummond]   \n",
       "42899   [webmail, genotec, ch, atmail, compose, php, i...   \n",
       "120490  [hallmarkteam, com, cls, Hotmail, New, Verific...   \n",
       "\n",
       "                                             text_stemmed  \n",
       "282265                          [archiv, org, detail, cu]  \n",
       "85912                   [www, usbman, com, linuxusb, htm]  \n",
       "240671          [sonic, wikia, com, wiki, ryan, drummond]  \n",
       "42899   [webmail, genotec, ch, atmail, compos, php, id...  \n",
       "120490  [hallmarkteam, com, cls, hotmail, new, verif, ...  "
      ]
     },
     "execution_count": 18,
     "metadata": {},
     "output_type": "execute_result"
    }
   ],
   "source": [
    "data.sample(5)"
   ]
  },
  {
   "cell_type": "code",
   "execution_count": 19,
   "metadata": {
    "colab": {
     "base_uri": "https://localhost:8080/"
    },
    "executionInfo": {
     "elapsed": 500,
     "status": "ok",
     "timestamp": 1684888012580,
     "user": {
      "displayName": "HILYA ANBIYANI",
      "userId": "16755705413992361832"
     },
     "user_tz": -420
    },
    "id": "1pW1QKTA_mJr",
    "outputId": "1c5351b5-540f-4e6d-b4ca-942380f403ba"
   },
   "outputs": [
    {
     "name": "stdout",
     "output_type": "stream",
     "text": [
      "Get joiningwords ...\n",
      "Time taken 0.8314955999999967 sec\n"
     ]
    }
   ],
   "source": [
    "# Joining all the stemmmed words.\n",
    "print('Get joiningwords ...')\n",
    "t0= time.perf_counter()\n",
    "data['text_sent'] = data['text_stemmed'].map(lambda l: ' '.join(l))\n",
    "t1= time.perf_counter() - t0\n",
    "print('Time taken',t1 ,'sec')"
   ]
  },
  {
   "cell_type": "code",
   "execution_count": 20,
   "metadata": {
    "executionInfo": {
     "elapsed": 10,
     "status": "ok",
     "timestamp": 1684888012581,
     "user": {
      "displayName": "HILYA ANBIYANI",
      "userId": "16755705413992361832"
     },
     "user_tz": -420
    },
    "id": "62RLgp_2_o5C"
   },
   "outputs": [],
   "source": [
    "bad_sites = data[data.Label == 'bad']\n",
    "good_sites = data[data.Label == 'good']"
   ]
  },
  {
   "cell_type": "code",
   "execution_count": 21,
   "metadata": {
    "colab": {
     "base_uri": "https://localhost:8080/",
     "height": 302
    },
    "executionInfo": {
     "elapsed": 468,
     "status": "ok",
     "timestamp": 1684888013040,
     "user": {
      "displayName": "HILYA ANBIYANI",
      "userId": "16755705413992361832"
     },
     "user_tz": -420
    },
    "id": "RYIccpKU_ql7",
    "outputId": "a373a424-2ce1-4381-af62-bd02975e032e"
   },
   "outputs": [
    {
     "data": {
      "text/html": [
       "<div>\n",
       "<style scoped>\n",
       "    .dataframe tbody tr th:only-of-type {\n",
       "        vertical-align: middle;\n",
       "    }\n",
       "\n",
       "    .dataframe tbody tr th {\n",
       "        vertical-align: top;\n",
       "    }\n",
       "\n",
       "    .dataframe thead th {\n",
       "        text-align: right;\n",
       "    }\n",
       "</style>\n",
       "<table border=\"1\" class=\"dataframe\">\n",
       "  <thead>\n",
       "    <tr style=\"text-align: right;\">\n",
       "      <th></th>\n",
       "      <th>URL</th>\n",
       "      <th>Label</th>\n",
       "      <th>label_enc</th>\n",
       "      <th>text_tokenized</th>\n",
       "      <th>text_stemmed</th>\n",
       "      <th>text_sent</th>\n",
       "    </tr>\n",
       "  </thead>\n",
       "  <tbody>\n",
       "    <tr>\n",
       "      <th>0</th>\n",
       "      <td>nobell.it/70ffb52d079109dca5664cce6f317373782/...</td>\n",
       "      <td>bad</td>\n",
       "      <td>0</td>\n",
       "      <td>[nobell, it, ffb, d, dca, cce, f, login, SkyPe...</td>\n",
       "      <td>[nobel, it, ffb, d, dca, cce, f, login, skype,...</td>\n",
       "      <td>nobel it ffb d dca cce f login skype com en cg...</td>\n",
       "    </tr>\n",
       "    <tr>\n",
       "      <th>1</th>\n",
       "      <td>www.dghjdgf.com/paypal.co.uk/cycgi-bin/webscrc...</td>\n",
       "      <td>bad</td>\n",
       "      <td>0</td>\n",
       "      <td>[www, dghjdgf, com, paypal, co, uk, cycgi, bin...</td>\n",
       "      <td>[www, dghjdgf, com, paypal, co, uk, cycgi, bin...</td>\n",
       "      <td>www dghjdgf com paypal co uk cycgi bin webscrc...</td>\n",
       "    </tr>\n",
       "    <tr>\n",
       "      <th>2</th>\n",
       "      <td>serviciosbys.com/paypal.cgi.bin.get-into.herf....</td>\n",
       "      <td>bad</td>\n",
       "      <td>0</td>\n",
       "      <td>[serviciosbys, com, paypal, cgi, bin, get, int...</td>\n",
       "      <td>[serviciosbi, com, paypal, cgi, bin, get, into...</td>\n",
       "      <td>serviciosbi com paypal cgi bin get into herf s...</td>\n",
       "    </tr>\n",
       "    <tr>\n",
       "      <th>3</th>\n",
       "      <td>mail.printakid.com/www.online.americanexpress....</td>\n",
       "      <td>bad</td>\n",
       "      <td>0</td>\n",
       "      <td>[mail, printakid, com, www, online, americanex...</td>\n",
       "      <td>[mail, printakid, com, www, onlin, americanexp...</td>\n",
       "      <td>mail printakid com www onlin americanexpress c...</td>\n",
       "    </tr>\n",
       "    <tr>\n",
       "      <th>4</th>\n",
       "      <td>thewhiskeydregs.com/wp-content/themes/widescre...</td>\n",
       "      <td>bad</td>\n",
       "      <td>0</td>\n",
       "      <td>[thewhiskeydregs, com, wp, content, themes, wi...</td>\n",
       "      <td>[thewhiskeydreg, com, wp, content, theme, wide...</td>\n",
       "      <td>thewhiskeydreg com wp content theme widescreen...</td>\n",
       "    </tr>\n",
       "  </tbody>\n",
       "</table>\n",
       "</div>"
      ],
      "text/plain": [
       "                                                 URL Label  label_enc  \\\n",
       "0  nobell.it/70ffb52d079109dca5664cce6f317373782/...   bad          0   \n",
       "1  www.dghjdgf.com/paypal.co.uk/cycgi-bin/webscrc...   bad          0   \n",
       "2  serviciosbys.com/paypal.cgi.bin.get-into.herf....   bad          0   \n",
       "3  mail.printakid.com/www.online.americanexpress....   bad          0   \n",
       "4  thewhiskeydregs.com/wp-content/themes/widescre...   bad          0   \n",
       "\n",
       "                                      text_tokenized  \\\n",
       "0  [nobell, it, ffb, d, dca, cce, f, login, SkyPe...   \n",
       "1  [www, dghjdgf, com, paypal, co, uk, cycgi, bin...   \n",
       "2  [serviciosbys, com, paypal, cgi, bin, get, int...   \n",
       "3  [mail, printakid, com, www, online, americanex...   \n",
       "4  [thewhiskeydregs, com, wp, content, themes, wi...   \n",
       "\n",
       "                                        text_stemmed  \\\n",
       "0  [nobel, it, ffb, d, dca, cce, f, login, skype,...   \n",
       "1  [www, dghjdgf, com, paypal, co, uk, cycgi, bin...   \n",
       "2  [serviciosbi, com, paypal, cgi, bin, get, into...   \n",
       "3  [mail, printakid, com, www, onlin, americanexp...   \n",
       "4  [thewhiskeydreg, com, wp, content, theme, wide...   \n",
       "\n",
       "                                           text_sent  \n",
       "0  nobel it ffb d dca cce f login skype com en cg...  \n",
       "1  www dghjdgf com paypal co uk cycgi bin webscrc...  \n",
       "2  serviciosbi com paypal cgi bin get into herf s...  \n",
       "3  mail printakid com www onlin americanexpress c...  \n",
       "4  thewhiskeydreg com wp content theme widescreen...  "
      ]
     },
     "execution_count": 21,
     "metadata": {},
     "output_type": "execute_result"
    }
   ],
   "source": [
    "bad_sites.head()"
   ]
  },
  {
   "cell_type": "code",
   "execution_count": 22,
   "metadata": {
    "colab": {
     "base_uri": "https://localhost:8080/",
     "height": 319
    },
    "executionInfo": {
     "elapsed": 42,
     "status": "ok",
     "timestamp": 1684888013041,
     "user": {
      "displayName": "HILYA ANBIYANI",
      "userId": "16755705413992361832"
     },
     "user_tz": -420
    },
    "id": "WHNIpynk_tqL",
    "outputId": "4a2b5fd8-d570-402b-fa4e-5fcf140d8d91"
   },
   "outputs": [
    {
     "data": {
      "text/html": [
       "<div>\n",
       "<style scoped>\n",
       "    .dataframe tbody tr th:only-of-type {\n",
       "        vertical-align: middle;\n",
       "    }\n",
       "\n",
       "    .dataframe tbody tr th {\n",
       "        vertical-align: top;\n",
       "    }\n",
       "\n",
       "    .dataframe thead th {\n",
       "        text-align: right;\n",
       "    }\n",
       "</style>\n",
       "<table border=\"1\" class=\"dataframe\">\n",
       "  <thead>\n",
       "    <tr style=\"text-align: right;\">\n",
       "      <th></th>\n",
       "      <th>URL</th>\n",
       "      <th>Label</th>\n",
       "      <th>label_enc</th>\n",
       "      <th>text_tokenized</th>\n",
       "      <th>text_stemmed</th>\n",
       "      <th>text_sent</th>\n",
       "    </tr>\n",
       "  </thead>\n",
       "  <tbody>\n",
       "    <tr>\n",
       "      <th>18231</th>\n",
       "      <td>esxcc.com/js/index.htm?us.battle.net/noghn/en/...</td>\n",
       "      <td>good</td>\n",
       "      <td>1</td>\n",
       "      <td>[esxcc, com, js, index, htm, us, battle, net, ...</td>\n",
       "      <td>[esxcc, com, js, index, htm, us, battl, net, n...</td>\n",
       "      <td>esxcc com js index htm us battl net noghn en r...</td>\n",
       "    </tr>\n",
       "    <tr>\n",
       "      <th>18232</th>\n",
       "      <td>www\u000eeira¯&amp;nvinip¿ncH¯wVö%ÆåyDaHðû/ÏyEùu\u0003Ë\\nÓ\u00176...</td>\n",
       "      <td>good</td>\n",
       "      <td>1</td>\n",
       "      <td>[www, eira, nvinip, ncH, wV, yDaH, yE, u, rT, ...</td>\n",
       "      <td>[www, eira, nvinip, nch, wv, ydah, ye, u, rt, ...</td>\n",
       "      <td>www eira nvinip nch wv ydah ye u rt u g m i xz...</td>\n",
       "    </tr>\n",
       "    <tr>\n",
       "      <th>18233</th>\n",
       "      <td>'www.institutocgr.coo/web/media/syqvem/dk-\u000fóij...</td>\n",
       "      <td>good</td>\n",
       "      <td>1</td>\n",
       "      <td>[www, institutocgr, coo, web, media, syqvem, d...</td>\n",
       "      <td>[www, institutocgr, coo, web, media, syqvem, d...</td>\n",
       "      <td>www institutocgr coo web media syqvem dk ij r ...</td>\n",
       "    </tr>\n",
       "    <tr>\n",
       "      <th>18234</th>\n",
       "      <td>\u0011\u0018Yìê\f",
       "koãÕ»Î§DéÎ\u0002l½ñ¡ââqtò¸/à; Í</td>\n",
       "      <td>good</td>\n",
       "      <td>1</td>\n",
       "      <td>[Y, ko, D, l, qt]</td>\n",
       "      <td>[y, ko, d, l, qt]</td>\n",
       "      <td>y ko d l qt</td>\n",
       "    </tr>\n",
       "    <tr>\n",
       "      <th>18236</th>\n",
       "      <td>ruta89fm.com/images/AS@Vies/1i75cf7b16vc&lt;F\u0015d16...</td>\n",
       "      <td>good</td>\n",
       "      <td>1</td>\n",
       "      <td>[ruta, fm, com, images, AS, Vies, i, cf, b, vc...</td>\n",
       "      <td>[ruta, fm, com, imag, as, vie, i, cf, b, vc, f...</td>\n",
       "      <td>ruta fm com imag as vie i cf b vc f d b g sd v...</td>\n",
       "    </tr>\n",
       "  </tbody>\n",
       "</table>\n",
       "</div>"
      ],
      "text/plain": [
       "                                                     URL Label  label_enc  \\\n",
       "18231  esxcc.com/js/index.htm?us.battle.net/noghn/en/...  good          1   \n",
       "18232  www\u000eeira¯&nvinip¿ncH¯wVö%ÆåyDaHðû/ÏyEùu\u0003Ë\\nÓ\u00176...  good          1   \n",
       "18233  'www.institutocgr.coo/web/media/syqvem/dk-\u000fóij...  good          1   \n",
       "18234                  \u0011\u0018Yìê\n",
       "koãÕ»Î§DéÎ\u0002l½ñ¡ââqtò¸/à; Í  good          1   \n",
       "18236  ruta89fm.com/images/AS@Vies/1i75cf7b16vc<F\u0015d16...  good          1   \n",
       "\n",
       "                                          text_tokenized  \\\n",
       "18231  [esxcc, com, js, index, htm, us, battle, net, ...   \n",
       "18232  [www, eira, nvinip, ncH, wV, yDaH, yE, u, rT, ...   \n",
       "18233  [www, institutocgr, coo, web, media, syqvem, d...   \n",
       "18234                                  [Y, ko, D, l, qt]   \n",
       "18236  [ruta, fm, com, images, AS, Vies, i, cf, b, vc...   \n",
       "\n",
       "                                            text_stemmed  \\\n",
       "18231  [esxcc, com, js, index, htm, us, battl, net, n...   \n",
       "18232  [www, eira, nvinip, nch, wv, ydah, ye, u, rt, ...   \n",
       "18233  [www, institutocgr, coo, web, media, syqvem, d...   \n",
       "18234                                  [y, ko, d, l, qt]   \n",
       "18236  [ruta, fm, com, imag, as, vie, i, cf, b, vc, f...   \n",
       "\n",
       "                                               text_sent  \n",
       "18231  esxcc com js index htm us battl net noghn en r...  \n",
       "18232  www eira nvinip nch wv ydah ye u rt u g m i xz...  \n",
       "18233  www institutocgr coo web media syqvem dk ij r ...  \n",
       "18234                                        y ko d l qt  \n",
       "18236  ruta fm com imag as vie i cf b vc f d b g sd v...  "
      ]
     },
     "execution_count": 22,
     "metadata": {},
     "output_type": "execute_result"
    }
   ],
   "source": [
    "good_sites.head()"
   ]
  },
  {
   "cell_type": "code",
   "execution_count": 23,
   "metadata": {
    "colab": {
     "base_uri": "https://localhost:8080/",
     "height": 302
    },
    "executionInfo": {
     "elapsed": 41,
     "status": "ok",
     "timestamp": 1684888013042,
     "user": {
      "displayName": "HILYA ANBIYANI",
      "userId": "16755705413992361832"
     },
     "user_tz": -420
    },
    "id": "pOG176df_wVT",
    "outputId": "e26906ed-b260-4f2f-a28e-c72216a557a6"
   },
   "outputs": [
    {
     "data": {
      "text/html": [
       "<div>\n",
       "<style scoped>\n",
       "    .dataframe tbody tr th:only-of-type {\n",
       "        vertical-align: middle;\n",
       "    }\n",
       "\n",
       "    .dataframe tbody tr th {\n",
       "        vertical-align: top;\n",
       "    }\n",
       "\n",
       "    .dataframe thead th {\n",
       "        text-align: right;\n",
       "    }\n",
       "</style>\n",
       "<table border=\"1\" class=\"dataframe\">\n",
       "  <thead>\n",
       "    <tr style=\"text-align: right;\">\n",
       "      <th></th>\n",
       "      <th>URL</th>\n",
       "      <th>Label</th>\n",
       "      <th>label_enc</th>\n",
       "      <th>text_tokenized</th>\n",
       "      <th>text_stemmed</th>\n",
       "      <th>text_sent</th>\n",
       "    </tr>\n",
       "  </thead>\n",
       "  <tbody>\n",
       "    <tr>\n",
       "      <th>0</th>\n",
       "      <td>nobell.it/70ffb52d079109dca5664cce6f317373782/...</td>\n",
       "      <td>bad</td>\n",
       "      <td>0</td>\n",
       "      <td>[nobell, it, ffb, d, dca, cce, f, login, SkyPe...</td>\n",
       "      <td>[nobel, it, ffb, d, dca, cce, f, login, skype,...</td>\n",
       "      <td>nobel it ffb d dca cce f login skype com en cg...</td>\n",
       "    </tr>\n",
       "    <tr>\n",
       "      <th>1</th>\n",
       "      <td>www.dghjdgf.com/paypal.co.uk/cycgi-bin/webscrc...</td>\n",
       "      <td>bad</td>\n",
       "      <td>0</td>\n",
       "      <td>[www, dghjdgf, com, paypal, co, uk, cycgi, bin...</td>\n",
       "      <td>[www, dghjdgf, com, paypal, co, uk, cycgi, bin...</td>\n",
       "      <td>www dghjdgf com paypal co uk cycgi bin webscrc...</td>\n",
       "    </tr>\n",
       "    <tr>\n",
       "      <th>2</th>\n",
       "      <td>serviciosbys.com/paypal.cgi.bin.get-into.herf....</td>\n",
       "      <td>bad</td>\n",
       "      <td>0</td>\n",
       "      <td>[serviciosbys, com, paypal, cgi, bin, get, int...</td>\n",
       "      <td>[serviciosbi, com, paypal, cgi, bin, get, into...</td>\n",
       "      <td>serviciosbi com paypal cgi bin get into herf s...</td>\n",
       "    </tr>\n",
       "    <tr>\n",
       "      <th>3</th>\n",
       "      <td>mail.printakid.com/www.online.americanexpress....</td>\n",
       "      <td>bad</td>\n",
       "      <td>0</td>\n",
       "      <td>[mail, printakid, com, www, online, americanex...</td>\n",
       "      <td>[mail, printakid, com, www, onlin, americanexp...</td>\n",
       "      <td>mail printakid com www onlin americanexpress c...</td>\n",
       "    </tr>\n",
       "    <tr>\n",
       "      <th>4</th>\n",
       "      <td>thewhiskeydregs.com/wp-content/themes/widescre...</td>\n",
       "      <td>bad</td>\n",
       "      <td>0</td>\n",
       "      <td>[thewhiskeydregs, com, wp, content, themes, wi...</td>\n",
       "      <td>[thewhiskeydreg, com, wp, content, theme, wide...</td>\n",
       "      <td>thewhiskeydreg com wp content theme widescreen...</td>\n",
       "    </tr>\n",
       "  </tbody>\n",
       "</table>\n",
       "</div>"
      ],
      "text/plain": [
       "                                                 URL Label  label_enc  \\\n",
       "0  nobell.it/70ffb52d079109dca5664cce6f317373782/...   bad          0   \n",
       "1  www.dghjdgf.com/paypal.co.uk/cycgi-bin/webscrc...   bad          0   \n",
       "2  serviciosbys.com/paypal.cgi.bin.get-into.herf....   bad          0   \n",
       "3  mail.printakid.com/www.online.americanexpress....   bad          0   \n",
       "4  thewhiskeydregs.com/wp-content/themes/widescre...   bad          0   \n",
       "\n",
       "                                      text_tokenized  \\\n",
       "0  [nobell, it, ffb, d, dca, cce, f, login, SkyPe...   \n",
       "1  [www, dghjdgf, com, paypal, co, uk, cycgi, bin...   \n",
       "2  [serviciosbys, com, paypal, cgi, bin, get, int...   \n",
       "3  [mail, printakid, com, www, online, americanex...   \n",
       "4  [thewhiskeydregs, com, wp, content, themes, wi...   \n",
       "\n",
       "                                        text_stemmed  \\\n",
       "0  [nobel, it, ffb, d, dca, cce, f, login, skype,...   \n",
       "1  [www, dghjdgf, com, paypal, co, uk, cycgi, bin...   \n",
       "2  [serviciosbi, com, paypal, cgi, bin, get, into...   \n",
       "3  [mail, printakid, com, www, onlin, americanexp...   \n",
       "4  [thewhiskeydreg, com, wp, content, theme, wide...   \n",
       "\n",
       "                                           text_sent  \n",
       "0  nobel it ffb d dca cce f login skype com en cg...  \n",
       "1  www dghjdgf com paypal co uk cycgi bin webscrc...  \n",
       "2  serviciosbi com paypal cgi bin get into herf s...  \n",
       "3  mail printakid com www onlin americanexpress c...  \n",
       "4  thewhiskeydreg com wp content theme widescreen...  "
      ]
     },
     "execution_count": 23,
     "metadata": {},
     "output_type": "execute_result"
    }
   ],
   "source": [
    "data.head()"
   ]
  },
  {
   "cell_type": "markdown",
   "metadata": {
    "id": "sEi2tH-mvTI8"
   },
   "source": [
    "## Ekstraksi fitur menjadi sebuah matrix"
   ]
  },
  {
   "cell_type": "code",
   "execution_count": 24,
   "metadata": {
    "executionInfo": {
     "elapsed": 40,
     "status": "ok",
     "timestamp": 1684888013043,
     "user": {
      "displayName": "HILYA ANBIYANI",
      "userId": "16755705413992361832"
     },
     "user_tz": -420
    },
    "id": "mB_BEm2Ovcbn"
   },
   "outputs": [],
   "source": [
    "from sklearn.feature_extraction.text import CountVectorizer  \n",
    "cv = CountVectorizer()"
   ]
  },
  {
   "cell_type": "code",
   "execution_count": 25,
   "metadata": {
    "executionInfo": {
     "elapsed": 7088,
     "status": "ok",
     "timestamp": 1684888020092,
     "user": {
      "displayName": "HILYA ANBIYANI",
      "userId": "16755705413992361832"
     },
     "user_tz": -420
    },
    "id": "eV4YsMVSvfP2"
   },
   "outputs": [],
   "source": [
    "feature = cv.fit_transform(data.text_sent) #transform all text which we tokenize and stemed"
   ]
  },
  {
   "cell_type": "code",
   "execution_count": 26,
   "metadata": {
    "colab": {
     "base_uri": "https://localhost:8080/"
    },
    "executionInfo": {
     "elapsed": 20,
     "status": "ok",
     "timestamp": 1684888020093,
     "user": {
      "displayName": "HILYA ANBIYANI",
      "userId": "16755705413992361832"
     },
     "user_tz": -420
    },
    "id": "x4PsUqA8vg1U",
    "outputId": "9be919b6-239e-4bbc-b687-df53f3efecd6"
   },
   "outputs": [
    {
     "data": {
      "text/plain": [
       "array([[0, 0, 0, ..., 0, 0, 0],\n",
       "       [0, 0, 0, ..., 0, 0, 0],\n",
       "       [0, 0, 0, ..., 0, 0, 0],\n",
       "       [0, 0, 0, ..., 0, 0, 0],\n",
       "       [0, 0, 0, ..., 0, 0, 0]], dtype=int64)"
      ]
     },
     "execution_count": 26,
     "metadata": {},
     "output_type": "execute_result"
    }
   ],
   "source": [
    "feature[:5].toarray() # convert sparse matrix into array to print transformed features"
   ]
  },
  {
   "cell_type": "code",
   "execution_count": 27,
   "metadata": {},
   "outputs": [],
   "source": [
    "with open('feature.pickle', 'wb') as output:\n",
    "  pickle.dump(feature, output)"
   ]
  },
  {
   "cell_type": "code",
   "execution_count": 28,
   "metadata": {
    "executionInfo": {
     "elapsed": 17,
     "status": "ok",
     "timestamp": 1684888020093,
     "user": {
      "displayName": "HILYA ANBIYANI",
      "userId": "16755705413992361832"
     },
     "user_tz": -420
    },
    "id": "Ex9lShTJvuEL"
   },
   "outputs": [],
   "source": [
    "from sklearn.model_selection import train_test_split\n",
    "trainX, testX, trainY, testY = train_test_split(feature, data.label_enc)"
   ]
  },
  {
   "cell_type": "markdown",
   "metadata": {
    "id": "Vf8tcNG7v3XH"
   },
   "source": [
    "## Logistic Regression"
   ]
  },
  {
   "cell_type": "code",
   "execution_count": null,
   "metadata": {
    "colab": {
     "base_uri": "https://localhost:8080/",
     "height": 213
    },
    "executionInfo": {
     "elapsed": 18832,
     "status": "ok",
     "timestamp": 1684888038909,
     "user": {
      "displayName": "HILYA ANBIYANI",
      "userId": "16755705413992361832"
     },
     "user_tz": -420
    },
    "id": "NvhZMhpDv6WP",
    "outputId": "779e04e9-5f11-4d65-b507-48123ce4447d"
   },
   "outputs": [],
   "source": [
    "from sklearn.linear_model import LogisticRegression\n",
    "\n",
    "# Create LR object\n",
    "lr = LogisticRegression()\n",
    "\n",
    "# Train algoritma\n",
    "lr.fit(trainX,trainY)"
   ]
  },
  {
   "cell_type": "code",
   "execution_count": null,
   "metadata": {
    "colab": {
     "base_uri": "https://localhost:8080/"
    },
    "executionInfo": {
     "elapsed": 37,
     "status": "ok",
     "timestamp": 1684888038910,
     "user": {
      "displayName": "HILYA ANBIYANI",
      "userId": "16755705413992361832"
     },
     "user_tz": -420
    },
    "id": "tlrK3kQ2wAUq",
    "outputId": "10723d76-8859-4064-e4e9-4472904ba2b5"
   },
   "outputs": [],
   "source": [
    "lr.score(testX,testY)"
   ]
  },
  {
   "cell_type": "code",
   "execution_count": null,
   "metadata": {
    "executionInfo": {
     "elapsed": 33,
     "status": "ok",
     "timestamp": 1684888038912,
     "user": {
      "displayName": "HILYA ANBIYANI",
      "userId": "16755705413992361832"
     },
     "user_tz": -420
    },
    "id": "qo9Mm7tywEbh"
   },
   "outputs": [],
   "source": [
    "Scores_ml = {}\n",
    "Scores_ml['Logistic Regression'] = np.round(lr.score(testX,testY),2)"
   ]
  },
  {
   "cell_type": "code",
   "execution_count": null,
   "metadata": {
    "colab": {
     "base_uri": "https://localhost:8080/",
     "height": 663
    },
    "executionInfo": {
     "elapsed": 896,
     "status": "ok",
     "timestamp": 1684888039775,
     "user": {
      "displayName": "HILYA ANBIYANI",
      "userId": "16755705413992361832"
     },
     "user_tz": -420
    },
    "id": "CsXpgNq-wIPn",
    "outputId": "b4f94399-c2a2-4ced-a2a3-25b6b9d2727a"
   },
   "outputs": [],
   "source": [
    "# creating confusing matrix\n",
    "print('Training Accuracy :',lr.score(trainX,trainY))\n",
    "print('Testing Accuracy :',lr.score(testX,testY))\n",
    "con_mat = pd.DataFrame(confusion_matrix(lr.predict(testX), testY),\n",
    "            columns = ['Predicted:Bad', 'Predicted:Good'],\n",
    "            index = ['Actual:Bad', 'Actual:Good'])\n",
    "\n",
    "\n",
    "print('\\nCLASSIFICATION REPORT\\n')\n",
    "print(classification_report(lr.predict(testX), testY,\n",
    "                            target_names =['Bad','Good']))\n",
    "\n",
    "print('\\nCONFUSION MATRIX')\n",
    "plt.figure(figsize= (6,4))\n",
    "sns.heatmap(con_mat, annot = True,fmt='d',cmap=\"YlGnBu\")"
   ]
  },
  {
   "cell_type": "markdown",
   "metadata": {
    "id": "SvK3eM2557r1"
   },
   "source": [
    "## Multinomial NB\n"
   ]
  },
  {
   "cell_type": "code",
   "execution_count": null,
   "metadata": {
    "colab": {
     "base_uri": "https://localhost:8080/",
     "height": 74
    },
    "executionInfo": {
     "elapsed": 35,
     "status": "ok",
     "timestamp": 1684888039777,
     "user": {
      "displayName": "HILYA ANBIYANI",
      "userId": "16755705413992361832"
     },
     "user_tz": -420
    },
    "id": "U5ldL5z7wL0q",
    "outputId": "ab6868b7-aba5-43fb-bc35-ff00745a5d53"
   },
   "outputs": [],
   "source": [
    "from sklearn.naive_bayes import MultinomialNB \n",
    "\n",
    "# Create mnb object\n",
    "mnb = MultinomialNB()\n",
    "\n",
    "# Fit/Latih algoritma model mnb\n",
    "mnb.fit(trainX,trainY)"
   ]
  },
  {
   "cell_type": "code",
   "execution_count": null,
   "metadata": {
    "colab": {
     "base_uri": "https://localhost:8080/"
    },
    "executionInfo": {
     "elapsed": 32,
     "status": "ok",
     "timestamp": 1684888039777,
     "user": {
      "displayName": "HILYA ANBIYANI",
      "userId": "16755705413992361832"
     },
     "user_tz": -420
    },
    "id": "hNC66pYRwcXS",
    "outputId": "4a2ac6f0-de6b-4e36-e57e-81e1f2e183a8"
   },
   "outputs": [],
   "source": [
    "mnb.score(testX,testY)"
   ]
  },
  {
   "cell_type": "code",
   "execution_count": null,
   "metadata": {
    "executionInfo": {
     "elapsed": 29,
     "status": "ok",
     "timestamp": 1684888039778,
     "user": {
      "displayName": "HILYA ANBIYANI",
      "userId": "16755705413992361832"
     },
     "user_tz": -420
    },
    "id": "c6_0VBvvwoUq"
   },
   "outputs": [],
   "source": [
    "Scores_ml['MultinomialNB'] = np.round(mnb.score(testX,testY),2)"
   ]
  },
  {
   "cell_type": "code",
   "execution_count": null,
   "metadata": {
    "colab": {
     "base_uri": "https://localhost:8080/",
     "height": 663
    },
    "executionInfo": {
     "elapsed": 19,
     "status": "ok",
     "timestamp": 1684888040146,
     "user": {
      "displayName": "HILYA ANBIYANI",
      "userId": "16755705413992361832"
     },
     "user_tz": -420
    },
    "id": "V6sfJbTOwqnF",
    "outputId": "95893b00-0bd5-4f9f-a0d8-e57d192ef70e"
   },
   "outputs": [],
   "source": [
    "print('Training Accuracy :',mnb.score(trainX,trainY))\n",
    "print('Testing Accuracy :',mnb.score(testX,testY))\n",
    "con_mat = pd.DataFrame(confusion_matrix(mnb.predict(testX), testY),\n",
    "            columns = ['Predicted:Bad', 'Predicted:Good'],\n",
    "            index = ['Actual:Bad', 'Actual:Good'])\n",
    "\n",
    "\n",
    "print('\\nCLASSIFICATION REPORT\\n')\n",
    "print(classification_report(mnb.predict(testX), testY,\n",
    "                            target_names =['Bad','Good']))\n",
    "\n",
    "print('\\nCONFUSION MATRIX')\n",
    "plt.figure(figsize= (6,4))\n",
    "sns.heatmap(con_mat, annot = True,fmt='d',cmap=\"YlGnBu\")"
   ]
  },
  {
   "cell_type": "markdown",
   "metadata": {
    "id": "r_9fTtQFw0nV"
   },
   "source": [
    "### Logistic Regression is the best fit model, Now we make sklearn pipeline using Logistic Regression"
   ]
  },
  {
   "cell_type": "code",
   "execution_count": null,
   "metadata": {
    "executionInfo": {
     "elapsed": 12,
     "status": "ok",
     "timestamp": 1684888040567,
     "user": {
      "displayName": "HILYA ANBIYANI",
      "userId": "16755705413992361832"
     },
     "user_tz": -420
    },
    "id": "WgU5450twzze"
   },
   "outputs": [],
   "source": [
    "from sklearn.pipeline import make_pipeline\n",
    "pipeline_ls = make_pipeline(CountVectorizer(tokenizer = RegexpTokenizer(r'[A-Za-z]+').tokenize,stop_words='english'), LogisticRegression())"
   ]
  },
  {
   "cell_type": "code",
   "execution_count": null,
   "metadata": {
    "executionInfo": {
     "elapsed": 12,
     "status": "ok",
     "timestamp": 1684888040568,
     "user": {
      "displayName": "HILYA ANBIYANI",
      "userId": "16755705413992361832"
     },
     "user_tz": -420
    },
    "id": "I2GXjk3MxYY4"
   },
   "outputs": [],
   "source": [
    "trainX, testX, trainY, testY = train_test_split(data.URL, data.Label)"
   ]
  },
  {
   "cell_type": "code",
   "execution_count": null,
   "metadata": {
    "colab": {
     "base_uri": "https://localhost:8080/",
     "height": 299
    },
    "executionInfo": {
     "elapsed": 25982,
     "status": "ok",
     "timestamp": 1684888066538,
     "user": {
      "displayName": "HILYA ANBIYANI",
      "userId": "16755705413992361832"
     },
     "user_tz": -420
    },
    "id": "w0UNmAKLxZ9C",
    "outputId": "6e920ab9-9b29-4d0d-d4d9-4826cfc90896"
   },
   "outputs": [],
   "source": [
    "pipeline_ls.fit(trainX,trainY)"
   ]
  },
  {
   "cell_type": "code",
   "execution_count": null,
   "metadata": {
    "colab": {
     "base_uri": "https://localhost:8080/"
    },
    "executionInfo": {
     "elapsed": 2864,
     "status": "ok",
     "timestamp": 1684888069353,
     "user": {
      "displayName": "HILYA ANBIYANI",
      "userId": "16755705413992361832"
     },
     "user_tz": -420
    },
    "id": "nan_6tdfxbx5",
    "outputId": "58e9f7be-42b2-4db3-d889-29b477a68e1b"
   },
   "outputs": [],
   "source": [
    "pipeline_ls.score(testX,testY)"
   ]
  },
  {
   "cell_type": "code",
   "execution_count": null,
   "metadata": {
    "colab": {
     "base_uri": "https://localhost:8080/",
     "height": 663
    },
    "executionInfo": {
     "elapsed": 20788,
     "status": "ok",
     "timestamp": 1684888090132,
     "user": {
      "displayName": "HILYA ANBIYANI",
      "userId": "16755705413992361832"
     },
     "user_tz": -420
    },
    "id": "O7APSI87xeIJ",
    "outputId": "357b70e8-31af-4aea-f5f6-a18c6c103a86",
    "scrolled": true
   },
   "outputs": [],
   "source": [
    "print('Training Accuracy :',pipeline_ls.score(trainX,trainY))\n",
    "print('Testing Accuracy :',pipeline_ls.score(testX,testY))\n",
    "con_mat = pd.DataFrame(confusion_matrix(pipeline_ls.predict(testX), testY),\n",
    "            columns = ['Predicted:Bad', 'Predicted:Good'],\n",
    "            index = ['Actual:Bad', 'Actual:Good'])\n",
    "\n",
    "\n",
    "print('\\nCLASSIFICATION REPORT\\n')\n",
    "print(classification_report(pipeline_ls.predict(testX), testY,\n",
    "                            target_names =['Bad','Good']))\n",
    "\n",
    "print('\\nCONFUSION MATRIX')\n",
    "plt.figure(figsize= (6,4))\n",
    "sns.heatmap(con_mat, annot = True,fmt='d',cmap=\"YlGnBu\")"
   ]
  },
  {
   "cell_type": "code",
   "execution_count": null,
   "metadata": {
    "colab": {
     "base_uri": "https://localhost:8080/"
    },
    "executionInfo": {
     "elapsed": 2003,
     "status": "ok",
     "timestamp": 1684888092089,
     "user": {
      "displayName": "HILYA ANBIYANI",
      "userId": "16755705413992361832"
     },
     "user_tz": -420
    },
    "id": "Hb2p9U0mxgvC",
    "outputId": "676a1c8c-5528-4e2d-a55e-11b6fdb77131"
   },
   "outputs": [],
   "source": [
    "joblib.dump((pipeline_ls), \"model_phishing_lr.model\")"
   ]
  },
  {
   "cell_type": "code",
   "execution_count": null,
   "metadata": {
    "colab": {
     "base_uri": "https://localhost:8080/"
    },
    "executionInfo": {
     "elapsed": 11469,
     "status": "ok",
     "timestamp": 1684889544507,
     "user": {
      "displayName": "HILYA ANBIYANI",
      "userId": "16755705413992361832"
     },
     "user_tz": -420
    },
    "id": "oQC3o7Fxximz",
    "outputId": "517ba6b5-0c2f-43f1-cf4a-99dac536041e"
   },
   "outputs": [],
   "source": [
    "from joblib import load\n",
    "loaded_model = load('model_phishing_lr.model')\n",
    "result = loaded_model.score(testX,testY)\n",
    "print(result)"
   ]
  },
  {
   "cell_type": "markdown",
   "metadata": {
    "id": "qH-qS0NCxqXM"
   },
   "source": [
    "## Try to predict"
   ]
  },
  {
   "cell_type": "code",
   "execution_count": null,
   "metadata": {
    "colab": {
     "base_uri": "https://localhost:8080/"
    },
    "executionInfo": {
     "elapsed": 4592,
     "status": "ok",
     "timestamp": 1684889552785,
     "user": {
      "displayName": "HILYA ANBIYANI",
      "userId": "16755705413992361832"
     },
     "user_tz": -420
    },
    "id": "MFo8mGtCxtxj",
    "outputId": "e92ce1ae-ec89-4dd5-cd37-6a665d07b3ef"
   },
   "outputs": [],
   "source": [
    "predict_bad = ['yeniik.com.tr/wp-admin/js/login.alibaba.com/login.jsp.php','fazan-pacir.rs/temp/libraries/ipad','tubemoviez.exe','svision-online.de/mgfi/administrator/components/com_babackup/classes/fx29id1.txt']\n",
    "predict_good = ['youtube.com/','www.kaggle.com/code/ashishkumarbehera/phishing-site-prediction','retailhellunderground.com/','restorevisioncenters.com/html/technology.html']\n",
    "loaded_model = load('model_phishing_lr.model')\n",
    "\n",
    "result = loaded_model.predict(predict_bad)\n",
    "result2 = loaded_model.predict(predict_good)\n",
    "print(result)\n",
    "print(\"*\"*30)\n",
    "print(result2)"
   ]
  }
 ],
 "metadata": {
  "colab": {
   "authorship_tag": "ABX9TyNj5dz1UzEdNLJ/mKn/plIG",
   "provenance": []
  },
  "kernelspec": {
   "display_name": "proyek-akhir-phishing",
   "language": "python",
   "name": "myenv"
  },
  "language_info": {
   "codemirror_mode": {
    "name": "ipython",
    "version": 3
   },
   "file_extension": ".py",
   "mimetype": "text/x-python",
   "name": "python",
   "nbconvert_exporter": "python",
   "pygments_lexer": "ipython3",
   "version": "3.8.5"
  }
 },
 "nbformat": 4,
 "nbformat_minor": 1
}
