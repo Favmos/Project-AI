{
 "cells": [
  {
   "cell_type": "markdown",
   "id": "d18e160a",
   "metadata": {
    "id": "d18e160a"
   },
   "source": [
    "# Learning-Based Closed Domain Chatbot (Deep Learning)\n",
    "---\n"
   ]
  },
  {
   "cell_type": "markdown",
   "id": "9ZsdBYNrTfgg",
   "metadata": {
    "id": "9ZsdBYNrTfgg"
   },
   "source": [
    "# 01 Import Library"
   ]
  },
  {
   "cell_type": "markdown",
   "id": "MZMVLNyqYTCK",
   "metadata": {
    "id": "MZMVLNyqYTCK"
   },
   "source": [
    "Tahapan pertama sebelum melakukan eksplorasi dan praproses pada data adalah memasukan library yang akan digunakan untuk menganalisa dataset dengan menggunakan metode Deep Learning seperti Neural Network dalam pengolahan teks, Chatbot dll. Library yang saya gunakan yaitu NumPy untuk komputasi matematika, Matplotlib untuk visualisasi model data, Natural Language Toolkit atau NLTK untuk pengolahan teks, Pandas untuk membaca data, serta Tensorflow untuk model pada data menggunakan algoritma LSTM dan Jaringan Syaraf Tiruan (Neural Network)."
   ]
  },
  {
   "cell_type": "code",
   "execution_count": 4,
   "id": "df6e6af3",
   "metadata": {
    "id": "df6e6af3"
   },
   "outputs": [],
   "source": [
    "# Import Libraries\n",
    "import json\n",
    "import nltk\n",
    "import time\n",
    "import random\n",
    "import string\n",
    "import pickle\n",
    "import numpy as np\n",
    "import pandas as pd\n",
    "from gtts import gTTS\n",
    "from io import BytesIO\n",
    "import tensorflow as tf\n",
    "import IPython.display as ipd\n",
    "import speech_recognition as sr \n",
    "import matplotlib.pyplot as plt\n",
    "from nltk.stem import WordNetLemmatizer\n",
    "from tensorflow.keras.models import Model\n",
    "from keras.utils.vis_utils import plot_model\n",
    "from sklearn.preprocessing import LabelEncoder\n",
    "from tensorflow.keras.preprocessing.text import Tokenizer\n",
    "from tensorflow.keras.layers import Input, Embedding, LSTM\n",
    "from tensorflow.keras.preprocessing.sequence import pad_sequences\n",
    "from tensorflow.keras.layers import Flatten, Dense, GlobalMaxPool1D"
   ]
  },
  {
   "cell_type": "markdown",
   "id": "XFqXivzfTGhq",
   "metadata": {
    "id": "XFqXivzfTGhq"
   },
   "source": [
    "Download NLTK Package"
   ]
  },
  {
   "cell_type": "code",
   "execution_count": 5,
   "id": "ZFHfBZ3mO1QE",
   "metadata": {
    "colab": {
     "base_uri": "https://localhost:8080/"
    },
    "id": "ZFHfBZ3mO1QE",
    "outputId": "1a8b138a-6720-480a-f8b7-36de4dbf655a"
   },
   "outputs": [
    {
     "name": "stderr",
     "output_type": "stream",
     "text": [
      "[nltk_data] Downloading package punkt to\n",
      "[nltk_data]     C:\\Users\\hilya\\AppData\\Roaming\\nltk_data...\n",
      "[nltk_data]   Unzipping tokenizers\\punkt.zip.\n",
      "[nltk_data] Downloading package wordnet to\n",
      "[nltk_data]     C:\\Users\\hilya\\AppData\\Roaming\\nltk_data...\n",
      "[nltk_data] Downloading package omw-1.4 to\n",
      "[nltk_data]     C:\\Users\\hilya\\AppData\\Roaming\\nltk_data...\n"
     ]
    },
    {
     "data": {
      "text/plain": [
       "True"
      ]
     },
     "execution_count": 5,
     "metadata": {},
     "output_type": "execute_result"
    }
   ],
   "source": [
    "# Package sentence tokenizer\n",
    "nltk.download('punkt') \n",
    "# Package lemmatization\n",
    "nltk.download('wordnet')\n",
    "# Package multilingual wordnet data\n",
    "nltk.download('omw-1.4')"
   ]
  },
  {
   "cell_type": "markdown",
   "id": "xaowz3BO9B8l",
   "metadata": {
    "id": "xaowz3BO9B8l"
   },
   "source": [
    "# 02 Data Acquisition\n",
    "\n",
    "Setelah kita mengetahui apa saja alur yang digunakan untuk membuat proyek AI Chatbot maka tahapan selanjutnya adalah mengunduh atau download dataset dari GitHub milik Fendy Hendriyanto pada bagian repository AI Chatbot. Link: [Chatbot-AI](https://github.com/fendy07/chatbot-AI)"
   ]
  },
  {
   "cell_type": "markdown",
   "id": "gLGpuyY9aMwW",
   "metadata": {
    "id": "gLGpuyY9aMwW"
   },
   "source": [
    "**Load Dataset Json**\n",
    "\n",
    "Setelah import library, tahapan selanjutnya adalah me-load dataset yang telah disediakan. Dataset yang digunakan berupa format **.json** yang sangat cocok untuk membuat model Chatbot. \n",
    "\n",
    "Data Json merupakan data yang termasuk dalam *semi structured* yang dimana data ini menampung beberapa bagian data seperti **tag**, **pattern**, **context**, dan **response**. Data yang dipakai dalam proyek ini menggunakan dataset manual yang diciptakan oleh student Kampus Merdeka Batch 2 tentang <b>Chatbot Sistem Rekomendasi Kampus Merdeka</b>. [Github](https://github.com/mahmudwhd/WebKadekBot)"
   ]
  },
  {
   "cell_type": "code",
   "execution_count": 6,
   "id": "JD4ILKqFZ_hf",
   "metadata": {
    "id": "JD4ILKqFZ_hf"
   },
   "outputs": [],
   "source": [
    "# Importing the dataset\n",
    "with open('safebot.json') as content:\n",
    "  data1 = json.load(content)\n",
    "\n",
    "# Mendapatkan semua data ke dalam list\n",
    "tags = [] # data tag\n",
    "inputs = [] # data input atau pattern\n",
    "responses = {} # data respon\n",
    "words = [] # Data kata \n",
    "classes = [] # Data Kelas atau Tag\n",
    "documents = [] # Data Kalimat Dokumen\n",
    "ignore_words = ['?', '!'] # Mengabaikan tanda spesial karakter\n",
    "\n",
    "for intent in data1['intents']:\n",
    "  responses[intent['tag']]=intent['responses']\n",
    "  for lines in intent['patterns']:\n",
    "    inputs.append(lines)\n",
    "    tags.append(intent['tag'])\n",
    "    for pattern in intent['patterns']:\n",
    "      w = nltk.word_tokenize(pattern)\n",
    "      words.extend(w)\n",
    "      documents.append((w, intent['tag']))\n",
    "      # add to our classes list\n",
    "      if intent['tag'] not in classes:\n",
    "        classes.append(intent['tag'])\n",
    "\n",
    "# Konversi data json ke dalam dataframe\n",
    "data = pd.DataFrame({\"patterns\":inputs, \"tags\":tags})"
   ]
  },
  {
   "cell_type": "code",
   "execution_count": 7,
   "id": "5N0s7BObcv5-",
   "metadata": {
    "colab": {
     "base_uri": "https://localhost:8080/",
     "height": 423
    },
    "id": "5N0s7BObcv5-",
    "outputId": "b068e17c-1af6-410e-b61e-423c7e229b41"
   },
   "outputs": [
    {
     "data": {
      "text/html": [
       "<div>\n",
       "<style scoped>\n",
       "    .dataframe tbody tr th:only-of-type {\n",
       "        vertical-align: middle;\n",
       "    }\n",
       "\n",
       "    .dataframe tbody tr th {\n",
       "        vertical-align: top;\n",
       "    }\n",
       "\n",
       "    .dataframe thead th {\n",
       "        text-align: right;\n",
       "    }\n",
       "</style>\n",
       "<table border=\"1\" class=\"dataframe\">\n",
       "  <thead>\n",
       "    <tr style=\"text-align: right;\">\n",
       "      <th></th>\n",
       "      <th>patterns</th>\n",
       "      <th>tags</th>\n",
       "    </tr>\n",
       "  </thead>\n",
       "  <tbody>\n",
       "    <tr>\n",
       "      <th>0</th>\n",
       "      <td>hallo</td>\n",
       "      <td>greeting</td>\n",
       "    </tr>\n",
       "    <tr>\n",
       "      <th>1</th>\n",
       "      <td>hai</td>\n",
       "      <td>greeting</td>\n",
       "    </tr>\n",
       "    <tr>\n",
       "      <th>2</th>\n",
       "      <td>halo</td>\n",
       "      <td>greeting</td>\n",
       "    </tr>\n",
       "    <tr>\n",
       "      <th>3</th>\n",
       "      <td>hei</td>\n",
       "      <td>greeting</td>\n",
       "    </tr>\n",
       "    <tr>\n",
       "      <th>4</th>\n",
       "      <td>hi</td>\n",
       "      <td>greeting</td>\n",
       "    </tr>\n",
       "    <tr>\n",
       "      <th>...</th>\n",
       "      <td>...</td>\n",
       "      <td>...</td>\n",
       "    </tr>\n",
       "    <tr>\n",
       "      <th>214</th>\n",
       "      <td>Bagaimana mencegah serangan pada WiFi rumah?</td>\n",
       "      <td>jaringan_wifi</td>\n",
       "    </tr>\n",
       "    <tr>\n",
       "      <th>215</th>\n",
       "      <td>Bagaimana cara beraktivitas di dunia maya deng...</td>\n",
       "      <td>safe_online_activities</td>\n",
       "    </tr>\n",
       "    <tr>\n",
       "      <th>216</th>\n",
       "      <td>Bagaimana cara menjaga keamanan saat berintera...</td>\n",
       "      <td>safe_online_activities</td>\n",
       "    </tr>\n",
       "    <tr>\n",
       "      <th>217</th>\n",
       "      <td>Apa tips untuk beraktivitas di dunia maya deng...</td>\n",
       "      <td>safe_online_activities</td>\n",
       "    </tr>\n",
       "    <tr>\n",
       "      <th>218</th>\n",
       "      <td>tolong berikan tips untuk beraktivitas di duni...</td>\n",
       "      <td>safe_online_activities</td>\n",
       "    </tr>\n",
       "  </tbody>\n",
       "</table>\n",
       "<p>219 rows × 2 columns</p>\n",
       "</div>"
      ],
      "text/plain": [
       "                                              patterns                    tags\n",
       "0                                                hallo                greeting\n",
       "1                                                  hai                greeting\n",
       "2                                                 halo                greeting\n",
       "3                                                  hei                greeting\n",
       "4                                                   hi                greeting\n",
       "..                                                 ...                     ...\n",
       "214       Bagaimana mencegah serangan pada WiFi rumah?           jaringan_wifi\n",
       "215  Bagaimana cara beraktivitas di dunia maya deng...  safe_online_activities\n",
       "216  Bagaimana cara menjaga keamanan saat berintera...  safe_online_activities\n",
       "217  Apa tips untuk beraktivitas di dunia maya deng...  safe_online_activities\n",
       "218  tolong berikan tips untuk beraktivitas di duni...  safe_online_activities\n",
       "\n",
       "[219 rows x 2 columns]"
      ]
     },
     "execution_count": 7,
     "metadata": {},
     "output_type": "execute_result"
    }
   ],
   "source": [
    "# Cetak data keseluruhan\n",
    "data "
   ]
  },
  {
   "cell_type": "code",
   "execution_count": 8,
   "id": "5DFoJwcVdP52",
   "metadata": {
    "colab": {
     "base_uri": "https://localhost:8080/",
     "height": 206
    },
    "id": "5DFoJwcVdP52",
    "outputId": "cc878daa-17f7-4b68-abb6-6a3c38bec113"
   },
   "outputs": [
    {
     "data": {
      "text/html": [
       "<div>\n",
       "<style scoped>\n",
       "    .dataframe tbody tr th:only-of-type {\n",
       "        vertical-align: middle;\n",
       "    }\n",
       "\n",
       "    .dataframe tbody tr th {\n",
       "        vertical-align: top;\n",
       "    }\n",
       "\n",
       "    .dataframe thead th {\n",
       "        text-align: right;\n",
       "    }\n",
       "</style>\n",
       "<table border=\"1\" class=\"dataframe\">\n",
       "  <thead>\n",
       "    <tr style=\"text-align: right;\">\n",
       "      <th></th>\n",
       "      <th>patterns</th>\n",
       "      <th>tags</th>\n",
       "    </tr>\n",
       "  </thead>\n",
       "  <tbody>\n",
       "    <tr>\n",
       "      <th>0</th>\n",
       "      <td>hallo</td>\n",
       "      <td>greeting</td>\n",
       "    </tr>\n",
       "    <tr>\n",
       "      <th>1</th>\n",
       "      <td>hai</td>\n",
       "      <td>greeting</td>\n",
       "    </tr>\n",
       "    <tr>\n",
       "      <th>2</th>\n",
       "      <td>halo</td>\n",
       "      <td>greeting</td>\n",
       "    </tr>\n",
       "    <tr>\n",
       "      <th>3</th>\n",
       "      <td>hei</td>\n",
       "      <td>greeting</td>\n",
       "    </tr>\n",
       "    <tr>\n",
       "      <th>4</th>\n",
       "      <td>hi</td>\n",
       "      <td>greeting</td>\n",
       "    </tr>\n",
       "  </tbody>\n",
       "</table>\n",
       "</div>"
      ],
      "text/plain": [
       "  patterns      tags\n",
       "0    hallo  greeting\n",
       "1      hai  greeting\n",
       "2     halo  greeting\n",
       "3      hei  greeting\n",
       "4       hi  greeting"
      ]
     },
     "execution_count": 8,
     "metadata": {},
     "output_type": "execute_result"
    }
   ],
   "source": [
    "# Cetak data baris pertama sampai baris kelima\n",
    "data.head() "
   ]
  },
  {
   "cell_type": "code",
   "execution_count": 9,
   "id": "HksM_GGVdenI",
   "metadata": {
    "colab": {
     "base_uri": "https://localhost:8080/",
     "height": 206
    },
    "id": "HksM_GGVdenI",
    "outputId": "1a2afc53-a4da-4018-ab94-e4834ddc11de"
   },
   "outputs": [
    {
     "data": {
      "text/html": [
       "<div>\n",
       "<style scoped>\n",
       "    .dataframe tbody tr th:only-of-type {\n",
       "        vertical-align: middle;\n",
       "    }\n",
       "\n",
       "    .dataframe tbody tr th {\n",
       "        vertical-align: top;\n",
       "    }\n",
       "\n",
       "    .dataframe thead th {\n",
       "        text-align: right;\n",
       "    }\n",
       "</style>\n",
       "<table border=\"1\" class=\"dataframe\">\n",
       "  <thead>\n",
       "    <tr style=\"text-align: right;\">\n",
       "      <th></th>\n",
       "      <th>patterns</th>\n",
       "      <th>tags</th>\n",
       "    </tr>\n",
       "  </thead>\n",
       "  <tbody>\n",
       "    <tr>\n",
       "      <th>214</th>\n",
       "      <td>Bagaimana mencegah serangan pada WiFi rumah?</td>\n",
       "      <td>jaringan_wifi</td>\n",
       "    </tr>\n",
       "    <tr>\n",
       "      <th>215</th>\n",
       "      <td>Bagaimana cara beraktivitas di dunia maya deng...</td>\n",
       "      <td>safe_online_activities</td>\n",
       "    </tr>\n",
       "    <tr>\n",
       "      <th>216</th>\n",
       "      <td>Bagaimana cara menjaga keamanan saat berintera...</td>\n",
       "      <td>safe_online_activities</td>\n",
       "    </tr>\n",
       "    <tr>\n",
       "      <th>217</th>\n",
       "      <td>Apa tips untuk beraktivitas di dunia maya deng...</td>\n",
       "      <td>safe_online_activities</td>\n",
       "    </tr>\n",
       "    <tr>\n",
       "      <th>218</th>\n",
       "      <td>tolong berikan tips untuk beraktivitas di duni...</td>\n",
       "      <td>safe_online_activities</td>\n",
       "    </tr>\n",
       "  </tbody>\n",
       "</table>\n",
       "</div>"
      ],
      "text/plain": [
       "                                              patterns                    tags\n",
       "214       Bagaimana mencegah serangan pada WiFi rumah?           jaringan_wifi\n",
       "215  Bagaimana cara beraktivitas di dunia maya deng...  safe_online_activities\n",
       "216  Bagaimana cara menjaga keamanan saat berintera...  safe_online_activities\n",
       "217  Apa tips untuk beraktivitas di dunia maya deng...  safe_online_activities\n",
       "218  tolong berikan tips untuk beraktivitas di duni...  safe_online_activities"
      ]
     },
     "execution_count": 9,
     "metadata": {},
     "output_type": "execute_result"
    }
   ],
   "source": [
    "# Cetak data baris ke-70 sampai baris akhir\n",
    "data.tail() "
   ]
  },
  {
   "cell_type": "markdown",
   "id": "vHnr2WFvebeJ",
   "metadata": {
    "id": "vHnr2WFvebeJ"
   },
   "source": [
    "# 03 Preprocessing The Data\n",
    "\n",
    "Setelah kita meload data dan mengonversi data json menjadi dataframe. Tahapan selanjutnya adalah praproses pada dataset yang kita gunakan saat ini yaitu dengan cara:\n",
    "\n",
    "![Praproses.png](data:image/png;base64,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)\n",
    "\n",
    "1.   Remove Punctuations (Menghapus Punktuasi)\n",
    "2.   Lematization (Lematisasi)\n",
    "3.   Tokenization (Tokenisasi)\n",
    "4.   Apply Padding (Padding)\n",
    "5.   Encoding the Outputs (Konversi Keluaran Enkoding)\n",
    "\n",
    "Kelima tahapan pemrosesan teks ini dijelaskan pada bagian langkah selanjutnya."
   ]
  },
  {
   "cell_type": "markdown",
   "id": "u_04NeXTIImg",
   "metadata": {
    "id": "u_04NeXTIImg"
   },
   "source": [
    "## Remove Punctuations\n",
    "\n",
    "Tahapan praproses pada data teks yang pertama adalah menghapus punktuasi atau tanda baca seperti *special character* yaitu **'!'** (**tanda seru**) **','** (**tanda koma**) **'.'** (**tanda titik sebagai berhenti**) '**?**' (**tanda tanya**) dan tanda baca yang lain. Tahapan ini gunanya untuk mempermudah pemrosesan data teks yang akan kita olah."
   ]
  },
  {
   "cell_type": "code",
   "execution_count": 10,
   "id": "Gh-7EtrfhQgY",
   "metadata": {
    "id": "Gh-7EtrfhQgY"
   },
   "outputs": [],
   "source": [
    "# Removing Punctuations (Menghilangkan Punktuasi)\n",
    "data['patterns'] = data['patterns'].apply(lambda wrd:[ltrs.lower() for ltrs in wrd if ltrs not in string.punctuation])\n",
    "data['patterns'] = data['patterns'].apply(lambda wrd: ''.join(wrd))"
   ]
  },
  {
   "cell_type": "markdown",
   "id": "5brR-qBLJDa_",
   "metadata": {
    "id": "5brR-qBLJDa_"
   },
   "source": [
    "## Lemmatization (Lematisasi)\n",
    "\n",
    "Setelah menghapus punktuasi atau tanda baca, tahapan selanjutnya yaitu Lematisasi atau Lemmatization. **Apa itu Lematisasi?**\n",
    "\n",
    "Lematisasi atau Lemmatization adalah proses dimana merujuk pada melakukan sesuatu menggunakan vocabulary atau kosakata dan analisis morfologi kata-kata untuk menghilangkan *inflectional endings only* dan untuk mengembalikan bentuk *dictionary* (kata dalam kamus) dari sebuah kata yang dikenal sebagai ***lemma***. \n",
    "\n",
    "Contoh Lematisasi : **Menggunakan** (Kata Imbuhan) -> **Guna** (Kata Dasar) \n",
    "\n",
    "Dalam contoh berikut proses lematisasi awalnya data teks menggunakan kata imbuhan yaitu **Menggunakan** dimana **meng-** + **guna** (kata dasar yang berawalan vokal g) + **kan** (sebagai akhiran) diubah menjadi kata dasar yaitu '**Guna**'. \n",
    "\n",
    "Proses ini dimana menghilangkan Prefiks pada imbuhan (**Meng-**) dan Suffiks pada (**-kan**)."
   ]
  },
  {
   "cell_type": "code",
   "execution_count": 11,
   "id": "22MVRGBsO9gX",
   "metadata": {
    "colab": {
     "base_uri": "https://localhost:8080/"
    },
    "id": "22MVRGBsO9gX",
    "outputId": "1ccd3caa-1b13-43d0-f97a-0bd37f8606dd"
   },
   "outputs": [
    {
     "name": "stdout",
     "output_type": "stream",
     "text": [
      "139 unique lemmatized words ['(', ')', ',', '.', 'ada', 'afternoon', 'aja', 'aman', 'anak', 'apa', 'atau', 'bagaimana', 'bai', 'banyak', 'bentuk', 'beraktivitas', 'berikan', 'berinteraksi', 'bersifat', 'bikinan', 'bisa', 'bro', 'buat', 'buatan', 'bye', 'byee', 'cara', 'ciri-ciri', 'contoh', 'cyberbullying', 'cybercrime', 'dadah', 'dah', 'dari', 'data', 'ddos', 'dengan', 'denial-of-service', 'di', 'dilakukan', 'diri', 'distributed', 'dunia', 'email', 'emang', 'good', 'hai', 'hallo', 'halo', 'harus', 'hei', 'hi', 'hy', 'identitas', 'ilegal', 'informasi', 'itu', 'jaringan', 'jenis', 'jika', 'jumpa', 'kamu', 'kasih', 'kawan', 'keamanan', 'kejahatan', 'keuangan', 'kita', 'konten', 'lakukan', 'lo', 'makasih', 'malam', 'malware', 'maya', 'melalui', 'melindungi', 'memastikan', 'meminta', 'mencegah', 'menerima', 'mengatasi', 'mengetahui', 'menghentikan', 'menghindari', 'menjaga', 'merima', 'minta', 'morning', 'ok', 'online', 'pada', 'pagi', 'palsu', 'pelanggaran', 'pembuatmu', 'penciptamu', 'pencurian', 'penipuan', 'penyebaran', 'peretasan', 'pesan', 'phishing', 'pribadi', 'privasi', 'ransomware', 'rumah', 'saat', 'safebot', 'saja', 'sampai', 'saya', 'sebutkan', 'secara', 'see', 'seksual', 'selamat', 'sensitif', 'seperti', 'serangan', 'si', 'siang', 'siapa', 'siber', 'sih', 'sore', 'terhindar', 'terima', 'termasuk', 'teroris', 'thank', 'thanks', 'tinggal', 'tip', 'tolong', 'untuk', 'wifi', 'yang', 'you']\n"
     ]
    }
   ],
   "source": [
    "lemmatizer = WordNetLemmatizer()\n",
    "words = [lemmatizer.lemmatize(w.lower()) for w in words if w not in ignore_words]\n",
    "words = sorted(list(set(words)))\n",
    "\n",
    "print (len(words), \"unique lemmatized words\", words)"
   ]
  },
  {
   "cell_type": "markdown",
   "id": "zmZpqovQE1Zb",
   "metadata": {
    "id": "zmZpqovQE1Zb"
   },
   "source": [
    "### Menyortir Data Kelas Tags"
   ]
  },
  {
   "cell_type": "code",
   "execution_count": 12,
   "id": "TK_v4Zw5P8rn",
   "metadata": {
    "colab": {
     "base_uri": "https://localhost:8080/"
    },
    "id": "TK_v4Zw5P8rn",
    "outputId": "739a5170-9d3f-45bf-e19b-a73fe6de5e2d"
   },
   "outputs": [
    {
     "name": "stdout",
     "output_type": "stream",
     "text": [
      "44 classes ['Safebot', 'ciri_ddos', 'ciri_malware', 'ciri_phishing', 'ciri_ransomware', 'contoh_cybercrime', 'cyberbullying', 'cyberbullying_prevention', 'cybercrime', 'data_pribadi', 'ddos', 'ddos_prevented', 'goodbye', 'greeting', 'identitas_palsu', 'identity_theft_prevented', 'illegal_content_prevented', 'jaringan_wifi', 'kejahatan_seks', 'kejahatan_siber_anak_prevention', 'keuangan_online', 'konten_ilegal', 'malware', 'malware_prevented', 'network_hacking_prevention', 'online_financial_fraud_prevention', 'online_scam_prevented', 'online_sexual_crime_prevention', 'online_terrorism_prevention', 'pelanggaran_privacy', 'pencipta', 'pencurian_identitas', 'penipuan_online', 'phishing', 'phishing_case', 'phishing_prevented', 'privacy_breach_prevented', 'ransomware', 'ransomware_prevented', 'retas_jaringan', 'safe_online_activities', 'siber_anak', 'terimakasih', 'teroris_online']\n"
     ]
    }
   ],
   "source": [
    "# sort classes\n",
    "classes = sorted(list(set(classes)))\n",
    "print (len(classes), \"classes\", classes)"
   ]
  },
  {
   "cell_type": "markdown",
   "id": "u8s3ZKI9FCwo",
   "metadata": {
    "id": "u8s3ZKI9FCwo"
   },
   "source": [
    "### Mencari Jumlah Keseluruhan Data Teks"
   ]
  },
  {
   "cell_type": "code",
   "execution_count": 13,
   "id": "Tv5lLFn1QCDP",
   "metadata": {
    "colab": {
     "base_uri": "https://localhost:8080/"
    },
    "id": "Tv5lLFn1QCDP",
    "outputId": "6b2ed1d9-c4f8-42f9-a0bb-acae5db50f7b"
   },
   "outputs": [
    {
     "name": "stdout",
     "output_type": "stream",
     "text": [
      "1441 documents\n"
     ]
    }
   ],
   "source": [
    "# documents = combination between patterns and intents\n",
    "print (len(documents), \"documents\")"
   ]
  },
  {
   "cell_type": "markdown",
   "id": "sVdv1gW5N7a6",
   "metadata": {
    "id": "sVdv1gW5N7a6"
   },
   "source": [
    "## Tokenization (Tokenisasi)\n",
    "\n",
    "Setelah proses lematisasi dan mencari tahu data classes dan jumlah keseluruhan data patterns dengan intents-nya. Maka, tahapan selanjutnya proses tokenisasi. **Apa itu Tokenisasi?**\n",
    "\n",
    "Tokenisasi adalah suatu proses memberikan urutan karakter dan sebuah unit dokumen terdefinisi. Tokenisasi juga merupakan tugas untuk memecah kalimat menjadi bagian-bagian yang disebut dengan '**Token**' dan menghilangkan bagian tertentu seperti tanda baca.\n",
    "\n",
    "Contohnya: **Aku Pergi Ke Makassar** -> '**Aku**' '**Pergi**' '**Ke**' '**Makassar**'"
   ]
  },
  {
   "cell_type": "code",
   "execution_count": 14,
   "id": "Xr5aehymeQdi",
   "metadata": {
    "colab": {
     "base_uri": "https://localhost:8080/"
    },
    "id": "Xr5aehymeQdi",
    "outputId": "de5aa76e-f55d-487f-e3b2-0773eccf9190"
   },
   "outputs": [
    {
     "data": {
      "text/plain": [
       "[[84],\n",
       " [85],\n",
       " [86],\n",
       " [87],\n",
       " [88],\n",
       " [89],\n",
       " [90],\n",
       " [91],\n",
       " [92],\n",
       " [93],\n",
       " [94],\n",
       " [95],\n",
       " [96],\n",
       " [97],\n",
       " [98],\n",
       " [99],\n",
       " [100],\n",
       " [60],\n",
       " [101],\n",
       " [102, 60],\n",
       " [103, 104],\n",
       " [105, 106],\n",
       " [107],\n",
       " [108, 71],\n",
       " [109, 60],\n",
       " [110],\n",
       " [111, 71],\n",
       " [72, 73],\n",
       " [112],\n",
       " [72, 73, 113],\n",
       " [1, 2, 74],\n",
       " [49, 74],\n",
       " [49, 114],\n",
       " [49, 3, 9, 115, 75],\n",
       " [75, 116, 49],\n",
       " [117, 118, 49],\n",
       " [49, 119],\n",
       " [29, 2, 1],\n",
       " [4, 10, 2, 1, 3],\n",
       " [5, 29, 2, 1, 3],\n",
       " [1, 2, 29],\n",
       " [4, 10, 5, 1],\n",
       " [4, 25, 26, 5, 1],\n",
       " [1, 2, 4, 25, 26],\n",
       " [29, 2, 1, 3],\n",
       " [4, 10, 2, 1, 3],\n",
       " [12, 50, 2, 1],\n",
       " [12, 50, 2, 1, 3],\n",
       " [5, 12, 50, 2, 1, 3],\n",
       " [12, 50, 5, 1],\n",
       " [12, 50, 5, 1, 3],\n",
       " [1, 2, 12, 50],\n",
       " [1, 30, 9, 61, 53, 43, 9, 54, 55],\n",
       " [1, 30, 3, 9, 61, 53, 43, 9, 54, 55],\n",
       " [53, 43, 9, 54, 55, 2, 1, 30],\n",
       " [31, 44, 1, 30, 9, 61, 53, 43, 9, 54, 55],\n",
       " [53, 43, 9, 54, 55, 2, 1, 30, 3],\n",
       " [1, 32, 3, 62, 8, 29],\n",
       " [1, 32, 3, 62, 8, 4, 25, 26],\n",
       " [1, 32, 3, 62, 8, 4, 10],\n",
       " [1, 32, 3, 63, 8, 29],\n",
       " [1, 32, 3, 63, 8, 4, 25, 26],\n",
       " [1, 32, 3, 63, 8, 4, 10],\n",
       " [29, 2, 64, 1],\n",
       " [4, 10, 2, 64, 1],\n",
       " [4, 25, 26, 2, 64, 1],\n",
       " [1, 32, 3, 51, 8, 29],\n",
       " [31, 44, 51, 8, 29],\n",
       " [1, 32, 3, 51, 8, 4, 25, 26],\n",
       " [31, 44, 51, 8, 4, 25, 26],\n",
       " [1, 32, 3, 51, 8, 4, 10],\n",
       " [31, 44, 51, 8, 4, 10],\n",
       " [16, 7, 2, 1],\n",
       " [16, 7, 2, 1, 3],\n",
       " [5, 16, 7, 2, 1, 3],\n",
       " [16, 7, 5, 1],\n",
       " [16, 7, 5, 1, 3],\n",
       " [1, 2, 16, 7],\n",
       " [6, 11, 76, 16, 7],\n",
       " [6, 14, 16, 7],\n",
       " [6, 17, 8, 16, 7],\n",
       " [33, 12, 2, 1],\n",
       " [33, 12, 2, 1, 3],\n",
       " [5, 33, 12, 2, 1, 3],\n",
       " [33, 12, 5, 1],\n",
       " [33, 12, 5, 1, 3],\n",
       " [1, 2, 33, 12],\n",
       " [6, 11, 15, 24, 8, 33, 12],\n",
       " [6, 17, 8, 33, 12],\n",
       " [6, 14, 33, 12],\n",
       " [34, 2, 1],\n",
       " [34, 2, 1, 3],\n",
       " [5, 34, 2, 1, 3],\n",
       " [34, 5, 1],\n",
       " [34, 5, 1, 3],\n",
       " [1, 2, 34],\n",
       " [6, 11, 120, 34],\n",
       " [6, 15, 24, 8, 34],\n",
       " [1, 9, 56, 52, 45, 121, 34],\n",
       " [46, 35, 2, 1],\n",
       " [46, 35, 2, 1, 3],\n",
       " [5, 46, 35, 2, 1, 3],\n",
       " [46, 35, 5, 1],\n",
       " [46, 35, 5, 1, 3],\n",
       " [1, 2, 46, 35],\n",
       " [6, 11, 15, 35, 47],\n",
       " [6, 17, 8, 46, 35],\n",
       " [6, 14, 46, 35],\n",
       " [36, 37, 38, 2, 1],\n",
       " [36, 37, 38, 2, 1, 3],\n",
       " [5, 36, 37, 38, 2, 1, 3],\n",
       " [36, 37, 38, 5, 1],\n",
       " [36, 37, 38, 5, 1, 3],\n",
       " [1, 2, 36, 37, 38],\n",
       " [6, 11, 14, 36, 37, 38],\n",
       " [6, 15, 24, 8, 36, 37, 38],\n",
       " [6, 17, 8, 36, 37, 38],\n",
       " [39, 27, 2, 1],\n",
       " [39, 27, 2, 1, 3],\n",
       " [5, 39, 27, 2, 1, 3],\n",
       " [39, 27, 5, 1],\n",
       " [39, 27, 5, 1, 3],\n",
       " [1, 2, 39, 27],\n",
       " [6, 11, 15, 24, 8, 39, 27],\n",
       " [6, 17, 8, 13, 39, 27],\n",
       " [1, 9, 56, 52, 45, 14, 39, 27],\n",
       " [4, 40, 7, 2, 1],\n",
       " [4, 40, 7, 2, 1, 3],\n",
       " [5, 4, 40, 7, 2, 1, 3],\n",
       " [4, 40, 7, 5, 1],\n",
       " [4, 40, 7, 5, 1, 3],\n",
       " [1, 2, 4, 40, 7],\n",
       " [6, 11, 15, 24, 8, 16, 40, 7],\n",
       " [6, 17, 8, 16, 40, 7],\n",
       " [1, 9, 56, 52, 45, 14, 16, 40, 7],\n",
       " [4, 10, 28, 2, 1],\n",
       " [4, 10, 28, 2, 1, 3],\n",
       " [5, 4, 10, 28, 2, 1, 3],\n",
       " [4, 10, 28, 5, 1],\n",
       " [4, 10, 28, 5, 1, 3],\n",
       " [1, 2, 4, 10, 28],\n",
       " [6, 11, 15, 28, 8, 4, 10, 28],\n",
       " [6, 14, 4, 10, 28],\n",
       " [1, 9, 56, 52, 45, 76, 4, 10, 28],\n",
       " [4, 41, 7, 2, 1],\n",
       " [4, 41, 7, 2, 1, 3],\n",
       " [5, 4, 41, 7, 2, 1, 3],\n",
       " [4, 41, 7, 5, 1],\n",
       " [4, 41, 7, 5, 1, 3],\n",
       " [1, 2, 4, 41, 7],\n",
       " [6, 11, 15, 24, 8, 4, 41, 7],\n",
       " [6, 17, 8, 4, 41, 7],\n",
       " [1, 9, 57, 52, 45, 14, 4, 41, 7],\n",
       " [4, 42, 7, 2, 1],\n",
       " [4, 42, 7, 2, 1, 3],\n",
       " [5, 4, 42, 7, 2, 1, 3],\n",
       " [4, 42, 7, 5, 1],\n",
       " [4, 42, 7, 5, 1, 3],\n",
       " [1, 2, 4, 42, 7],\n",
       " [6, 11, 15, 24, 8, 4, 42, 7],\n",
       " [6, 17, 8, 4, 42, 7],\n",
       " [1, 9, 57, 52, 45, 14, 4, 42, 7],\n",
       " [18, 2, 1],\n",
       " [18, 2, 1, 3],\n",
       " [5, 18, 2, 1, 3],\n",
       " [18, 5, 1],\n",
       " [18, 5, 1, 3],\n",
       " [1, 2, 18],\n",
       " [6, 58, 59, 18],\n",
       " [1, 30, 48, 18],\n",
       " [31, 44, 48, 18],\n",
       " [6, 11, 15, 24, 8, 13, 18],\n",
       " [6, 17, 8, 13, 18],\n",
       " [6, 14, 13, 18],\n",
       " [47, 122, 65, 9, 77, 66, 43, 47, 1, 9, 57, 47, 78],\n",
       " [79, 47, 123, 65, 9, 124, 66, 43, 47, 1, 9, 57, 47, 78],\n",
       " [6, 79, 125, 9, 77, 66, 43, 47, 126, 127, 128, 65],\n",
       " [19, 2, 1],\n",
       " [19, 2, 1, 3],\n",
       " [5, 19, 2, 1, 3],\n",
       " [19, 5, 1],\n",
       " [19, 5, 1, 3],\n",
       " [1, 2, 19],\n",
       " [6, 58, 59, 13, 19],\n",
       " [1, 30, 48, 19],\n",
       " [31, 44, 48, 19],\n",
       " [6, 11, 15, 24, 8, 13, 19],\n",
       " [6, 17, 8, 13, 19],\n",
       " [6, 14, 13, 19],\n",
       " [20, 21, 22, 2, 1],\n",
       " [20, 21, 22, 2, 1, 3],\n",
       " [5, 20, 21, 22, 2, 1, 3],\n",
       " [20, 21, 22, 5, 1],\n",
       " [20, 21, 22, 5, 1, 3],\n",
       " [1, 2, 20, 21, 22],\n",
       " [6, 11, 15, 24, 8, 13, 20, 21, 22],\n",
       " [6, 17, 8, 13, 20, 21, 22],\n",
       " [6, 14, 13, 20, 21, 22],\n",
       " [6, 58, 59, 4, 20, 21, 22],\n",
       " [1, 30, 48, 20, 21, 22],\n",
       " [31, 44, 48, 20, 21, 22],\n",
       " [23, 2, 1],\n",
       " [23, 2, 1, 3],\n",
       " [5, 23, 2, 1, 3],\n",
       " [23, 5, 1],\n",
       " [23, 5, 1, 3],\n",
       " [1, 2, 23],\n",
       " [6, 11, 15, 24, 8, 13, 23],\n",
       " [6, 17, 8, 13, 23],\n",
       " [6, 14, 13, 23],\n",
       " [6, 58, 59, 4, 23],\n",
       " [1, 30, 48, 23],\n",
       " [31, 44, 48, 23],\n",
       " [6, 11, 129, 80, 27, 81, 82],\n",
       " [6, 14, 13, 130, 81, 82],\n",
       " [6, 11, 67, 68, 25, 26, 69, 70],\n",
       " [6, 11, 131, 80, 132, 133, 134, 7],\n",
       " [1, 83, 45, 67, 68, 25, 26, 69, 70],\n",
       " [31, 135, 83, 45, 67, 68, 25, 26, 69, 70]]"
      ]
     },
     "execution_count": 14,
     "metadata": {},
     "output_type": "execute_result"
    }
   ],
   "source": [
    "# Tokenize the data (Tokenisasi Data)\n",
    "tokenizer = Tokenizer(num_words=2000)\n",
    "tokenizer.fit_on_texts(data['patterns'])\n",
    "train = tokenizer.texts_to_sequences(data['patterns'])\n",
    "train"
   ]
  },
  {
   "cell_type": "markdown",
   "id": "LfEpFf0hPOUZ",
   "metadata": {
    "id": "LfEpFf0hPOUZ"
   },
   "source": [
    "## Add Padding\n",
    "\n",
    "Setelah memproses tokenisasi yang dimana memecah kalimat menajdi bagian-bagian yang disebut token yang digunakan untuk mengolah data teks pada AI Chatbot maka tahapan selanjutnya adalah Padding.\n",
    "**Apa itu Padding?**\n",
    "\n",
    "**Padding** adalah Suatu proses untuk mengubah setiap sequence agar memiliki panjang yang sama. Pada padding, setiap sequence dibuat sama panjang dengan menambahkan nilai 0 secara suffiks atau prefiks hingga mencapai panjang maksimum sequence. Selain itu padding juga dapat memotong sequence hingga panjangnya sesuai dengan panjang maksimum sequence. \n",
    "\n",
    "Padding juga adalah proses untuk membuat setiap kalimat pada teks memiliki panjang yang seragam. Sama seperti melakukan resize gambar, agar resolusi setiap gambar sama besar. Untuk menggunakan padding bisa impor library **pad_sequence**. Kemudian buat panggil fungsi pad_sequence() dan masukkan sequence hasil tokenisasi sebagai parameternya.\n",
    "\n",
    "Contohnya: `sequences_samapanjang = pad_sequences(sequences)`\n",
    "\n",
    "Yang nantinya akan dikeluarkan menjadi angka dengan awalan 0 seperti gambar dibawah ini.\n",
    "\n",
    "![Padding.jpeg](data:image/jpeg;base64,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)"
   ]
  },
  {
   "cell_type": "code",
   "execution_count": 15,
   "id": "5BQdPUTNvS1t",
   "metadata": {
    "colab": {
     "base_uri": "https://localhost:8080/"
    },
    "id": "5BQdPUTNvS1t",
    "outputId": "3bc9e985-590e-44d4-e034-1af96b3a56e8"
   },
   "outputs": [
    {
     "name": "stdout",
     "output_type": "stream",
     "text": [
      "[[  0   0   0 ...   0   0  84]\n",
      " [  0   0   0 ...   0   0  85]\n",
      " [  0   0   0 ...   0   0  86]\n",
      " ...\n",
      " [  0   0   0 ... 133 134   7]\n",
      " [  0   0   0 ...  26  69  70]\n",
      " [  0   0   0 ...  26  69  70]]\n"
     ]
    }
   ],
   "source": [
    "# Apply padding \n",
    "x_train = pad_sequences(train)\n",
    "print(x_train) # Padding Sequences"
   ]
  },
  {
   "cell_type": "markdown",
   "id": "1Khg-ygkb0nD",
   "metadata": {
    "id": "1Khg-ygkb0nD"
   },
   "source": [
    "Hasil setelah padding adalah setiap sequence memiliki panjang yang sama. Padding dapat melakukan ini dengan menambahkan 0 secara default pada awal sequence yang lebih pendek."
   ]
  },
  {
   "cell_type": "markdown",
   "id": "qY0vxxwBPeJC",
   "metadata": {
    "id": "qY0vxxwBPeJC"
   },
   "source": [
    "## Encoding Text\n",
    "\n",
    "Setelah tahapan proses Padding pada suatu teks maka proses terakhir dalam pemrosesan teks adalah tahapan Encoding. **Apa itu Encoding?**\n",
    "\n",
    "Encoding merupakan suatu konversi atau pengkodean yang dimana data kategorik seperti huruf atau data teks menjadi data numerik atau angka menyesuaikan dengan data label yang digunakan. Pada proses tahapan ini, encoding mengubah data teks pada kolom data tags menjadi data numerik dengan bahasa biner komputer yaitu 0 dan 1. \n",
    "\n",
    "Tujuan dari encoding ini adalah mempermudah saat proses komputasi data teks dan modelling."
   ]
  },
  {
   "cell_type": "code",
   "execution_count": 16,
   "id": "sczq--IpTYWa",
   "metadata": {
    "colab": {
     "base_uri": "https://localhost:8080/"
    },
    "id": "sczq--IpTYWa",
    "outputId": "1d580bd4-927d-4690-c8af-eb31020d1687"
   },
   "outputs": [
    {
     "name": "stdout",
     "output_type": "stream",
     "text": [
      "[13 13 13 13 13 13 13 13 13 13 13 13 13 13 13 12 12 12 12 12 12 12 12 12\n",
      " 12 42 42 42 42 42  0  0 30 30 30 30 30  8  8  8  8  8  8  8  8  8 14 14\n",
      " 14 14 14 14  9  9  9  9  9  5  5  5  5  5  5  5  5  5  5  5  5  5  5  5\n",
      " 32 32 32 32 32 32 26 26 26 31 31 31 31 31 31 15 15 15  6  6  6  6  6  6\n",
      "  7  7  7 29 29 29 29 29 29 36 36 36 21 21 21 21 21 21 16 16 16 39 39 39\n",
      " 39 39 39 24 24 24 20 20 20 20 20 20 25 25 25 41 41 41 41 41 41 19 19 19\n",
      " 18 18 18 18 18 18 27 27 27 43 43 43 43 43 43 28 28 28 33 33 33 33 33 33\n",
      "  3  3  3 35 35 35 34 34 34 22 22 22 22 22 22  2  2  2 23 23 23 10 10 10\n",
      " 10 10 10 11 11 11  1  1  1 37 37 37 37 37 37 38 38 38  4  4  4 17 17 40\n",
      " 40 40 40]\n"
     ]
    }
   ],
   "source": [
    "# Encoding the outputs \n",
    "le = LabelEncoder()\n",
    "y_train = le.fit_transform(data['tags'])\n",
    "print(y_train) #Label Encodings"
   ]
  },
  {
   "cell_type": "markdown",
   "id": "D9rKggGCgnjT",
   "metadata": {
    "id": "D9rKggGCgnjT"
   },
   "source": [
    "Tokenizer pada Tensorflow memberikan token unik untuk setiap kata yang berbeda. Dan juga padding dilakukan untuk mendapatkan semua data dengan panjang yang sama sehingga dapat mengirimkannya ke lapisan atau layer RNN. variabel target juga dikodekan menjadi nilai desimal."
   ]
  },
  {
   "cell_type": "markdown",
   "id": "_hE21zfRhiNS",
   "metadata": {
    "id": "_hE21zfRhiNS"
   },
   "source": [
    "# 04 Input Length, Output Length and Vocabulary\n",
    "\n"
   ]
  },
  {
   "cell_type": "code",
   "execution_count": 17,
   "id": "dbtBZXFvgvCB",
   "metadata": {
    "colab": {
     "base_uri": "https://localhost:8080/"
    },
    "id": "dbtBZXFvgvCB",
    "outputId": "45fcb544-0e8e-43a0-f2b5-46ec2c54d22d"
   },
   "outputs": [
    {
     "name": "stdout",
     "output_type": "stream",
     "text": [
      "14\n"
     ]
    }
   ],
   "source": [
    "# input length\n",
    "input_shape = x_train.shape[1]\n",
    "print(input_shape)"
   ]
  },
  {
   "cell_type": "code",
   "execution_count": 18,
   "id": "310y6oNLhuzv",
   "metadata": {
    "colab": {
     "base_uri": "https://localhost:8080/"
    },
    "id": "310y6oNLhuzv",
    "outputId": "8359d50e-0610-452e-8cb0-faff24962fbd"
   },
   "outputs": [
    {
     "name": "stdout",
     "output_type": "stream",
     "text": [
      "number of unique words :  135\n",
      "output length:  44\n"
     ]
    }
   ],
   "source": [
    "# define vocabulary\n",
    "vocabulary = len(tokenizer.word_index)\n",
    "print(\"number of unique words : \", vocabulary)\n",
    "\n",
    "# output length\n",
    "output_length = le.classes_.shape[0]\n",
    "print(\"output length: \", output_length)"
   ]
  },
  {
   "cell_type": "markdown",
   "id": "AInHhmVGict2",
   "metadata": {
    "id": "AInHhmVGict2"
   },
   "source": [
    "**Input length** dan **output length** terlihat sangat jelas hasilnya. Mereka adalah untuk bentuk input dan bentuk output dari data train atau latih yang akan diproses pada algoritma Neural Network atau Jaringan Syaraf Tiruan.\n",
    "\n",
    "**Vocabulary Size** adalah untuk lapisan penyematan untuk membuat representasi vektor unik untuk setiap kata."
   ]
  },
  {
   "cell_type": "markdown",
   "id": "1LxIElYjQbB7",
   "metadata": {
    "id": "1LxIElYjQbB7"
   },
   "source": [
    "## Save Model Words & Classes\n",
    "\n",
    "Setelah dilakukan pemrosesan teks yang dilakukan lima tahap maka kita bisa simpan model pemrosesan teks tersebut dengan menggunakan format pickle. \n",
    "\n",
    "Hal ini biasanya digunakan untuk membuat hubungan model yang telah dilatih dengan model pemrosesan teks. "
   ]
  },
  {
   "cell_type": "code",
   "execution_count": 19,
   "id": "wYV77QFbQVLP",
   "metadata": {
    "id": "wYV77QFbQVLP"
   },
   "outputs": [],
   "source": [
    "pickle.dump(words, open('words.pkl','wb'))\n",
    "pickle.dump(classes, open('classes.pkl','wb'))"
   ]
  },
  {
   "cell_type": "markdown",
   "id": "dY9COWCwexgZ",
   "metadata": {
    "id": "dY9COWCwexgZ"
   },
   "source": [
    "## Save Label Encoder & Tokenizer"
   ]
  },
  {
   "cell_type": "code",
   "execution_count": 20,
   "id": "saM3QTSjewR4",
   "metadata": {
    "id": "saM3QTSjewR4"
   },
   "outputs": [],
   "source": [
    "pickle.dump(le, open('le.pkl','wb'))\n",
    "pickle.dump(tokenizer, open('tokenizers.pkl','wb'))"
   ]
  },
  {
   "cell_type": "markdown",
   "id": "BI7OvNariInQ",
   "metadata": {
    "id": "BI7OvNariInQ"
   },
   "source": [
    "# 05 Neural Network Model (LSTM)\n",
    "\n",
    "Setelah menyimpan model untuk pemrosesan teks, tahapan selanjutnya adalah melakukan modelling untuk Chatbot dengan menggunakan algoritma Neural Network atau Jaringan Syaraf Tiruan dengan algoritma LSTM (Long Short Term Memory). **Apa itu Algoritma LSTM?**\n",
    "\n",
    "**LSTM (Long Short Term Memory)** merupakan algoritma Deep Learning yang populer dan cocok digunakan untuk membuat prediksi dan klasifikasi yang berhubungan dengan waktu dan data teks. \n",
    "\n",
    "Algoritma ini bisa dikatakan pengembangan atau salah satu jenis dari algoritma RNN (Recurrent Neural Network). Dalam algoritma RNN, output dari langkah terakhir diumpankan kembali sebagai input pada langkah yang sedang aktif. Namun, algoritma RNN memiliki kekurangan yaitu tidak dapat memprediksi kata yang disimpan dalam memori jangka panjang.\n",
    "\n",
    "Nah, algoritma LSTM dirancang untuk mengatasi kelemahan tersebut, namun tetap mempertahankan kelebihan yang ada pada algoritma RNN dimana RNN mampu memberikan prediksi yang lebih akurat dari informasi terbaru.\n",
    "\n",
    "Algoritma LSTM pertama kali dikembangkan oleh Hochreiter dan Schmidhuber.  Algoritma ini mampu menyimpan informasi untuk jangka waktu yang lama. Hal ini kemudian dapat digunakan untuk memproses, memprediksi, dan mengklasifikasikan informasi berdasarkan data deret waktu.\n",
    "\n",
    "Struktur algoritma LSTM terdiri atas neural network dan beberapa blok memori yang berbeda. Blok memori ini disebut sebagai cell.  State dari cell dan hidden state akan diteruskan ke cell berikutnya.\n",
    "\n",
    "Seperti yang ditunjukkan pada gambar di bawah, bangun berbentuk persegi panjang berwarna biru adalah **ilustrasi cell** pada LSTM.\n",
    "\n",
    "![LSTM_deep_learning_algorithms.webp](data:image/webp;base64,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)\n",
    "\n",
    "Informasi yang dikumpulkan oleh algoritma LSTM kemudian akan disimpan oleh cell dan manipulasi memori dilakukan oleh komponen yang disebut dengan gate. Ada tiga jenis gate pada algoritma LSTM, di antaranya  Forget gate, Input gate, dan  Output gate. Sumber : [Trivusi](https://www.trivusi.web.id/2022/07/algoritma-lstm.html)\n",
    "\n",
    "Jaringan syaraf dalam kasus chatbot ini yang terdiri dari lapisan atau *layer* embedding yang merupakan salah satu hal yang paling kuat di bidang pemrosesan bahasa alami atau NLP. output atau keluaran dari lapisan (*layer*) embedding adalah input (masukan) data teks dari lapisan berulang (*recurrent*) dengan layer LSTM gate (Lapisan Gerbang **Long Shot Term Memory)**. Kemudian, output atau keluaran diratakan dan lapisan Dense digunakan dengan fungsi aktivasi **Softmax** yang dimana implementasi chatbot ini memiliki data label lebih dari dua kelas.\n",
    "\n",
    "Bagian utama dalam pemodelan chatbot ini adalah lapisan embedding yang memberikan nilai vektor yang sesuai untuk setiap kata dalam data teks yang telah dimasukkan."
   ]
  },
  {
   "cell_type": "code",
   "execution_count": 21,
   "id": "2XBG3_reh2KY",
   "metadata": {
    "id": "2XBG3_reh2KY"
   },
   "outputs": [],
   "source": [
    "# Creating the model (Membuat Modeling)\n",
    "i = Input(shape=(input_shape,))\n",
    "x = Embedding(vocabulary+1,10)(i) # Layer Embedding\n",
    "x = LSTM(10, return_sequences=True)(x) # Layer Long Short Term Memory\n",
    "x = Flatten()(x) # Layer Flatten\n",
    "x = Dense(output_length, activation=\"softmax\")(x) # Layer Dense\n",
    "model  = Model(i,x)\n",
    "\n",
    "# Compiling the model (Kompilasi Model)\n",
    "model.compile(loss=\"sparse_categorical_crossentropy\", optimizer='adam', metrics=['accuracy'])"
   ]
  },
  {
   "cell_type": "code",
   "execution_count": 22,
   "id": "SO1blkS7ZzuH",
   "metadata": {
    "colab": {
     "base_uri": "https://localhost:8080/",
     "height": 533
    },
    "id": "SO1blkS7ZzuH",
    "outputId": "4abb8624-1d6b-4cfa-f2fb-047153b1d904"
   },
   "outputs": [
    {
     "name": "stdout",
     "output_type": "stream",
     "text": [
      "You must install pydot (`pip install pydot`) and install graphviz (see instructions at https://graphviz.gitlab.io/download/) for plot_model to work.\n"
     ]
    }
   ],
   "source": [
    "# Visualization Plot Architecture Model (Visualisasi Plot Arsitektur Model)\n",
    "plot_model(model, to_file='model_plot.png', show_shapes=True, show_layer_names=True)"
   ]
  },
  {
   "cell_type": "code",
   "execution_count": 23,
   "id": "4hab_JHoopQI",
   "metadata": {
    "colab": {
     "base_uri": "https://localhost:8080/"
    },
    "id": "4hab_JHoopQI",
    "outputId": "c2e95e71-0cb5-4bfc-c96f-1724b0cdb857"
   },
   "outputs": [
    {
     "name": "stdout",
     "output_type": "stream",
     "text": [
      "Model: \"model\"\n",
      "_________________________________________________________________\n",
      " Layer (type)                Output Shape              Param #   \n",
      "=================================================================\n",
      " input_1 (InputLayer)        [(None, 14)]              0         \n",
      "                                                                 \n",
      " embedding (Embedding)       (None, 14, 10)            1360      \n",
      "                                                                 \n",
      " lstm (LSTM)                 (None, 14, 10)            840       \n",
      "                                                                 \n",
      " flatten (Flatten)           (None, 140)               0         \n",
      "                                                                 \n",
      " dense (Dense)               (None, 44)                6204      \n",
      "                                                                 \n",
      "=================================================================\n",
      "Total params: 8,404\n",
      "Trainable params: 8,404\n",
      "Non-trainable params: 0\n",
      "_________________________________________________________________\n"
     ]
    }
   ],
   "source": [
    "# Menampilkan Parameter Model\n",
    "model.summary() "
   ]
  },
  {
   "cell_type": "code",
   "execution_count": 24,
   "id": "AHtOlCb8kGgZ",
   "metadata": {
    "colab": {
     "base_uri": "https://localhost:8080/"
    },
    "id": "AHtOlCb8kGgZ",
    "outputId": "ee1389fb-cb3c-4673-826c-93e55d1a86a5"
   },
   "outputs": [
    {
     "name": "stdout",
     "output_type": "stream",
     "text": [
      "Epoch 1/400\n",
      "7/7 [==============================] - 2s 8ms/step - loss: 3.7828 - accuracy: 0.0183\n",
      "Epoch 2/400\n",
      "7/7 [==============================] - 0s 8ms/step - loss: 3.7717 - accuracy: 0.0411\n",
      "Epoch 3/400\n",
      "7/7 [==============================] - 0s 7ms/step - loss: 3.7590 - accuracy: 0.1005\n",
      "Epoch 4/400\n",
      "7/7 [==============================] - 0s 6ms/step - loss: 3.7427 - accuracy: 0.1370\n",
      "Epoch 5/400\n",
      "7/7 [==============================] - 0s 6ms/step - loss: 3.7158 - accuracy: 0.1279\n",
      "Epoch 6/400\n",
      "7/7 [==============================] - 0s 8ms/step - loss: 3.6836 - accuracy: 0.1187\n",
      "Epoch 7/400\n",
      "7/7 [==============================] - 0s 9ms/step - loss: 3.6476 - accuracy: 0.1005\n",
      "Epoch 8/400\n",
      "7/7 [==============================] - 0s 8ms/step - loss: 3.6148 - accuracy: 0.1005\n",
      "Epoch 9/400\n",
      "7/7 [==============================] - 0s 9ms/step - loss: 3.5950 - accuracy: 0.1005\n",
      "Epoch 10/400\n",
      "7/7 [==============================] - 0s 9ms/step - loss: 3.5804 - accuracy: 0.1096\n",
      "Epoch 11/400\n",
      "7/7 [==============================] - 0s 9ms/step - loss: 3.5574 - accuracy: 0.1050\n",
      "Epoch 12/400\n",
      "7/7 [==============================] - 0s 11ms/step - loss: 3.5391 - accuracy: 0.1142\n",
      "Epoch 13/400\n",
      "7/7 [==============================] - 0s 11ms/step - loss: 3.5185 - accuracy: 0.1187\n",
      "Epoch 14/400\n",
      "7/7 [==============================] - 0s 11ms/step - loss: 3.4957 - accuracy: 0.1233\n",
      "Epoch 15/400\n",
      "7/7 [==============================] - 0s 10ms/step - loss: 3.4726 - accuracy: 0.1279\n",
      "Epoch 16/400\n",
      "7/7 [==============================] - 0s 10ms/step - loss: 3.4429 - accuracy: 0.1279\n",
      "Epoch 17/400\n",
      "7/7 [==============================] - 0s 12ms/step - loss: 3.4096 - accuracy: 0.1324\n",
      "Epoch 18/400\n",
      "7/7 [==============================] - 0s 13ms/step - loss: 3.3766 - accuracy: 0.1324\n",
      "Epoch 19/400\n",
      "7/7 [==============================] - 0s 10ms/step - loss: 3.3393 - accuracy: 0.1416\n",
      "Epoch 20/400\n",
      "7/7 [==============================] - 0s 10ms/step - loss: 3.2984 - accuracy: 0.1461\n",
      "Epoch 21/400\n",
      "7/7 [==============================] - 0s 13ms/step - loss: 3.2560 - accuracy: 0.1461\n",
      "Epoch 22/400\n",
      "7/7 [==============================] - 0s 10ms/step - loss: 3.2092 - accuracy: 0.1461\n",
      "Epoch 23/400\n",
      "7/7 [==============================] - 0s 11ms/step - loss: 3.1622 - accuracy: 0.1553\n",
      "Epoch 24/400\n",
      "7/7 [==============================] - 0s 8ms/step - loss: 3.1128 - accuracy: 0.1553\n",
      "Epoch 25/400\n",
      "7/7 [==============================] - 0s 10ms/step - loss: 3.0632 - accuracy: 0.1598\n",
      "Epoch 26/400\n",
      "7/7 [==============================] - 0s 9ms/step - loss: 3.0127 - accuracy: 0.1644\n",
      "Epoch 27/400\n",
      "7/7 [==============================] - 0s 10ms/step - loss: 2.9599 - accuracy: 0.1689\n",
      "Epoch 28/400\n",
      "7/7 [==============================] - 0s 10ms/step - loss: 2.9099 - accuracy: 0.1689\n",
      "Epoch 29/400\n",
      "7/7 [==============================] - 0s 9ms/step - loss: 2.8557 - accuracy: 0.1735\n",
      "Epoch 30/400\n",
      "7/7 [==============================] - 0s 14ms/step - loss: 2.8024 - accuracy: 0.1826\n",
      "Epoch 31/400\n",
      "7/7 [==============================] - 0s 10ms/step - loss: 2.7510 - accuracy: 0.2100\n",
      "Epoch 32/400\n",
      "7/7 [==============================] - 0s 8ms/step - loss: 2.6970 - accuracy: 0.2192\n",
      "Epoch 33/400\n",
      "7/7 [==============================] - 0s 8ms/step - loss: 2.6496 - accuracy: 0.2511\n",
      "Epoch 34/400\n",
      "7/7 [==============================] - 0s 9ms/step - loss: 2.5920 - accuracy: 0.2648\n",
      "Epoch 35/400\n",
      "7/7 [==============================] - 0s 10ms/step - loss: 2.5424 - accuracy: 0.2694\n",
      "Epoch 36/400\n",
      "7/7 [==============================] - 0s 12ms/step - loss: 2.4859 - accuracy: 0.2877\n",
      "Epoch 37/400\n",
      "7/7 [==============================] - 0s 10ms/step - loss: 2.4350 - accuracy: 0.3059\n",
      "Epoch 38/400\n",
      "7/7 [==============================] - 0s 9ms/step - loss: 2.3849 - accuracy: 0.3151\n",
      "Epoch 39/400\n",
      "7/7 [==============================] - 0s 9ms/step - loss: 2.3387 - accuracy: 0.3379\n",
      "Epoch 40/400\n",
      "7/7 [==============================] - 0s 10ms/step - loss: 2.2881 - accuracy: 0.3607\n",
      "Epoch 41/400\n",
      "7/7 [==============================] - 0s 9ms/step - loss: 2.2448 - accuracy: 0.3927\n",
      "Epoch 42/400\n",
      "7/7 [==============================] - 0s 11ms/step - loss: 2.1980 - accuracy: 0.4201\n",
      "Epoch 43/400\n",
      "7/7 [==============================] - 0s 12ms/step - loss: 2.1581 - accuracy: 0.4064\n",
      "Epoch 44/400\n",
      "7/7 [==============================] - 0s 11ms/step - loss: 2.1194 - accuracy: 0.4384\n",
      "Epoch 45/400\n",
      "7/7 [==============================] - 0s 14ms/step - loss: 2.0852 - accuracy: 0.4658\n",
      "Epoch 46/400\n",
      "7/7 [==============================] - 0s 13ms/step - loss: 2.0376 - accuracy: 0.4749\n",
      "Epoch 47/400\n",
      "7/7 [==============================] - 0s 11ms/step - loss: 2.0017 - accuracy: 0.5068\n",
      "Epoch 48/400\n",
      "7/7 [==============================] - 0s 11ms/step - loss: 1.9696 - accuracy: 0.4795\n",
      "Epoch 49/400\n",
      "7/7 [==============================] - 0s 9ms/step - loss: 1.9378 - accuracy: 0.5205\n",
      "Epoch 50/400\n",
      "7/7 [==============================] - 0s 10ms/step - loss: 1.9034 - accuracy: 0.5114\n",
      "Epoch 51/400\n",
      "7/7 [==============================] - 0s 11ms/step - loss: 1.8674 - accuracy: 0.5434\n",
      "Epoch 52/400\n",
      "7/7 [==============================] - 0s 9ms/step - loss: 1.8315 - accuracy: 0.5434\n",
      "Epoch 53/400\n",
      "7/7 [==============================] - 0s 10ms/step - loss: 1.7979 - accuracy: 0.5388\n",
      "Epoch 54/400\n",
      "7/7 [==============================] - 0s 8ms/step - loss: 1.7655 - accuracy: 0.5434\n",
      "Epoch 55/400\n",
      "7/7 [==============================] - 0s 10ms/step - loss: 1.7318 - accuracy: 0.5708\n",
      "Epoch 56/400\n",
      "7/7 [==============================] - 0s 12ms/step - loss: 1.7073 - accuracy: 0.5708\n",
      "Epoch 57/400\n",
      "7/7 [==============================] - 0s 11ms/step - loss: 1.6744 - accuracy: 0.5890\n",
      "Epoch 58/400\n",
      "7/7 [==============================] - 0s 10ms/step - loss: 1.6441 - accuracy: 0.5890\n",
      "Epoch 59/400\n",
      "7/7 [==============================] - 0s 11ms/step - loss: 1.6148 - accuracy: 0.5845\n",
      "Epoch 60/400\n",
      "7/7 [==============================] - 0s 11ms/step - loss: 1.5914 - accuracy: 0.6119\n",
      "Epoch 61/400\n",
      "7/7 [==============================] - 0s 10ms/step - loss: 1.5678 - accuracy: 0.6301\n",
      "Epoch 62/400\n",
      "7/7 [==============================] - 0s 9ms/step - loss: 1.5410 - accuracy: 0.6347\n",
      "Epoch 63/400\n",
      "7/7 [==============================] - 0s 9ms/step - loss: 1.5136 - accuracy: 0.6210\n",
      "Epoch 64/400\n",
      "7/7 [==============================] - 0s 11ms/step - loss: 1.4879 - accuracy: 0.6347\n",
      "Epoch 65/400\n",
      "7/7 [==============================] - 0s 12ms/step - loss: 1.4592 - accuracy: 0.6438\n",
      "Epoch 66/400\n",
      "7/7 [==============================] - 0s 8ms/step - loss: 1.4398 - accuracy: 0.6393\n",
      "Epoch 67/400\n",
      "7/7 [==============================] - 0s 8ms/step - loss: 1.4151 - accuracy: 0.6575\n",
      "Epoch 68/400\n",
      "7/7 [==============================] - 0s 11ms/step - loss: 1.3915 - accuracy: 0.6712\n",
      "Epoch 69/400\n",
      "7/7 [==============================] - 0s 12ms/step - loss: 1.3701 - accuracy: 0.6849\n",
      "Epoch 70/400\n",
      "7/7 [==============================] - 0s 11ms/step - loss: 1.3490 - accuracy: 0.6986\n",
      "Epoch 71/400\n",
      "7/7 [==============================] - 0s 12ms/step - loss: 1.3253 - accuracy: 0.7215\n",
      "Epoch 72/400\n",
      "7/7 [==============================] - 0s 11ms/step - loss: 1.3013 - accuracy: 0.7123\n",
      "Epoch 73/400\n",
      "7/7 [==============================] - 0s 8ms/step - loss: 1.2847 - accuracy: 0.7123\n",
      "Epoch 74/400\n",
      "7/7 [==============================] - 0s 8ms/step - loss: 1.2614 - accuracy: 0.7260\n",
      "Epoch 75/400\n",
      "7/7 [==============================] - 0s 7ms/step - loss: 1.2404 - accuracy: 0.7306\n",
      "Epoch 76/400\n",
      "7/7 [==============================] - 0s 10ms/step - loss: 1.2281 - accuracy: 0.7626\n",
      "Epoch 77/400\n",
      "7/7 [==============================] - 0s 12ms/step - loss: 1.2054 - accuracy: 0.7626\n",
      "Epoch 78/400\n",
      "7/7 [==============================] - 0s 8ms/step - loss: 1.1898 - accuracy: 0.7626\n",
      "Epoch 79/400\n",
      "7/7 [==============================] - 0s 8ms/step - loss: 1.1638 - accuracy: 0.7945\n",
      "Epoch 80/400\n",
      "7/7 [==============================] - 0s 8ms/step - loss: 1.1466 - accuracy: 0.7945\n",
      "Epoch 81/400\n",
      "7/7 [==============================] - 0s 8ms/step - loss: 1.1266 - accuracy: 0.7945\n",
      "Epoch 82/400\n",
      "7/7 [==============================] - 0s 8ms/step - loss: 1.1062 - accuracy: 0.8128\n",
      "Epoch 83/400\n",
      "7/7 [==============================] - 0s 11ms/step - loss: 1.0906 - accuracy: 0.8082\n",
      "Epoch 84/400\n"
     ]
    },
    {
     "name": "stdout",
     "output_type": "stream",
     "text": [
      "7/7 [==============================] - 0s 11ms/step - loss: 1.0755 - accuracy: 0.8174\n",
      "Epoch 85/400\n",
      "7/7 [==============================] - 0s 13ms/step - loss: 1.0555 - accuracy: 0.8037\n",
      "Epoch 86/400\n",
      "7/7 [==============================] - 0s 10ms/step - loss: 1.0342 - accuracy: 0.8128\n",
      "Epoch 87/400\n",
      "7/7 [==============================] - 0s 11ms/step - loss: 1.0190 - accuracy: 0.8128\n",
      "Epoch 88/400\n",
      "7/7 [==============================] - 0s 9ms/step - loss: 1.0022 - accuracy: 0.8037\n",
      "Epoch 89/400\n",
      "7/7 [==============================] - 0s 11ms/step - loss: 0.9866 - accuracy: 0.8265\n",
      "Epoch 90/400\n",
      "7/7 [==============================] - 0s 11ms/step - loss: 0.9677 - accuracy: 0.8447\n",
      "Epoch 91/400\n",
      "7/7 [==============================] - 0s 9ms/step - loss: 0.9514 - accuracy: 0.8539\n",
      "Epoch 92/400\n",
      "7/7 [==============================] - 0s 10ms/step - loss: 0.9368 - accuracy: 0.8402\n",
      "Epoch 93/400\n",
      "7/7 [==============================] - 0s 12ms/step - loss: 0.9199 - accuracy: 0.8493\n",
      "Epoch 94/400\n",
      "7/7 [==============================] - 0s 14ms/step - loss: 0.9048 - accuracy: 0.8584\n",
      "Epoch 95/400\n",
      "7/7 [==============================] - 0s 13ms/step - loss: 0.8885 - accuracy: 0.8676\n",
      "Epoch 96/400\n",
      "7/7 [==============================] - 0s 13ms/step - loss: 0.8726 - accuracy: 0.8630\n",
      "Epoch 97/400\n",
      "7/7 [==============================] - 0s 10ms/step - loss: 0.8589 - accuracy: 0.8767\n",
      "Epoch 98/400\n",
      "7/7 [==============================] - 0s 10ms/step - loss: 0.8449 - accuracy: 0.8904\n",
      "Epoch 99/400\n",
      "7/7 [==============================] - 0s 9ms/step - loss: 0.8281 - accuracy: 0.8858\n",
      "Epoch 100/400\n",
      "7/7 [==============================] - 0s 11ms/step - loss: 0.8137 - accuracy: 0.9041\n",
      "Epoch 101/400\n",
      "7/7 [==============================] - 0s 10ms/step - loss: 0.7985 - accuracy: 0.8904\n",
      "Epoch 102/400\n",
      "7/7 [==============================] - 0s 10ms/step - loss: 0.7838 - accuracy: 0.9041\n",
      "Epoch 103/400\n",
      "7/7 [==============================] - 0s 10ms/step - loss: 0.7710 - accuracy: 0.9178\n",
      "Epoch 104/400\n",
      "7/7 [==============================] - 0s 11ms/step - loss: 0.7594 - accuracy: 0.9178\n",
      "Epoch 105/400\n",
      "7/7 [==============================] - 0s 10ms/step - loss: 0.7469 - accuracy: 0.9269\n",
      "Epoch 106/400\n",
      "7/7 [==============================] - 0s 13ms/step - loss: 0.7339 - accuracy: 0.9361\n",
      "Epoch 107/400\n",
      "7/7 [==============================] - 0s 13ms/step - loss: 0.7181 - accuracy: 0.9406\n",
      "Epoch 108/400\n",
      "7/7 [==============================] - 0s 8ms/step - loss: 0.7079 - accuracy: 0.9361\n",
      "Epoch 109/400\n",
      "7/7 [==============================] - 0s 11ms/step - loss: 0.6968 - accuracy: 0.9406\n",
      "Epoch 110/400\n",
      "7/7 [==============================] - 0s 11ms/step - loss: 0.6819 - accuracy: 0.9452\n",
      "Epoch 111/400\n",
      "7/7 [==============================] - 0s 8ms/step - loss: 0.6722 - accuracy: 0.9452\n",
      "Epoch 112/400\n",
      "7/7 [==============================] - 0s 9ms/step - loss: 0.6599 - accuracy: 0.9361\n",
      "Epoch 113/400\n",
      "7/7 [==============================] - 0s 10ms/step - loss: 0.6503 - accuracy: 0.9543\n",
      "Epoch 114/400\n",
      "7/7 [==============================] - 0s 8ms/step - loss: 0.6374 - accuracy: 0.9498\n",
      "Epoch 115/400\n",
      "7/7 [==============================] - 0s 8ms/step - loss: 0.6243 - accuracy: 0.9543\n",
      "Epoch 116/400\n",
      "7/7 [==============================] - 0s 9ms/step - loss: 0.6141 - accuracy: 0.9498\n",
      "Epoch 117/400\n",
      "7/7 [==============================] - 0s 8ms/step - loss: 0.6036 - accuracy: 0.9589\n",
      "Epoch 118/400\n",
      "7/7 [==============================] - 0s 8ms/step - loss: 0.5922 - accuracy: 0.9543\n",
      "Epoch 119/400\n",
      "7/7 [==============================] - 0s 8ms/step - loss: 0.5809 - accuracy: 0.9589\n",
      "Epoch 120/400\n",
      "7/7 [==============================] - 0s 7ms/step - loss: 0.5722 - accuracy: 0.9635\n",
      "Epoch 121/400\n",
      "7/7 [==============================] - 0s 7ms/step - loss: 0.5624 - accuracy: 0.9680\n",
      "Epoch 122/400\n",
      "7/7 [==============================] - 0s 7ms/step - loss: 0.5506 - accuracy: 0.9726\n",
      "Epoch 123/400\n",
      "7/7 [==============================] - 0s 8ms/step - loss: 0.5431 - accuracy: 0.9680\n",
      "Epoch 124/400\n",
      "7/7 [==============================] - 0s 8ms/step - loss: 0.5336 - accuracy: 0.9589\n",
      "Epoch 125/400\n",
      "7/7 [==============================] - 0s 9ms/step - loss: 0.5239 - accuracy: 0.9680\n",
      "Epoch 126/400\n",
      "7/7 [==============================] - 0s 8ms/step - loss: 0.5137 - accuracy: 0.9726\n",
      "Epoch 127/400\n",
      "7/7 [==============================] - 0s 8ms/step - loss: 0.5042 - accuracy: 0.9772\n",
      "Epoch 128/400\n",
      "7/7 [==============================] - 0s 9ms/step - loss: 0.4964 - accuracy: 0.9680\n",
      "Epoch 129/400\n",
      "7/7 [==============================] - 0s 9ms/step - loss: 0.4881 - accuracy: 0.9726\n",
      "Epoch 130/400\n",
      "7/7 [==============================] - 0s 10ms/step - loss: 0.4786 - accuracy: 0.9772\n",
      "Epoch 131/400\n",
      "7/7 [==============================] - 0s 8ms/step - loss: 0.4707 - accuracy: 0.9817\n",
      "Epoch 132/400\n",
      "7/7 [==============================] - 0s 8ms/step - loss: 0.4627 - accuracy: 0.9817\n",
      "Epoch 133/400\n",
      "7/7 [==============================] - 0s 7ms/step - loss: 0.4551 - accuracy: 0.9817\n",
      "Epoch 134/400\n",
      "7/7 [==============================] - 0s 8ms/step - loss: 0.4467 - accuracy: 0.9817\n",
      "Epoch 135/400\n",
      "7/7 [==============================] - 0s 8ms/step - loss: 0.4378 - accuracy: 0.9772\n",
      "Epoch 136/400\n",
      "7/7 [==============================] - 0s 8ms/step - loss: 0.4328 - accuracy: 0.9817\n",
      "Epoch 137/400\n",
      "7/7 [==============================] - 0s 7ms/step - loss: 0.4240 - accuracy: 0.9817\n",
      "Epoch 138/400\n",
      "7/7 [==============================] - 0s 8ms/step - loss: 0.4172 - accuracy: 0.9863\n",
      "Epoch 139/400\n",
      "7/7 [==============================] - 0s 8ms/step - loss: 0.4094 - accuracy: 0.9863\n",
      "Epoch 140/400\n",
      "7/7 [==============================] - 0s 10ms/step - loss: 0.4027 - accuracy: 0.9863\n",
      "Epoch 141/400\n",
      "7/7 [==============================] - 0s 13ms/step - loss: 0.3959 - accuracy: 0.9863\n",
      "Epoch 142/400\n",
      "7/7 [==============================] - 0s 10ms/step - loss: 0.3894 - accuracy: 0.9863\n",
      "Epoch 143/400\n",
      "7/7 [==============================] - 0s 10ms/step - loss: 0.3825 - accuracy: 0.9863\n",
      "Epoch 144/400\n",
      "7/7 [==============================] - 0s 10ms/step - loss: 0.3753 - accuracy: 0.9863\n",
      "Epoch 145/400\n",
      "7/7 [==============================] - 0s 10ms/step - loss: 0.3690 - accuracy: 0.9863\n",
      "Epoch 146/400\n",
      "7/7 [==============================] - 0s 10ms/step - loss: 0.3620 - accuracy: 0.9863\n",
      "Epoch 147/400\n",
      "7/7 [==============================] - 0s 9ms/step - loss: 0.3561 - accuracy: 0.9863\n",
      "Epoch 148/400\n",
      "7/7 [==============================] - 0s 8ms/step - loss: 0.3508 - accuracy: 0.9909\n",
      "Epoch 149/400\n",
      "7/7 [==============================] - 0s 8ms/step - loss: 0.3457 - accuracy: 0.9909\n",
      "Epoch 150/400\n",
      "7/7 [==============================] - 0s 8ms/step - loss: 0.3389 - accuracy: 0.9909\n",
      "Epoch 151/400\n",
      "7/7 [==============================] - 0s 8ms/step - loss: 0.3333 - accuracy: 0.9909\n",
      "Epoch 152/400\n",
      "7/7 [==============================] - 0s 8ms/step - loss: 0.3285 - accuracy: 0.9909\n",
      "Epoch 153/400\n",
      "7/7 [==============================] - 0s 8ms/step - loss: 0.3223 - accuracy: 0.9909\n",
      "Epoch 154/400\n",
      "7/7 [==============================] - 0s 9ms/step - loss: 0.3169 - accuracy: 0.9909\n",
      "Epoch 155/400\n",
      "7/7 [==============================] - 0s 11ms/step - loss: 0.3120 - accuracy: 0.9909\n",
      "Epoch 156/400\n",
      "7/7 [==============================] - 0s 12ms/step - loss: 0.3073 - accuracy: 0.9909\n",
      "Epoch 157/400\n",
      "7/7 [==============================] - 0s 11ms/step - loss: 0.3030 - accuracy: 0.9909\n",
      "Epoch 158/400\n",
      "7/7 [==============================] - 0s 10ms/step - loss: 0.2968 - accuracy: 0.9954\n",
      "Epoch 159/400\n",
      "7/7 [==============================] - 0s 10ms/step - loss: 0.2924 - accuracy: 0.9954\n",
      "Epoch 160/400\n",
      "7/7 [==============================] - 0s 11ms/step - loss: 0.2887 - accuracy: 0.9954\n",
      "Epoch 161/400\n",
      "7/7 [==============================] - 0s 10ms/step - loss: 0.2828 - accuracy: 0.9954\n",
      "Epoch 162/400\n",
      "7/7 [==============================] - 0s 9ms/step - loss: 0.2781 - accuracy: 0.9954\n",
      "Epoch 163/400\n",
      "7/7 [==============================] - 0s 9ms/step - loss: 0.2738 - accuracy: 0.9954\n",
      "Epoch 164/400\n",
      "7/7 [==============================] - 0s 8ms/step - loss: 0.2699 - accuracy: 0.9954\n",
      "Epoch 165/400\n",
      "7/7 [==============================] - 0s 7ms/step - loss: 0.2664 - accuracy: 0.9954\n",
      "Epoch 166/400\n"
     ]
    },
    {
     "name": "stdout",
     "output_type": "stream",
     "text": [
      "7/7 [==============================] - 0s 7ms/step - loss: 0.2622 - accuracy: 0.9954\n",
      "Epoch 167/400\n",
      "7/7 [==============================] - 0s 9ms/step - loss: 0.2576 - accuracy: 0.9954\n",
      "Epoch 168/400\n",
      "7/7 [==============================] - 0s 14ms/step - loss: 0.2541 - accuracy: 0.9954\n",
      "Epoch 169/400\n",
      "7/7 [==============================] - 0s 11ms/step - loss: 0.2502 - accuracy: 0.9954\n",
      "Epoch 170/400\n",
      "7/7 [==============================] - 0s 13ms/step - loss: 0.2463 - accuracy: 0.9954\n",
      "Epoch 171/400\n",
      "7/7 [==============================] - 0s 14ms/step - loss: 0.2424 - accuracy: 0.9954\n",
      "Epoch 172/400\n",
      "7/7 [==============================] - 0s 11ms/step - loss: 0.2384 - accuracy: 0.9954\n",
      "Epoch 173/400\n",
      "7/7 [==============================] - 0s 8ms/step - loss: 0.2352 - accuracy: 0.9954\n",
      "Epoch 174/400\n",
      "7/7 [==============================] - 0s 7ms/step - loss: 0.2325 - accuracy: 0.9954\n",
      "Epoch 175/400\n",
      "7/7 [==============================] - 0s 8ms/step - loss: 0.2286 - accuracy: 0.9954\n",
      "Epoch 176/400\n",
      "7/7 [==============================] - 0s 8ms/step - loss: 0.2256 - accuracy: 0.9954\n",
      "Epoch 177/400\n",
      "7/7 [==============================] - 0s 10ms/step - loss: 0.2217 - accuracy: 0.9954\n",
      "Epoch 178/400\n",
      "7/7 [==============================] - 0s 10ms/step - loss: 0.2187 - accuracy: 0.9954\n",
      "Epoch 179/400\n",
      "7/7 [==============================] - 0s 9ms/step - loss: 0.2154 - accuracy: 0.9954\n",
      "Epoch 180/400\n",
      "7/7 [==============================] - 0s 12ms/step - loss: 0.2129 - accuracy: 0.9954\n",
      "Epoch 181/400\n",
      "7/7 [==============================] - 0s 14ms/step - loss: 0.2093 - accuracy: 0.9954\n",
      "Epoch 182/400\n",
      "7/7 [==============================] - 0s 14ms/step - loss: 0.2062 - accuracy: 0.9954\n",
      "Epoch 183/400\n",
      "7/7 [==============================] - 0s 12ms/step - loss: 0.2038 - accuracy: 0.9954\n",
      "Epoch 184/400\n",
      "7/7 [==============================] - 0s 9ms/step - loss: 0.2014 - accuracy: 0.9954\n",
      "Epoch 185/400\n",
      "7/7 [==============================] - 0s 9ms/step - loss: 0.1976 - accuracy: 0.9954\n",
      "Epoch 186/400\n",
      "7/7 [==============================] - 0s 13ms/step - loss: 0.1957 - accuracy: 0.9954\n",
      "Epoch 187/400\n",
      "7/7 [==============================] - 0s 14ms/step - loss: 0.1924 - accuracy: 0.9954\n",
      "Epoch 188/400\n",
      "7/7 [==============================] - 0s 10ms/step - loss: 0.1900 - accuracy: 0.9954\n",
      "Epoch 189/400\n",
      "7/7 [==============================] - 0s 10ms/step - loss: 0.1875 - accuracy: 0.9954\n",
      "Epoch 190/400\n",
      "7/7 [==============================] - 0s 8ms/step - loss: 0.1851 - accuracy: 0.9954\n",
      "Epoch 191/400\n",
      "7/7 [==============================] - 0s 8ms/step - loss: 0.1823 - accuracy: 0.9954\n",
      "Epoch 192/400\n",
      "7/7 [==============================] - 0s 9ms/step - loss: 0.1797 - accuracy: 0.9954\n",
      "Epoch 193/400\n",
      "7/7 [==============================] - 0s 11ms/step - loss: 0.1778 - accuracy: 0.9954\n",
      "Epoch 194/400\n",
      "7/7 [==============================] - 0s 11ms/step - loss: 0.1759 - accuracy: 0.9954\n",
      "Epoch 195/400\n",
      "7/7 [==============================] - 0s 10ms/step - loss: 0.1732 - accuracy: 0.9954\n",
      "Epoch 196/400\n",
      "7/7 [==============================] - 0s 11ms/step - loss: 0.1708 - accuracy: 0.9954\n",
      "Epoch 197/400\n",
      "7/7 [==============================] - 0s 11ms/step - loss: 0.1686 - accuracy: 0.9954\n",
      "Epoch 198/400\n",
      "7/7 [==============================] - 0s 12ms/step - loss: 0.1660 - accuracy: 0.9954\n",
      "Epoch 199/400\n",
      "7/7 [==============================] - 0s 9ms/step - loss: 0.1644 - accuracy: 0.9954\n",
      "Epoch 200/400\n",
      "7/7 [==============================] - 0s 8ms/step - loss: 0.1619 - accuracy: 0.9954\n",
      "Epoch 201/400\n",
      "7/7 [==============================] - 0s 9ms/step - loss: 0.1605 - accuracy: 0.9954\n",
      "Epoch 202/400\n",
      "7/7 [==============================] - 0s 10ms/step - loss: 0.1584 - accuracy: 0.9954\n",
      "Epoch 203/400\n",
      "7/7 [==============================] - 0s 11ms/step - loss: 0.1568 - accuracy: 0.9954\n",
      "Epoch 204/400\n",
      "7/7 [==============================] - 0s 12ms/step - loss: 0.1550 - accuracy: 0.9954\n",
      "Epoch 205/400\n",
      "7/7 [==============================] - 0s 10ms/step - loss: 0.1527 - accuracy: 0.9954\n",
      "Epoch 206/400\n",
      "7/7 [==============================] - 0s 10ms/step - loss: 0.1499 - accuracy: 0.9954\n",
      "Epoch 207/400\n",
      "7/7 [==============================] - 0s 11ms/step - loss: 0.1486 - accuracy: 0.9954\n",
      "Epoch 208/400\n",
      "7/7 [==============================] - 0s 9ms/step - loss: 0.1462 - accuracy: 0.9954\n",
      "Epoch 209/400\n",
      "7/7 [==============================] - 0s 10ms/step - loss: 0.1444 - accuracy: 0.9954\n",
      "Epoch 210/400\n",
      "7/7 [==============================] - 0s 9ms/step - loss: 0.1429 - accuracy: 0.9954\n",
      "Epoch 211/400\n",
      "7/7 [==============================] - 0s 10ms/step - loss: 0.1418 - accuracy: 0.9954\n",
      "Epoch 212/400\n",
      "7/7 [==============================] - 0s 8ms/step - loss: 0.1392 - accuracy: 0.9954\n",
      "Epoch 213/400\n",
      "7/7 [==============================] - 0s 9ms/step - loss: 0.1378 - accuracy: 1.0000\n",
      "Epoch 214/400\n",
      "7/7 [==============================] - 0s 9ms/step - loss: 0.1363 - accuracy: 1.0000\n",
      "Epoch 215/400\n",
      "7/7 [==============================] - 0s 13ms/step - loss: 0.1344 - accuracy: 1.0000\n",
      "Epoch 216/400\n",
      "7/7 [==============================] - 0s 14ms/step - loss: 0.1327 - accuracy: 0.9954\n",
      "Epoch 217/400\n",
      "7/7 [==============================] - 0s 14ms/step - loss: 0.1313 - accuracy: 0.9954\n",
      "Epoch 218/400\n",
      "7/7 [==============================] - 0s 10ms/step - loss: 0.1295 - accuracy: 1.0000\n",
      "Epoch 219/400\n",
      "7/7 [==============================] - 0s 11ms/step - loss: 0.1284 - accuracy: 1.0000\n",
      "Epoch 220/400\n",
      "7/7 [==============================] - 0s 8ms/step - loss: 0.1270 - accuracy: 1.0000\n",
      "Epoch 221/400\n",
      "7/7 [==============================] - 0s 10ms/step - loss: 0.1252 - accuracy: 1.0000\n",
      "Epoch 222/400\n",
      "7/7 [==============================] - 0s 10ms/step - loss: 0.1238 - accuracy: 1.0000\n",
      "Epoch 223/400\n",
      "7/7 [==============================] - 0s 9ms/step - loss: 0.1223 - accuracy: 1.0000\n",
      "Epoch 224/400\n",
      "7/7 [==============================] - 0s 8ms/step - loss: 0.1207 - accuracy: 1.0000\n",
      "Epoch 225/400\n",
      "7/7 [==============================] - 0s 9ms/step - loss: 0.1198 - accuracy: 1.0000\n",
      "Epoch 226/400\n",
      "7/7 [==============================] - 0s 8ms/step - loss: 0.1183 - accuracy: 1.0000\n",
      "Epoch 227/400\n",
      "7/7 [==============================] - 0s 12ms/step - loss: 0.1168 - accuracy: 1.0000\n",
      "Epoch 228/400\n",
      "7/7 [==============================] - 0s 12ms/step - loss: 0.1157 - accuracy: 1.0000\n",
      "Epoch 229/400\n",
      "7/7 [==============================] - 0s 14ms/step - loss: 0.1146 - accuracy: 1.0000\n",
      "Epoch 230/400\n",
      "7/7 [==============================] - 0s 13ms/step - loss: 0.1129 - accuracy: 1.0000\n",
      "Epoch 231/400\n",
      "7/7 [==============================] - 0s 10ms/step - loss: 0.1114 - accuracy: 1.0000\n",
      "Epoch 232/400\n",
      "7/7 [==============================] - 0s 9ms/step - loss: 0.1101 - accuracy: 1.0000\n",
      "Epoch 233/400\n",
      "7/7 [==============================] - 0s 11ms/step - loss: 0.1091 - accuracy: 1.0000\n",
      "Epoch 234/400\n",
      "7/7 [==============================] - 0s 8ms/step - loss: 0.1078 - accuracy: 1.0000\n",
      "Epoch 235/400\n",
      "7/7 [==============================] - 0s 9ms/step - loss: 0.1070 - accuracy: 1.0000\n",
      "Epoch 236/400\n",
      "7/7 [==============================] - 0s 10ms/step - loss: 0.1056 - accuracy: 1.0000\n",
      "Epoch 237/400\n",
      "7/7 [==============================] - 0s 10ms/step - loss: 0.1044 - accuracy: 1.0000\n",
      "Epoch 238/400\n",
      "7/7 [==============================] - 0s 10ms/step - loss: 0.1031 - accuracy: 1.0000\n",
      "Epoch 239/400\n",
      "7/7 [==============================] - 0s 9ms/step - loss: 0.1023 - accuracy: 1.0000\n",
      "Epoch 240/400\n",
      "7/7 [==============================] - 0s 9ms/step - loss: 0.1009 - accuracy: 1.0000\n",
      "Epoch 241/400\n",
      "7/7 [==============================] - 0s 12ms/step - loss: 0.1002 - accuracy: 1.0000\n",
      "Epoch 242/400\n",
      "7/7 [==============================] - 0s 14ms/step - loss: 0.0992 - accuracy: 1.0000\n",
      "Epoch 243/400\n",
      "7/7 [==============================] - 0s 13ms/step - loss: 0.0980 - accuracy: 1.0000\n",
      "Epoch 244/400\n",
      "7/7 [==============================] - 0s 10ms/step - loss: 0.0970 - accuracy: 1.0000\n",
      "Epoch 245/400\n",
      "7/7 [==============================] - 0s 8ms/step - loss: 0.0956 - accuracy: 1.0000\n",
      "Epoch 246/400\n",
      "7/7 [==============================] - 0s 8ms/step - loss: 0.0946 - accuracy: 1.0000\n",
      "Epoch 247/400\n",
      "7/7 [==============================] - 0s 10ms/step - loss: 0.0936 - accuracy: 1.0000\n",
      "Epoch 248/400\n"
     ]
    },
    {
     "name": "stdout",
     "output_type": "stream",
     "text": [
      "7/7 [==============================] - 0s 9ms/step - loss: 0.0928 - accuracy: 1.0000\n",
      "Epoch 249/400\n",
      "7/7 [==============================] - 0s 10ms/step - loss: 0.0920 - accuracy: 1.0000\n",
      "Epoch 250/400\n",
      "7/7 [==============================] - 0s 9ms/step - loss: 0.0907 - accuracy: 1.0000\n",
      "Epoch 251/400\n",
      "7/7 [==============================] - 0s 11ms/step - loss: 0.0900 - accuracy: 1.0000\n",
      "Epoch 252/400\n",
      "7/7 [==============================] - 0s 11ms/step - loss: 0.0890 - accuracy: 1.0000\n",
      "Epoch 253/400\n",
      "7/7 [==============================] - 0s 9ms/step - loss: 0.0882 - accuracy: 1.0000\n",
      "Epoch 254/400\n",
      "7/7 [==============================] - 0s 10ms/step - loss: 0.0871 - accuracy: 1.0000\n",
      "Epoch 255/400\n",
      "7/7 [==============================] - 0s 10ms/step - loss: 0.0862 - accuracy: 1.0000\n",
      "Epoch 256/400\n",
      "7/7 [==============================] - 0s 9ms/step - loss: 0.0854 - accuracy: 1.0000\n",
      "Epoch 257/400\n",
      "7/7 [==============================] - 0s 13ms/step - loss: 0.0844 - accuracy: 1.0000\n",
      "Epoch 258/400\n",
      "7/7 [==============================] - 0s 10ms/step - loss: 0.0836 - accuracy: 1.0000\n",
      "Epoch 259/400\n",
      "7/7 [==============================] - 0s 10ms/step - loss: 0.0829 - accuracy: 1.0000\n",
      "Epoch 260/400\n",
      "7/7 [==============================] - 0s 10ms/step - loss: 0.0821 - accuracy: 1.0000\n",
      "Epoch 261/400\n",
      "7/7 [==============================] - 0s 10ms/step - loss: 0.0813 - accuracy: 1.0000\n",
      "Epoch 262/400\n",
      "7/7 [==============================] - 0s 10ms/step - loss: 0.0802 - accuracy: 1.0000\n",
      "Epoch 263/400\n",
      "7/7 [==============================] - 0s 8ms/step - loss: 0.0798 - accuracy: 1.0000\n",
      "Epoch 264/400\n",
      "7/7 [==============================] - 0s 10ms/step - loss: 0.0788 - accuracy: 1.0000\n",
      "Epoch 265/400\n",
      "7/7 [==============================] - 0s 11ms/step - loss: 0.0780 - accuracy: 1.0000\n",
      "Epoch 266/400\n",
      "7/7 [==============================] - 0s 14ms/step - loss: 0.0775 - accuracy: 1.0000\n",
      "Epoch 267/400\n",
      "7/7 [==============================] - 0s 9ms/step - loss: 0.0767 - accuracy: 1.0000\n",
      "Epoch 268/400\n",
      "7/7 [==============================] - 0s 12ms/step - loss: 0.0761 - accuracy: 1.0000\n",
      "Epoch 269/400\n",
      "7/7 [==============================] - 0s 12ms/step - loss: 0.0753 - accuracy: 1.0000\n",
      "Epoch 270/400\n",
      "7/7 [==============================] - 0s 9ms/step - loss: 0.0746 - accuracy: 1.0000\n",
      "Epoch 271/400\n",
      "7/7 [==============================] - 0s 11ms/step - loss: 0.0738 - accuracy: 1.0000\n",
      "Epoch 272/400\n",
      "7/7 [==============================] - 0s 10ms/step - loss: 0.0731 - accuracy: 1.0000\n",
      "Epoch 273/400\n",
      "7/7 [==============================] - 0s 10ms/step - loss: 0.0724 - accuracy: 1.0000\n",
      "Epoch 274/400\n",
      "7/7 [==============================] - 0s 11ms/step - loss: 0.0720 - accuracy: 1.0000\n",
      "Epoch 275/400\n",
      "7/7 [==============================] - 0s 9ms/step - loss: 0.0711 - accuracy: 1.0000\n",
      "Epoch 276/400\n",
      "7/7 [==============================] - 0s 9ms/step - loss: 0.0704 - accuracy: 1.0000\n",
      "Epoch 277/400\n",
      "7/7 [==============================] - 0s 11ms/step - loss: 0.0700 - accuracy: 1.0000\n",
      "Epoch 278/400\n",
      "7/7 [==============================] - 0s 12ms/step - loss: 0.0691 - accuracy: 1.0000\n",
      "Epoch 279/400\n",
      "7/7 [==============================] - 0s 13ms/step - loss: 0.0686 - accuracy: 1.0000\n",
      "Epoch 280/400\n",
      "7/7 [==============================] - 0s 10ms/step - loss: 0.0680 - accuracy: 1.0000\n",
      "Epoch 281/400\n",
      "7/7 [==============================] - 0s 10ms/step - loss: 0.0672 - accuracy: 1.0000\n",
      "Epoch 282/400\n",
      "7/7 [==============================] - 0s 12ms/step - loss: 0.0668 - accuracy: 1.0000\n",
      "Epoch 283/400\n",
      "7/7 [==============================] - 0s 11ms/step - loss: 0.0661 - accuracy: 1.0000\n",
      "Epoch 284/400\n",
      "7/7 [==============================] - 0s 10ms/step - loss: 0.0655 - accuracy: 1.0000\n",
      "Epoch 285/400\n",
      "7/7 [==============================] - 0s 11ms/step - loss: 0.0648 - accuracy: 1.0000\n",
      "Epoch 286/400\n",
      "7/7 [==============================] - 0s 9ms/step - loss: 0.0642 - accuracy: 1.0000\n",
      "Epoch 287/400\n",
      "7/7 [==============================] - 0s 11ms/step - loss: 0.0637 - accuracy: 1.0000\n",
      "Epoch 288/400\n",
      "7/7 [==============================] - 0s 10ms/step - loss: 0.0633 - accuracy: 1.0000\n",
      "Epoch 289/400\n",
      "7/7 [==============================] - 0s 11ms/step - loss: 0.0626 - accuracy: 1.0000\n",
      "Epoch 290/400\n",
      "7/7 [==============================] - 0s 12ms/step - loss: 0.0620 - accuracy: 1.0000\n",
      "Epoch 291/400\n",
      "7/7 [==============================] - 0s 10ms/step - loss: 0.0616 - accuracy: 1.0000\n",
      "Epoch 292/400\n",
      "7/7 [==============================] - 0s 12ms/step - loss: 0.0610 - accuracy: 1.0000\n",
      "Epoch 293/400\n",
      "7/7 [==============================] - 0s 8ms/step - loss: 0.0604 - accuracy: 1.0000\n",
      "Epoch 294/400\n",
      "7/7 [==============================] - 0s 10ms/step - loss: 0.0599 - accuracy: 1.0000\n",
      "Epoch 295/400\n",
      "7/7 [==============================] - 0s 11ms/step - loss: 0.0594 - accuracy: 1.0000\n",
      "Epoch 296/400\n",
      "7/7 [==============================] - 0s 10ms/step - loss: 0.0589 - accuracy: 1.0000\n",
      "Epoch 297/400\n",
      "7/7 [==============================] - 0s 12ms/step - loss: 0.0584 - accuracy: 1.0000\n",
      "Epoch 298/400\n",
      "7/7 [==============================] - 0s 11ms/step - loss: 0.0578 - accuracy: 1.0000\n",
      "Epoch 299/400\n",
      "7/7 [==============================] - 0s 9ms/step - loss: 0.0575 - accuracy: 1.0000\n",
      "Epoch 300/400\n",
      "7/7 [==============================] - 0s 11ms/step - loss: 0.0571 - accuracy: 1.0000\n",
      "Epoch 301/400\n",
      "7/7 [==============================] - 0s 9ms/step - loss: 0.0564 - accuracy: 1.0000\n",
      "Epoch 302/400\n",
      "7/7 [==============================] - 0s 13ms/step - loss: 0.0560 - accuracy: 1.0000\n",
      "Epoch 303/400\n",
      "7/7 [==============================] - 0s 12ms/step - loss: 0.0555 - accuracy: 1.0000\n",
      "Epoch 304/400\n",
      "7/7 [==============================] - 0s 10ms/step - loss: 0.0550 - accuracy: 1.0000\n",
      "Epoch 305/400\n",
      "7/7 [==============================] - 0s 14ms/step - loss: 0.0545 - accuracy: 1.0000\n",
      "Epoch 306/400\n",
      "7/7 [==============================] - 0s 11ms/step - loss: 0.0543 - accuracy: 1.0000\n",
      "Epoch 307/400\n",
      "7/7 [==============================] - 0s 8ms/step - loss: 0.0537 - accuracy: 1.0000\n",
      "Epoch 308/400\n",
      "7/7 [==============================] - 0s 10ms/step - loss: 0.0532 - accuracy: 1.0000\n",
      "Epoch 309/400\n",
      "7/7 [==============================] - 0s 10ms/step - loss: 0.0528 - accuracy: 1.0000\n",
      "Epoch 310/400\n",
      "7/7 [==============================] - 0s 9ms/step - loss: 0.0523 - accuracy: 1.0000\n",
      "Epoch 311/400\n",
      "7/7 [==============================] - 0s 9ms/step - loss: 0.0522 - accuracy: 1.0000\n",
      "Epoch 312/400\n",
      "7/7 [==============================] - 0s 10ms/step - loss: 0.0516 - accuracy: 1.0000\n",
      "Epoch 313/400\n",
      "7/7 [==============================] - 0s 9ms/step - loss: 0.0512 - accuracy: 1.0000\n",
      "Epoch 314/400\n",
      "7/7 [==============================] - 0s 8ms/step - loss: 0.0507 - accuracy: 1.0000\n",
      "Epoch 315/400\n",
      "7/7 [==============================] - 0s 10ms/step - loss: 0.0502 - accuracy: 1.0000\n",
      "Epoch 316/400\n",
      "7/7 [==============================] - 0s 12ms/step - loss: 0.0499 - accuracy: 1.0000\n",
      "Epoch 317/400\n",
      "7/7 [==============================] - 0s 12ms/step - loss: 0.0496 - accuracy: 1.0000\n",
      "Epoch 318/400\n",
      "7/7 [==============================] - 0s 11ms/step - loss: 0.0491 - accuracy: 1.0000\n",
      "Epoch 319/400\n",
      "7/7 [==============================] - 0s 11ms/step - loss: 0.0488 - accuracy: 1.0000\n",
      "Epoch 320/400\n",
      "7/7 [==============================] - 0s 11ms/step - loss: 0.0484 - accuracy: 1.0000\n",
      "Epoch 321/400\n",
      "7/7 [==============================] - 0s 8ms/step - loss: 0.0480 - accuracy: 1.0000\n",
      "Epoch 322/400\n",
      "7/7 [==============================] - 0s 9ms/step - loss: 0.0476 - accuracy: 1.0000\n",
      "Epoch 323/400\n",
      "7/7 [==============================] - 0s 10ms/step - loss: 0.0472 - accuracy: 1.0000\n",
      "Epoch 324/400\n",
      "7/7 [==============================] - 0s 10ms/step - loss: 0.0468 - accuracy: 1.0000\n",
      "Epoch 325/400\n",
      "7/7 [==============================] - 0s 10ms/step - loss: 0.0465 - accuracy: 1.0000\n",
      "Epoch 326/400\n",
      "7/7 [==============================] - 0s 12ms/step - loss: 0.0462 - accuracy: 1.0000\n",
      "Epoch 327/400\n",
      "7/7 [==============================] - 0s 9ms/step - loss: 0.0458 - accuracy: 1.0000\n",
      "Epoch 328/400\n",
      "7/7 [==============================] - 0s 8ms/step - loss: 0.0454 - accuracy: 1.0000\n",
      "Epoch 329/400\n",
      "7/7 [==============================] - 0s 7ms/step - loss: 0.0450 - accuracy: 1.0000\n",
      "Epoch 330/400\n"
     ]
    },
    {
     "name": "stdout",
     "output_type": "stream",
     "text": [
      "7/7 [==============================] - 0s 8ms/step - loss: 0.0448 - accuracy: 1.0000\n",
      "Epoch 331/400\n",
      "7/7 [==============================] - 0s 9ms/step - loss: 0.0444 - accuracy: 1.0000\n",
      "Epoch 332/400\n",
      "7/7 [==============================] - 0s 11ms/step - loss: 0.0441 - accuracy: 1.0000\n",
      "Epoch 333/400\n",
      "7/7 [==============================] - 0s 11ms/step - loss: 0.0437 - accuracy: 1.0000\n",
      "Epoch 334/400\n",
      "7/7 [==============================] - 0s 11ms/step - loss: 0.0434 - accuracy: 1.0000\n",
      "Epoch 335/400\n",
      "7/7 [==============================] - 0s 10ms/step - loss: 0.0430 - accuracy: 1.0000\n",
      "Epoch 336/400\n",
      "7/7 [==============================] - 0s 12ms/step - loss: 0.0428 - accuracy: 1.0000\n",
      "Epoch 337/400\n",
      "7/7 [==============================] - 0s 9ms/step - loss: 0.0425 - accuracy: 1.0000\n",
      "Epoch 338/400\n",
      "7/7 [==============================] - 0s 10ms/step - loss: 0.0422 - accuracy: 1.0000\n",
      "Epoch 339/400\n",
      "7/7 [==============================] - 0s 9ms/step - loss: 0.0418 - accuracy: 1.0000\n",
      "Epoch 340/400\n",
      "7/7 [==============================] - 0s 9ms/step - loss: 0.0415 - accuracy: 1.0000\n",
      "Epoch 341/400\n",
      "7/7 [==============================] - 0s 8ms/step - loss: 0.0413 - accuracy: 1.0000\n",
      "Epoch 342/400\n",
      "7/7 [==============================] - 0s 10ms/step - loss: 0.0410 - accuracy: 1.0000\n",
      "Epoch 343/400\n",
      "7/7 [==============================] - 0s 11ms/step - loss: 0.0406 - accuracy: 1.0000\n",
      "Epoch 344/400\n",
      "7/7 [==============================] - 0s 9ms/step - loss: 0.0403 - accuracy: 1.0000\n",
      "Epoch 345/400\n",
      "7/7 [==============================] - 0s 10ms/step - loss: 0.0400 - accuracy: 1.0000\n",
      "Epoch 346/400\n",
      "7/7 [==============================] - 0s 10ms/step - loss: 0.0397 - accuracy: 1.0000\n",
      "Epoch 347/400\n",
      "7/7 [==============================] - 0s 12ms/step - loss: 0.0395 - accuracy: 1.0000\n",
      "Epoch 348/400\n",
      "7/7 [==============================] - 0s 11ms/step - loss: 0.0391 - accuracy: 1.0000\n",
      "Epoch 349/400\n",
      "7/7 [==============================] - 0s 11ms/step - loss: 0.0389 - accuracy: 1.0000\n",
      "Epoch 350/400\n",
      "7/7 [==============================] - 0s 11ms/step - loss: 0.0387 - accuracy: 1.0000\n",
      "Epoch 351/400\n",
      "7/7 [==============================] - 0s 12ms/step - loss: 0.0384 - accuracy: 1.0000\n",
      "Epoch 352/400\n",
      "7/7 [==============================] - 0s 10ms/step - loss: 0.0381 - accuracy: 1.0000\n",
      "Epoch 353/400\n",
      "7/7 [==============================] - 0s 10ms/step - loss: 0.0378 - accuracy: 1.0000\n",
      "Epoch 354/400\n",
      "7/7 [==============================] - 0s 7ms/step - loss: 0.0375 - accuracy: 1.0000\n",
      "Epoch 355/400\n",
      "7/7 [==============================] - 0s 9ms/step - loss: 0.0372 - accuracy: 1.0000\n",
      "Epoch 356/400\n",
      "7/7 [==============================] - 0s 9ms/step - loss: 0.0371 - accuracy: 1.0000\n",
      "Epoch 357/400\n",
      "7/7 [==============================] - 0s 10ms/step - loss: 0.0367 - accuracy: 1.0000\n",
      "Epoch 358/400\n",
      "7/7 [==============================] - 0s 10ms/step - loss: 0.0364 - accuracy: 1.0000\n",
      "Epoch 359/400\n",
      "7/7 [==============================] - 0s 10ms/step - loss: 0.0362 - accuracy: 1.0000\n",
      "Epoch 360/400\n",
      "7/7 [==============================] - 0s 11ms/step - loss: 0.0359 - accuracy: 1.0000\n",
      "Epoch 361/400\n",
      "7/7 [==============================] - 0s 11ms/step - loss: 0.0357 - accuracy: 1.0000\n",
      "Epoch 362/400\n",
      "7/7 [==============================] - 0s 11ms/step - loss: 0.0354 - accuracy: 1.0000\n",
      "Epoch 363/400\n",
      "7/7 [==============================] - 0s 12ms/step - loss: 0.0352 - accuracy: 1.0000\n",
      "Epoch 364/400\n",
      "7/7 [==============================] - 0s 12ms/step - loss: 0.0349 - accuracy: 1.0000\n",
      "Epoch 365/400\n",
      "7/7 [==============================] - 0s 12ms/step - loss: 0.0347 - accuracy: 1.0000\n",
      "Epoch 366/400\n",
      "7/7 [==============================] - 0s 12ms/step - loss: 0.0345 - accuracy: 1.0000\n",
      "Epoch 367/400\n",
      "7/7 [==============================] - 0s 12ms/step - loss: 0.0343 - accuracy: 1.0000\n",
      "Epoch 368/400\n",
      "7/7 [==============================] - 0s 8ms/step - loss: 0.0340 - accuracy: 1.0000\n",
      "Epoch 369/400\n",
      "7/7 [==============================] - 0s 12ms/step - loss: 0.0338 - accuracy: 1.0000\n",
      "Epoch 370/400\n",
      "7/7 [==============================] - 0s 15ms/step - loss: 0.0336 - accuracy: 1.0000\n",
      "Epoch 371/400\n",
      "7/7 [==============================] - 0s 12ms/step - loss: 0.0333 - accuracy: 1.0000\n",
      "Epoch 372/400\n",
      "7/7 [==============================] - 0s 12ms/step - loss: 0.0331 - accuracy: 1.0000\n",
      "Epoch 373/400\n",
      "7/7 [==============================] - 0s 15ms/step - loss: 0.0328 - accuracy: 1.0000\n",
      "Epoch 374/400\n",
      "7/7 [==============================] - 0s 14ms/step - loss: 0.0327 - accuracy: 1.0000\n",
      "Epoch 375/400\n",
      "7/7 [==============================] - 0s 13ms/step - loss: 0.0324 - accuracy: 1.0000\n",
      "Epoch 376/400\n",
      "7/7 [==============================] - 0s 12ms/step - loss: 0.0322 - accuracy: 1.0000\n",
      "Epoch 377/400\n",
      "7/7 [==============================] - 0s 9ms/step - loss: 0.0320 - accuracy: 1.0000\n",
      "Epoch 378/400\n",
      "7/7 [==============================] - 0s 9ms/step - loss: 0.0318 - accuracy: 1.0000\n",
      "Epoch 379/400\n",
      "7/7 [==============================] - 0s 9ms/step - loss: 0.0316 - accuracy: 1.0000\n",
      "Epoch 380/400\n",
      "7/7 [==============================] - 0s 9ms/step - loss: 0.0313 - accuracy: 1.0000\n",
      "Epoch 381/400\n",
      "7/7 [==============================] - 0s 10ms/step - loss: 0.0312 - accuracy: 1.0000\n",
      "Epoch 382/400\n",
      "7/7 [==============================] - 0s 10ms/step - loss: 0.0310 - accuracy: 1.0000\n",
      "Epoch 383/400\n",
      "7/7 [==============================] - 0s 11ms/step - loss: 0.0308 - accuracy: 1.0000\n",
      "Epoch 384/400\n",
      "7/7 [==============================] - 0s 11ms/step - loss: 0.0306 - accuracy: 1.0000\n",
      "Epoch 385/400\n",
      "7/7 [==============================] - 0s 9ms/step - loss: 0.0304 - accuracy: 1.0000\n",
      "Epoch 386/400\n",
      "7/7 [==============================] - 0s 11ms/step - loss: 0.0302 - accuracy: 1.0000\n",
      "Epoch 387/400\n",
      "7/7 [==============================] - 0s 8ms/step - loss: 0.0300 - accuracy: 1.0000\n",
      "Epoch 388/400\n",
      "7/7 [==============================] - 0s 10ms/step - loss: 0.0299 - accuracy: 1.0000\n",
      "Epoch 389/400\n",
      "7/7 [==============================] - 0s 11ms/step - loss: 0.0295 - accuracy: 1.0000\n",
      "Epoch 390/400\n",
      "7/7 [==============================] - 0s 9ms/step - loss: 0.0294 - accuracy: 1.0000\n",
      "Epoch 391/400\n",
      "7/7 [==============================] - 0s 7ms/step - loss: 0.0292 - accuracy: 1.0000\n",
      "Epoch 392/400\n",
      "7/7 [==============================] - 0s 9ms/step - loss: 0.0290 - accuracy: 1.0000\n",
      "Epoch 393/400\n",
      "7/7 [==============================] - 0s 10ms/step - loss: 0.0289 - accuracy: 1.0000\n",
      "Epoch 394/400\n",
      "7/7 [==============================] - 0s 10ms/step - loss: 0.0286 - accuracy: 1.0000\n",
      "Epoch 395/400\n",
      "7/7 [==============================] - 0s 9ms/step - loss: 0.0285 - accuracy: 1.0000\n",
      "Epoch 396/400\n",
      "7/7 [==============================] - 0s 10ms/step - loss: 0.0282 - accuracy: 1.0000\n",
      "Epoch 397/400\n",
      "7/7 [==============================] - 0s 11ms/step - loss: 0.0281 - accuracy: 1.0000\n",
      "Epoch 398/400\n",
      "7/7 [==============================] - 0s 14ms/step - loss: 0.0280 - accuracy: 1.0000\n",
      "Epoch 399/400\n",
      "7/7 [==============================] - 0s 10ms/step - loss: 0.0277 - accuracy: 1.0000\n",
      "Epoch 400/400\n",
      "7/7 [==============================] - 0s 14ms/step - loss: 0.0275 - accuracy: 1.0000\n"
     ]
    }
   ],
   "source": [
    "# Training the model (Latih model data sampai 400 kali)\n",
    "train = model.fit(x_train, y_train, epochs=400)"
   ]
  },
  {
   "cell_type": "markdown",
   "id": "BfQP5TaPkGzB",
   "metadata": {
    "id": "BfQP5TaPkGzB"
   },
   "source": [
    "# 06 Model Analysis\n",
    "\n",
    "Setelah menjalankan pelatihan model dengan algoritma Neural Neural dan LSTM serta telah mengetahui hasil akurasi pada step terakhir. Maka, tahapan selanjutnya adalah menganalisa model dengan visualisasi plot akurasi dan loss untuk melihat hasil akurasi dari algoritma pelatihan model Neural Network dengan LSTM tersebut."
   ]
  },
  {
   "cell_type": "code",
   "execution_count": 25,
   "id": "FEz3P5djksfa",
   "metadata": {
    "colab": {
     "base_uri": "https://localhost:8080/",
     "height": 459
    },
    "id": "FEz3P5djksfa",
    "outputId": "4e27fba0-9523-4fc2-8e46-350f0c3baae8"
   },
   "outputs": [
    {
     "data": {
      "image/png": "[encoded data removed]",
      "text/plain": [
       "<Figure size 1400x500 with 2 Axes>"
      ]
     },
     "metadata": {},
     "output_type": "display_data"
    }
   ],
   "source": [
    "# Plotting model Accuracy and Loss (Visualisasi Plot Hasil Akurasi dan Loss)\n",
    "# Plot Akurasi\n",
    "plt.figure(figsize=(14, 5))\n",
    "plt.subplot(1, 2, 1)\n",
    "plt.plot(train.history['accuracy'],label='Training Set Accuracy')\n",
    "plt.legend(loc='lower right')\n",
    "plt.title('Accuracy')\n",
    "# Plot Loss\n",
    "plt.subplot(1, 2, 2)\n",
    "plt.plot(train.history['loss'],label='Training Set Loss')\n",
    "plt.legend(loc='upper right')\n",
    "plt.title('Loss')\n",
    "plt.show()"
   ]
  },
  {
   "cell_type": "markdown",
   "id": "odsh6gL8CAfE",
   "metadata": {
    "id": "odsh6gL8CAfE"
   },
   "source": [
    "Terlihat bahwa model pelatihan chatbot dengan algoritma Neural Network + LSTM menghasilkan model yang baik dan tidak terjadi overfitting atau underfitting. Sehingga, model ini layak dilakukan pengujian dan evaluasi model chatbot yang diperoleh."
   ]
  },
  {
   "cell_type": "markdown",
   "id": "WcOYpQfuln4T",
   "metadata": {
    "id": "WcOYpQfuln4T"
   },
   "source": [
    "# 07 Testing Chatbot Dan Tambahkan Suara Pada Chatbot\n",
    "\n",
    "Setelah mengetahui hasil dari akurasi dan loss pada model yang telah ditetapkan dengan algoritma Neural Network dan LSTM. Maka, tahapan selanjutnya adalah menguji atau testing pada chatbot yang telah dilatih sebelumnya dan melihat apakah sesuai atau tidak pada saat kita masukan teks kalimat pertanyaannya. \n",
    "\n",
    "Pada pengujian ini menggunakan metode input atau masukan sesuai dengan kalimat pertanyaan yang dimasukkan."
   ]
  },
  {
   "cell_type": "code",
   "execution_count": 26,
   "id": "fao4rG4rlh1D",
   "metadata": {
    "colab": {
     "base_uri": "https://localhost:8080/",
     "height": 753
    },
    "id": "fao4rG4rlh1D",
    "outputId": "b26f1f8f-257f-411d-c21f-e3949d0daf6e"
   },
   "outputs": [
    {
     "name": "stdout",
     "output_type": "stream",
     "text": [
      "👨‍🦰 Kamu : selamat pagi\n",
      "1/1 [==============================] - 0s 406ms/step\n",
      "🤖 SafeBot :  Halo, selamat datang\n"
     ]
    },
    {
     "data": {
      "text/html": [
       "\n",
       "                <audio  controls=\"controls\" autoplay=\"autoplay\">\n",
       "                    <source src=\"data:audio/wav;base64,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\" type=\"audio/wav\" />\n",
       "                    Your browser does not support the audio element.\n",
       "                </audio>\n",
       "              "
      ],
      "text/plain": [
       "<IPython.lib.display.Audio object>"
      ]
     },
     "metadata": {},
     "output_type": "display_data"
    },
    {
     "name": "stdout",
     "output_type": "stream",
     "text": [
      "============================================================\n",
      "\n",
      "👨‍🦰 Kamu : halo\n",
      "1/1 [==============================] - 0s 23ms/step\n",
      "🤖 SafeBot :  Hai, salam kenal\n"
     ]
    },
    {
     "data": {
      "text/html": [
       "\n",
       "                <audio  controls=\"controls\" autoplay=\"autoplay\">\n",
       "                    <source src=\"data:audio/wav;base64,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\" type=\"audio/wav\" />\n",
       "                    Your browser does not support the audio element.\n",
       "                </audio>\n",
       "              "
      ],
      "text/plain": [
       "<IPython.lib.display.Audio object>"
      ]
     },
     "metadata": {},
     "output_type": "display_data"
    },
    {
     "name": "stdout",
     "output_type": "stream",
     "text": [
      "============================================================\n",
      "\n",
      "👨‍🦰 Kamu : bagaimana cara menghindari phishing\n",
      "1/1 [==============================] - 0s 25ms/step\n",
      "🤖 SafeBot :  Serangan phishing dapat dicegah dengan tidak mengklik tautan yang mencurigakan atau mengunduh lampiran dari pengirim yang tidak dikenal, mengaktifkan otentikasi dua faktor, dan menjaga perangkat lunak Anda tetap terbaru.\n"
     ]
    },
    {
     "data": {
      "text/html": [
       "\n",
       "                <audio  controls=\"controls\" autoplay=\"autoplay\">\n",
       "                    <source src=\"data:audio/wav;base64,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\" type=\"audio/wav\" />\n",
       "                    Your browser does not support the audio element.\n",
       "                </audio>\n",
       "              "
      ],
      "text/plain": [
       "<IPython.lib.display.Audio object>"
      ]
     },
     "metadata": {},
     "output_type": "display_data"
    },
    {
     "name": "stdout",
     "output_type": "stream",
     "text": [
      "============================================================\n",
      "\n",
      "👨‍🦰 Kamu : oke terima kasih\n",
      "1/1 [==============================] - 0s 21ms/step\n",
      "🤖 SafeBot :  Sama-sama yaa\n"
     ]
    },
    {
     "data": {
      "text/html": [
       "\n",
       "                <audio  controls=\"controls\" autoplay=\"autoplay\">\n",
       "                    <source src=\"data:audio/wav;base64,//NExAAQWt4gAUgQAQaA0FFDsAcAGAHPLF7RErdERP9DnOc5z/qc7//////2/yEJ/////////85CEIQhCf5zkIQhCEIQDAzh4eHgAAAACtQYhVkOvO/TzjPm/Yp7ZT0k//NExBEWmyqAAY9oAJ0jVN+k+fNHV9W+gSZTT//PNTp//6BgpJkDf//9NRgVuYIMY////m9iYaGZumSiigf///9Xv4kg8A2wnZTEwHgs+OMyBbwDbBZ1cv//////1/////NExAkTEyKoAcE4AP////7+n/6WROtXWt9TfS6OceymMKzp5U5zhupkqeQOHyA0mD44OHisWDg1OFAUGo6PjggF5MSweDQdDJg1AuNhOXNVDAX///////o////////z//NExA8V4yKgAChSvP//9/y/kpfPvq/u3LZx8Luq2P+SzM2M/2Y+68U4HG5fbZfj8jhaTTp3WGkPcZJljopJiYmHRSCqolYJBUmPIyEbAURqC4HFnOUGv///+SlH/+Y6//NExAoUKyKkAChQvHOB18F//85v+79NKme6+P/+Km6y924vr5lKiZ9JedOURx+ocDnc2jRs5D8VUDR6EcrKbn0cMLsXJOuBMYLg3EcQg4YFZZ56eUvtjVZdBcEIn1HU//NExAwVcx60AHlEvI4ofamofdtBBSCipno+jaFAgiLkRXRWrvu//Tm2a21Nnr+3fq30/6s+3VbPToZyopmY6PlmR0lR5CocpUMcZGOyClgIUgmx4oKa7jz8YmTjjruy//NExAkT0Uq8AMPOlKnqqHxcVkUOE4Tj0T0zsnjCsazljIXjdsH+Qtqj/akG4Yqp1hAWBIfZxws7au/oz6DQsTMqI4kNg++XFShc8oAAJ5x3//oqbqBjBSk1KdAC5NF6//NExAwTOarAAG4OlLdAMtbW9e3cJEWb2vuYLi73Cw0eHt4Z+8S+cq1/IcAmWfjzePt6C30Ed0OqIhBGSYXV8qcvOMNoyE3zlvVuP7fX61BQgMhHpgeTtWXQ2Ae+UAnC//NExBIQ0arAAGxKlApnUowD7ajUXoZQ8kyJsG/Ou6Chvcvq3o/2dDShJmuMAQGV2U7StOUtcVDVdfMVE3oVV1ENBnHnqF+LY3WiRlrPnxy6CyrEbvGMT5RTR6JEDKjd//NExCEQiVq8AJPElPrZwn1/zN6/VvmforVoFGo4UCCsqloFQIoaPHv3tkUMEKrW8sZgGnkajTaaxCi/qYs5XmH3BA0NpPjjLAugI9Csaz1ggocV5cYIj4WE0auiZr/9//NExDERqMqkAM4ScJz4a37MGpUFRE/FSwSHOET/+8FQ10XVTD8xhXHxzut8fZFvv5YFSP0jcY4H7IVA1QGZB1C07IMS7c6VvOH3x3ovRU9X+/p+TaQMc4ohxMc9nycC//NExD0QmZ6QANzKlKJCv//9Ksq/aShJWpPYlc/Nz0VRHhTuR+ehiHrNPcswGNGs09200hEmjsU9zC1zPXJvLnf+o/28I78H9X9XbpdMmfDCUOVwg61O8qPFSi2r3/dQ//NExE0SgaKYANYElGr9H1ZZaq3G5IiM6j8JlUSSjc2Vd5ZU2XDRymSS4UCTHdWXVZ94k6Jmj5ekjiTn/l2ksZ/r8/3iBPP8TF3U5A+diGGjBx0pAQceRw4Pa4oH0Jf///NExFYX6hKwAM4KmfoV3edBRWx2/gXZR0IgY6cWmxeAln1HDMsAI470EcJEuukcSE8ipponFEMBRD2WTxVLYk5IHE6h/M0+Yp/8CJf8mV+WDQdy2C0ibJsFSJ1dmJ3l//NExEkXIia0AIRQmBgpTtYNZurdv//+Hauti3eIzFa17sTwM8ttWoNsS4rKBMGNr/ZUqjevRrODfz+cMbO6xT3Kxui5s1vM7+MvL87+jeiqyo4Cqrqwky5DK1DovVxJ//NExD8Sqg68AJPKmE6VNTv52aW4+9JbSktZwUKARiR3LgWVoK+I4QJ59askS0vveasNPj2L8t+Nax2ik9xhFEQBc3MVTZTMn0lMZWcxQMLGSR09I2p7FDKedwnZXTTY//NExEcRKU60AIvKlJsiwHuJg7kwMeJ1Kp6584RYSoNAGOmLu19ZJi4yg+FiUGju95v/+5/54j/1+csdNV/Pf3//3/UTP97ffzzPEvfFInXpM3KS9tRY9bQhJuFPLuK0//NExFUaYwqoAIoQuaPi4MeXcgzImyBRbDwQAWA0DyoA9QkJjjCIAkfSXy/J4c/D/miJ6J5+/3+a2H///5//+P/hV579f/lB/Gu3FbVCjhqlNo5q2cNzg5NtRQosymEc//NExD4W+x6oAChQvNYVEU0LYweVaQWggHGgqD8Mg1DBxwcqJQaBY+QmHCBq/////8/5/3s9cz+/tvq70v/3/T+3f/7pUyX1uyO6OQpb42XMY6uJ2mCSCJBEtokHnO5n//NExDUQEw6gAChKuREIgLGhY8MAodDpKh13v//jeXMkX+tAAmpe/9//N+f0I//0f/+1U+/b6kOlWOsjqa85dXVkSyzGQaVjNedjFVxMXccOFBMOAODBwVHihGpt3TPY//NExEcQkxqwABBKvYsANtDmZ7PW5IxM3z16+JQQhZnpuAr7MkPFdh2JyYKAEDEX7BUNvxxc/FGezKAMTgff/p///pd/+erdJCJzAVr1nAjhSx1M1uFtA1VIseZXVxtN//NExFcQ4M64AHvScKm95vWLRyw/8cHu7jn+bVIrRZ75gxsWOxMRatA/5dFxmmqDHKwVYd2GaNkCFmX/Wir6AGoPCdB2EuGxbZ0NWrdVRDQPodhom9MgyJw8s6OURVFb//NExGYQ0Wq8AI4ElBdOFkDO7NM7rVYu3mT0dlZYmBR5TkwIgRjB7aRhwX3UbKh5cNW3Yc4RnqUsFGUcf5wGd85+3YAFdY3qsUZsS/tKYQWUeu4tXoFLKlxZ9aD//stb//NExHURqWq8AGxKlBYU6OdXB0Up0I1tkHuSc11/cIFJFfUiDWRRXpIJiEow/5+Uyh/zt2pTx0HKnMc8+zaI9rKZ5NQ007Gx38+DfV////0hag3AWEM5XKx0crKo7RYF//NExIEQwaa8AGvKlEb8TRQrSaHK5reeFsLTpfxaEp3yGgEwbzLbDUfIoEdezj0dKpD8F7MsaKHn+adZ3S48vy2yNW76mf4odUVcBjwl2CUS2/rUFVCVwdnf/0Eayh3e//NExJERWaK0AJYElFefoyjIXFSCo2Gvk4FZS0mMguM6aBscFngczipoF42SOjIHldR7tOf35aP83/9m9X+DA0IUAIdShaOmTeaNtf/2+90Xu6UV+Vc+Us+FJYWRqHb6//NExJ4R4K6kAMvwTMjrN2g5NlsQ8BwRirSSOk6Bu4Qc6tazol59FPcn1ekV313f8R9SfVv29Wa91GFmXYU33/NW0ScTXt/6qNgpfHKVzpbOeDWALDGMADv1YYmpW+8M//NExKkSWZqQANTElMuop+XxRFyFUlfK8qubRu9L6TdRsazv5vW6tr///sG+T6Ha+hW62+tdUI/nDO7OoYFTNHHzJrOf//pV+3yy+zdxFID4Zh/WyP8lqW2HmUKmAvBL//NExLITEfKMANzEmEdEEoV3N1bhL4ZCyR3jC0I8UoSyeIgUsuUhAwx1JW3YxDgcRAkYnNumwfLHv7ldFvtVaG+uGMr6emT0z82mN4kIAtdLB4IR8UmSx33kg4wkB4Td//NExLgTEZqQAN4ElEynz7P/f29nJf097z+TnBwxEnyn2y69hzdZsJm5o06+tLnABWL22p/WyBQsam/G0+5llA8HT0WrRtAarmGKSmlQiETHa7Ko/KnwVKkFle5ymeTD//NExL4gOhKcAM5WmP6ggJt/1cLxz1l56WZLhdRM6giRgWBkynBtdALtSnFAMsuQwgkh84/IyhkLnLynUtczEPAWHiL9HeYzyqdH/jr5YBeFttEVgk39vomUmfhsOgGj//NExJAfMgqkAM4SmAq29FzNm2tzqJmvrcLluZjllg4WNz4xlb/4Vvz/z++4+UlkEJnYSu3+tra3pv7NA67Goe9+6mr6QDZyXatINwUKluVA7SjZJARYtUEtY2r3Yept//NExGYSUa68AIvMlF7jyv40M/aTqwb8ayIJ78y2Ddvj2Q21myUC53L2SzW2i6WLY8JTiO6nV//9dbKZSIHRBruXQukMA+1IfA9pdwcJrTugv5Uf9D/0pv88XQSaV8AC//NExG8SGXK4AJtSlJNV1gCB1j60qQGqYa0Ute/cjzhMQHJWw68kFl2U2KS5//R/doyvUtajodQE7JxNOXgFjJHWcBbaPguL20f/53/r/zrefIg7ra5A1B0Z240GwgS1//NExHkTKW60AJtSlPbyAHwfrbLkzZzxMTMlzpAYHdzv9v/T+s3V/D+2Wnjc0nw1jXL1d5xwvzwqW9G+//1/bzyV0ZQHDiRQgTBIScblSIIMUjcqGjldVG3nDx2sfBUW//NExH8RSWq0AJHWlCrt3b//90C3j71R+3Qq7nzdgq5EtV8OXFO1wWdcNfyt7/b/+f/+f//jcf7FaqFltQDaElM6oZNEzMqL7LY9HESpaHIO3CEw4/ou//V+wXIct011//NExIwRiaqwAMnOlGcCDYgZ0US8VQWIvqG+g5uNf7ev0r/7/4Xv6RL7bksUh1n7afHofj7Lpg1n6917eKXvdHmK3dH//9y0XDnMov9qFXbUENSctSC1AKkPPiOS8DBZ//NExJgQ6XKwAMFSlOVL/bz/p9T9Ro7qrEnIZoggiEkIa0lsPQhOpayeQr5cWi9zPSGqzG2r///twyKPV1+swn7ggoYINaUL9AVY39R6ALFvQZATiH56N0NP5pAZ3hX///NExKcQkYqwAJlWlDO450yuvN5bSDcGhYeXLycaL32hKXpDy3HSqJ/waFah58SgMg46v6b3J0HwWnsUgbWLeo8BUNbHgQBpk9ROZ8ZflAfvTI7I4YwEt7qfIFV2PjUI//NExLcQ6YK0AJnalNFupIap28E97NsD0clXVn6iZdR5cn9H//019Y/AYZbzoEpHO/DEFzN9Q1AijILiNY+lNPdAl09UyL5fT1YnJEDHKmB+TFTcSt/0svD10yU1CHtE//NExMYR8WK4AIqYlIZYwiFNff70yT2qdpX6QNAoM6LD5GMLm9WXUI44+aP1YACQ5FTe2V2oInzuQ/Yce+ZV2hDYgYxkmEppc2nQVuaeQKsb4ZAr4MX0R+m28juLzCY8//NExNERGV68AJHWlKKi5dIdaMIo+j///s/9KrY/w9JsfWvi1DBZdN7mry7oJa3mOwMYalGxHCM2mm6ywe7tU3fQKsigPJIWb6MBD0V9UOHT2V8VLNH5eaVxZjaNQotJ//NExN8RUVrAAGtSlej2Lwq1xgfOtPB08YUvb///qvv6kT4oVPrGeplOec8FsVKWNBSRlynDbMAggsCtULdDUTJDhVhIblOLESdiiQyAkUEYRs8KyNpOcJqLv19XUI5a//NExOwVGWa8AIPSlFG168NwvHVUUQedo4660v/ud9aAxwI+V16kxPSozneUkY7Jv62uifi4NF96fMUCJufLEtJVC5tu1ARBYHY8qhKDUZTtas28WpIrJ8SpJGRY2GZc//NExOoVcWa8AHvSlMuDnDNvTAtn1qI8DCCIOTOsdYkSKf+sIimDF7n/8MpOo4Pxy5h2Cobjfd/qXOk9kMTielAsBRAPyZtETI/ueplL1eVTIX0ox8mY6NG3dyeCIIHx//NExOcUcVLAAHvSlWJi6jrXJ/9//9beyf238wpSumgCNAyEw4us0BDy4/vuxDp9fN4LkM2DWXO7nLHZqWiWbXO6miwflg4IRyLqOGjtx/4gHXVH1jVh5hpGELPrm00s//NExOgSOXa8AIvQlLNIDhxiHP+///96+7/oXXyZCXhcQyQbLxPAn5sXi4ocKii1zbLawuE8GA4RFozn9LsmZ1yX1OTgCmwLKaREt5w92Xf94jLu77OO/dsN0PzCCAWD//NExPIW2W6wAJYSlCZEaSaLu51//9l+/dkK1940pCCAClO3r90YB6ktek0O7FExNWfZpTz0s0lycexpAgco02m0jIKOqPelmThGd/IznNYXxOdKFjAJLKjxrAOBrFyt//NExOkUQX60AGvQlJ20HMb/2XlWqoqEEonhIQSqmSzmoGlN+tQ2d5d9qTq7VCqT2Nwm0hR6pBQ1WDd+fzlXRpj4JEcmSClxPiCfp/HUzKwnxQqlh0/aoUtmvL2vr54e//NExOsUoWasAJPMlFWM2olJ4jAzPYP8L2fVYW2ApI8bebSM7mrpGreM1g5evbW/pvXgP8f41u3kZNZxnOsxfauv//8e+cYxeLvFvq//hVexgwLHlAzDTGdVJIYp0suN//NExOsToSasAU9IAOVarY0FWva/ELdoWt2xu0KCjmbkVFTlgoWlQdAVFhBBaII7vVpVVr6//++G/4bj+YZl4vXVdV/lRU870UqPStbvqTeE2IUdSuuwvdVevUc7EjgU//NExO8lasKYAZh4ACTiwDhYTGf/nGy+JAZyuVBodQlPNEWWDsFuV+gS+gioGvEri0rUeBp///+d/lkQhBDoUjUNYoHMQDBfgUMDBBxDFZXaBqohaKVph0g1VRaKVph0//NExKwR8bIsAc9AANVVVVdNNNNVVVVdNNNNVVVVdNNNNVVVVdNNNNVVVVf000pMQU1FMy4xMDCqqqqqqqqqqqqqqqqqqqqqqqqqqqqqqqqqqqqqqqqqqqqqEoFgEA8N//NExLcPsM30AHmKcARE5IjIziE0eNoJwQTadh6Uq4uHKlaaFw7TSkE4PKNJIj00Lh2dsx2dqyjjiHSymReZGRkTpWVhIsWAB4rKKGEOlYjIzSmTymZGjxWGEC0eVlHF//NExMsRqEzwAGMEJYh0sUUMIcIirH//mTUuhSl7LgpCwKef0pDKNSIKtiw4AnRZIYhYgMAzhFOFxNP6ymo5kCJG6SAWcA2Ly5AmEViE11kNLPAegm5ZDUUJhELBoPhG//NExKwAAANIAAAAABY1UEQPMir1GV1GQHSqAbQXQhYApBUjFkUqpwGX3NROPJJAoYVaQhmFJmVlyVn3KWx/WaEzwqKnVHt6wEgjJZ4idKgIjEuVgJ6CvWGp1jipFbod//NExP8Zem3QAEmGuEQqIoGAvJQVSsNZKzyJ0rU28JKgQRdNPhg7WGltIdCG6QnFoJEQUULIJxbGmlWztJwkSIJoXFs7s7PUnGlmXnaTiyzLztJxZcH1CwuysVb/9YoJ//NExOwUyNIsAHmGcA0/1igs/8U6hXWKcWFdYpqFlUxBTUUzLjEwMFVVVVVVVVVVVVVVVVVVVVVVVVVVVVVVVVVVVVVVVVVVVVVVVVVVVVVVVVVVVVVVVVVVTEFNRTMu//NExOsVGLIUAHmSTDEwMFVVVVVVVVVVVVVVVVVVVVVVVVVVVVVVVVVVVVVVVVVVVVVVVVVVVVVVVVVVVVVVVVVVVVVVVVVVVVVVVVVVVVVVVVVVVVVVVVVVVVVVVVVV//NExOkVESmQAMGMcFVVVVVVVVVVVVVVVVVVVVVVVVVVVVVVVVVVVVVVVVVVVVVVVVVVVVVVVVVVVVVVVVVVVVVVVVVVVVVVVVVVVVVVVVVVVVVVVVVVVVVVVVVVVVVV//NExKwAAANIAAAAAFVVVVVVVVVVVVVVVVVVVVVVVVVVVVVVVVVVVVVVVVVVVVVVVVVVVVVVVVVVVVVVVVVVVVVVVVVVVVVVVVVVVVVVVVVVVVVVVVVVVVVVVVVVVVVV\" type=\"audio/wav\" />\n",
       "                    Your browser does not support the audio element.\n",
       "                </audio>\n",
       "              "
      ],
      "text/plain": [
       "<IPython.lib.display.Audio object>"
      ]
     },
     "metadata": {},
     "output_type": "display_data"
    },
    {
     "name": "stdout",
     "output_type": "stream",
     "text": [
      "============================================================\n",
      "\n",
      "👨‍🦰 Kamu : goodbye\n",
      "1/1 [==============================] - 0s 29ms/step\n",
      "🤖 SafeBot :  Halo, ada yang bisa saya bantu? Silahkan tanya pada Saya\n"
     ]
    },
    {
     "data": {
      "text/html": [
       "\n",
       "                <audio  controls=\"controls\" autoplay=\"autoplay\">\n",
       "                    <source src=\"data:audio/wav;base64,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\" type=\"audio/wav\" />\n",
       "                    Your browser does not support the audio element.\n",
       "                </audio>\n",
       "              "
      ],
      "text/plain": [
       "<IPython.lib.display.Audio object>"
      ]
     },
     "metadata": {},
     "output_type": "display_data"
    },
    {
     "name": "stdout",
     "output_type": "stream",
     "text": [
      "============================================================\n",
      "\n",
      "👨‍🦰 Kamu : bye\n",
      "1/1 [==============================] - 0s 23ms/step\n",
      "🤖 SafeBot :  Sampai jumpa lagi!\n"
     ]
    },
    {
     "data": {
      "text/html": [
       "\n",
       "                <audio  controls=\"controls\" autoplay=\"autoplay\">\n",
       "                    <source src=\"data:audio/wav;base64,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\" type=\"audio/wav\" />\n",
       "                    Your browser does not support the audio element.\n",
       "                </audio>\n",
       "              "
      ],
      "text/plain": [
       "<IPython.lib.display.Audio object>"
      ]
     },
     "metadata": {},
     "output_type": "display_data"
    },
    {
     "name": "stdout",
     "output_type": "stream",
     "text": [
      "============================================================\n",
      "\n"
     ]
    }
   ],
   "source": [
    "# Membuat Input Chat\n",
    "while True:\n",
    "  texts_p = []\n",
    "  prediction_input = input('👨‍🦰 Kamu : ')\n",
    "  \n",
    "  # Menghapus punktuasi dan konversi ke huruf kecil\n",
    "  prediction_input = [letters.lower() for letters in prediction_input if letters not in string.punctuation]\n",
    "  prediction_input = ''.join(prediction_input)\n",
    "  texts_p.append(prediction_input)\n",
    "\n",
    "  # Tokenisasi dan Padding\n",
    "  prediction_input = tokenizer.texts_to_sequences(texts_p)\n",
    "  prediction_input = np.array(prediction_input).reshape(-1)\n",
    "  prediction_input = pad_sequences([prediction_input],input_shape)\n",
    "\n",
    "  # Mendapatkan hasil keluaran pada model \n",
    "  output = model.predict(prediction_input)\n",
    "  output = output.argmax()\n",
    "\n",
    "  # Menemukan respon sesuai data tag dan memainkan voice bot\n",
    "  response_tag = le.inverse_transform([output])[0]\n",
    "  print(\"🤖 SafeBot : \", random.choice(responses[response_tag]))\n",
    "  tts = gTTS(random.choice(responses[response_tag]), lang='id')\n",
    "  # Simpan model voice bot ke dalam Google Drive\n",
    "  tts.save('SafeBot.wav')\n",
    "  time.sleep(0.08)\n",
    "  # Load model voice bot from Google Drive\n",
    "  ipd.display(ipd.Audio('SafeBot.wav', autoplay=True))\n",
    "  print(\"=\"*60 + \"\\n\")\n",
    "  # Tambahkan respon 'goodbye' agar bot bisa berhenti\n",
    "  if response_tag == \"goodbye\":\n",
    "    break"
   ]
  },
  {
   "cell_type": "markdown",
   "id": "PpFwQ9gWmWtk",
   "metadata": {
    "id": "PpFwQ9gWmWtk"
   },
   "source": [
    "# 08 Save The Model\n",
    "\n",
    "Setelah pengujian Chatbot telah disesuaikan dengan kalimat dan jawabannya. Maka, model chatbot bisa disimpan dengan format .h5 atau .pkl (pickle) untuk penggunaan aplikasi AI Chatbot dengan website atau sistem Android. Penyimpanan file model bisa langsung secara transient atau bisa taruh di Google Drive."
   ]
  },
  {
   "cell_type": "code",
   "execution_count": 27,
   "id": "MxdDHujDmaC0",
   "metadata": {
    "colab": {
     "base_uri": "https://localhost:8080/",
     "height": 130
    },
    "id": "MxdDHujDmaC0",
    "outputId": "c24afa27-969e-46ca-c0ce-3eeef483513c"
   },
   "outputs": [
    {
     "name": "stdout",
     "output_type": "stream",
     "text": [
      "Model Saved Successfully!\n"
     ]
    }
   ],
   "source": [
    "# Simpan model dalam bentuk format file .h5 atau .pkl (pickle)\n",
    "import joblib\n",
    "joblib.dump((model), \"model_chatbot_lstm.model\")\n",
    "print('Model Saved Successfully!')"
   ]
  },
  {
   "cell_type": "code",
   "execution_count": null,
   "id": "1be60e7a",
   "metadata": {},
   "outputs": [],
   "source": []
  }
 ],
 "metadata": {
  "accelerator": "GPU",
  "colab": {
   "provenance": []
  },
  "gpuClass": "standard",
  "kernelspec": {
   "display_name": "proyek-akhir-phishing",
   "language": "python",
   "name": "myenv"
  },
  "language_info": {
   "codemirror_mode": {
    "name": "ipython",
    "version": 3
   },
   "file_extension": ".py",
   "mimetype": "text/x-python",
   "name": "python",
   "nbconvert_exporter": "python",
   "pygments_lexer": "ipython3",
   "version": "3.8.5"
  },
  "latex_envs": {
   "LaTeX_envs_menu_present": true,
   "autoclose": false,
   "autocomplete": true,
   "bibliofile": "biblio.bib",
   "cite_by": "apalike",
   "current_citInitial": 1,
   "eqLabelWithNumbers": true,
   "eqNumInitial": 1,
   "hotkeys": {
    "equation": "Ctrl-E",
    "itemize": "Ctrl-I"
   },
   "labels_anchors": false,
   "latex_user_defs": false,
   "report_style_numbering": false,
   "user_envs_cfg": false
  },
  "varInspector": {
   "cols": {
    "lenName": 16,
    "lenType": 16,
    "lenVar": 40
   },
   "kernels_config": {
    "python": {
     "delete_cmd_postfix": "",
     "delete_cmd_prefix": "del ",
     "library": "var_list.py",
     "varRefreshCmd": "print(var_dic_list())"
    },
    "r": {
     "delete_cmd_postfix": ") ",
     "delete_cmd_prefix": "rm(",
     "library": "var_list.r",
     "varRefreshCmd": "cat(var_dic_list()) "
    }
   },
   "types_to_exclude": [
    "module",
    "function",
    "builtin_function_or_method",
    "instance",
    "_Feature"
   ],
   "window_display": false
  }
 },
 "nbformat": 4,
 "nbformat_minor": 5
}
